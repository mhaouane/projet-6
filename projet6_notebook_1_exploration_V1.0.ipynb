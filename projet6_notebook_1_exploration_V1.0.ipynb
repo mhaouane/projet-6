{
 "cells": [
  {
   "cell_type": "markdown",
   "id": "cbe8d45e-abdb-4001-877d-3c0a8dbdd94b",
   "metadata": {},
   "source": [
    "# Classifiez automatiquement des biens de consommation\n",
    " 1ere partie : EDA NLP manuel  - CountVectorizer et TF-IDF\n",
    "Mission\n",
    "Ta mission est de réaliser une première étude de faisabilité d'un moteur de classification d'articles, basé sur une image et une description, pour l'automatisation de l'attribution de la catégorie de l'article.\n",
    "\n",
    "Tu dois analyser le jeu de données en réalisant un prétraitement des descriptions des produits et des images, une réduction de dimension, puis un clustering. Les résultats de la réduction de dimension et du clustering seront à présenter sous la forme de graphiques en deux dimensions, et confirmés par un calcul de similarité entre les catégories réelles et les clusters. Ces résultats illustreront le fait que les caractéristiques extraites permettent de regrouper des produits de même catégorie.\n",
    "\n",
    "Pourrais-tu nous démontrer, par cette approche de modélisation, la faisabilité de regrouper automatiquement des produits de même catégorie ?\n",
    "\n",
    "Voici les contraintes : \n",
    "\n",
    "Afin d’extraire les features texte, il sera nécessaire de mettre en œuvre : \n",
    "deux approches de type “bag-of-words”, comptage simple de mots et Tf-idf ;\n",
    "une approche de type word/sentence embedding classique avec Word2Vec (ou Glove ou FastText) ;\n",
    "une approche de type word/sentence embedding avec BERT ;\n",
    "une approche de type word/sentence embedding avec USE (Universal Sentence Encoder). "
   ]
  },
  {
   "cell_type": "markdown",
   "id": "c62f5267-9f38-4e6b-b477-559ac27f5375",
   "metadata": {},
   "source": [
    "# Import"
   ]
  },
  {
   "cell_type": "code",
   "execution_count": 1,
   "id": "bdd5e081-bb22-4e7b-a95d-bf8745b1bef8",
   "metadata": {},
   "outputs": [],
   "source": [
    "import os, sys, time, random\n",
    "import pandas as pd\n",
    "import numpy as np\n",
    "\n",
    "import os\n",
    "import random\n",
    "import re #Opération de base sur les expressions rationnelles\n",
    "import string\n",
    "\n",
    "#NLP\n",
    "import nltk\n",
    "from nltk.corpus import stopwords\n",
    "\n",
    "from nltk.tokenize import sent_tokenize, word_tokenize, RegexpTokenizer, wordpunct_tokenize\n",
    "#from nltk import clean_html\n",
    "# Lemmatizer (base d'un mot)\n",
    "from nltk import chunk \n",
    "from nltk.corpus import words\n",
    "from nltk.corpus import stopwords\n",
    "\n",
    "from nltk.stem import *\n",
    "from nltk.stem import PorterStemmer\n",
    "from nltk.util import clean_html\n",
    "\n",
    "\n",
    "#Viz - Représentation graphique\n",
    "%matplotlib inline\n",
    "import matplotlib.pyplot as plt\n",
    "import seaborn as sns\n",
    "from wordcloud import WordCloud\n",
    "from PIL import Image\n",
    "\n",
    "#Exécuter le code sur plusieurs CPU pour gagener du temps\n",
    "from pandarallel import pandarallel\n",
    "\n",
    "import re #regex library expressions régulières\n",
    "\n",
    "from sklearn import preprocessing\n",
    "\n",
    "from sklearn.compose import ColumnTransformer, make_column_transformer\n",
    "from sklearn.cluster import KMeans, DBSCAN\n",
    "from sklearn.metrics import silhouette_score, pairwise\n",
    "from sklearn.metrics.pairwise import distance_metrics\n",
    "\n",
    "from scipy.cluster.hierarchy import dendrogram, linkage\n",
    "from sklearn.manifold import TSNE\n",
    "\n",
    "from sklearn import preprocessing, decomposition, manifold, metrics, datasets, cluster\n",
    "from sklearn.decomposition import PCA\n",
    "\n",
    "from sklearn.preprocessing import StandardScaler, MaxAbsScaler\n",
    "from sklearn.pipeline import Pipeline, make_pipeline\n",
    "from sklearn.metrics import adjusted_rand_score\n",
    "\n",
    "from gensim.models import Word2Vec\n",
    "\n",
    "from nltk import word_tokenize\n",
    "from nltk.corpus import stopwords\n",
    "\n",
    "from sklearn.cluster import MiniBatchKMeans\n",
    "from sklearn.metrics import silhouette_samples, silhouette_score\n",
    "\n",
    "from sklearn.feature_extraction.text import CountVectorizer\n",
    "\n",
    "#nltk.download(\"stopwords\")\n",
    "#nltk.download(\"punkt\")\n",
    "#!pip install gtts\n",
    "\n",
    "SEED = 42\n",
    "random.seed(SEED)\n",
    "os.environ[\"PYTHONHASHSEED\"] = str(SEED)\n",
    "np.random.seed(SEED)\n",
    "\n",
    "import logging\n",
    "\n",
    "logging.disable(logging.WARNING) # disable WARNING, INFO and DEBUG logging everywhere"
   ]
  },
  {
   "cell_type": "code",
   "execution_count": 2,
   "id": "7fca7211-c7cb-472e-b22c-e5a1466e4f9f",
   "metadata": {},
   "outputs": [],
   "source": [
    "from P6_NLP_functions import *\n",
    "#Relancer le noyau Anaconda qd on crée la fct pour la 1ere fois"
   ]
  },
  {
   "cell_type": "code",
   "execution_count": 3,
   "id": "edfa42f1-651e-401c-a89e-b14e3d0be14a",
   "metadata": {},
   "outputs": [
    {
     "name": "stdout",
     "output_type": "stream",
     "text": [
      "INFO: Pandarallel will run on 6 workers.\n",
      "INFO: Pandarallel will use standard multiprocessing data transfer (pipe) to transfer data between the main process and workers.\n",
      "\n",
      "WARNING: You are on Windows. If you detect any issue with pandarallel, be sure you checked out the Troubleshooting page:\n",
      "https://nalepae.github.io/pandarallel/troubleshooting/\n"
     ]
    }
   ],
   "source": [
    "#Initialiser pandarallel pour travailler sur 6 CPU\n",
    "pandarallel.initialize(progress_bar=True, \n",
    "                       nb_workers=6\n",
    "                      # verbose=1\n",
    "                      )"
   ]
  },
  {
   "cell_type": "markdown",
   "id": "94a39593-53c6-4efb-8f1e-07d017cadb4d",
   "metadata": {},
   "source": [
    "Setting pandas display and matplotlib options."
   ]
  },
  {
   "cell_type": "code",
   "execution_count": 4,
   "id": "5427bc65-ed03-403a-9e04-66090f5b9b6e",
   "metadata": {},
   "outputs": [],
   "source": [
    "# to show more cells while displaying pandas dataframe\n",
    "dictPdSettings = {'display.max_rows': 500, 'display.width': 100,\n",
    "                  'display.max_colwidth': 100,\n",
    "                  'display.float_format': lambda x: '%.2f' % x}\n",
    "for k,v in dictPdSettings.items():\n",
    "  pd.set_option(k,v)\n",
    "\n",
    "# to set the figures background to white\n",
    "plt.rcParams['figure.facecolor']='w'"
   ]
  },
  {
   "cell_type": "markdown",
   "id": "b0ab93bf-efbd-4b24-8602-b21f437e1b0e",
   "metadata": {},
   "source": [
    "To play audio text-to-speech during execution."
   ]
  },
  {
   "cell_type": "markdown",
   "id": "43a656ac-aa8e-4fe7-b351-3e9a7bf96100",
   "metadata": {},
   "source": [
    "Graphic and option"
   ]
  },
  {
   "cell_type": "code",
   "execution_count": 5,
   "id": "a7c8369f-c752-4636-9b29-84543c20de7f",
   "metadata": {},
   "outputs": [],
   "source": [
    "sns.set()"
   ]
  },
  {
   "cell_type": "markdown",
   "id": "855b0049-cf79-43d4-bdd3-1a055797c93c",
   "metadata": {},
   "source": [
    "## Objectifs du 27/01:\n",
    "1- Concaténer nom Produit et Description.Pourquoi? En concaténant, on se retrouve avec des tokens en double    \n",
    "Catégoire 1 : Nb de classe par produit\n",
    "150 prd/ classe : Un bon équilibre de classe pour ne déséquilibrer l'analyse et les algorithmes\n",
    "\n",
    "2-Métode Count Vectorizer \n",
    "https://scikit-learn.org/stable/modules/generated/sklearn.feature_extraction.text.CountVectorizer.html\n",
    "\n",
    "Descrption/Bow : récupérer les descriptions les vectoriser avec contvectoriser et stocker dans X\n",
    "\n",
    "Category ce sont les clusters qu'on va essayer de reproduire : label à encoder réprésenter Babay vecteur (1, 0, , 0, ..), santé (0,1, ..) à stocker ds y et à prédire. ce sont les clustrs réel,\n",
    "\n",
    "3 - Utiliser le KMeans pour  prédire\n",
    "\n",
    "Prendre Le Kmenas K = 7 - travailler le Kmeans avec 7 et récuperer les clusters de 0 à 6 artificiels.\n",
    "\n",
    "4 - Comparer les vecteurs artificiels aux vecteurs réels avec ARI\n",
    "Conclure à quel point le Kmeans est arrivé à produire le réel.\n",
    "\n",
    "5- Visualiser avec TSNE\n",
    "\n",
    "Répartitions à analyser\n",
    "----------------------------------------\n",
    "\n",
    "2e méthode TF IDF à utliser et qui doit produire de meielleurs résultats que CountVectoriser\n",
    "https://scikit-learn.org/stable/modules/generated/sklearn.feature_extraction.text.TfidfVectorizer.html\n",
    "\n",
    "Refaire idem que la méthode du CountVectorizer\n",
    "----------------------------------------*\n",
    "\n",
    "3e méthode : \n",
    "Word2vec\n",
    "https://dylancastillo.co/nlp-snippets-cluster-documents-using-word2vec/\n",
    "\n",
    "-----------------------------------------------------------------\n",
    "4e méthode : BERT\n",
    "https://techblog.assignar.com/how-to-use-bert-sentence-embedding-for-clustering-text/\n",
    "\n",
    "Spacy\n",
    "https://spacy.io/usage/spacy-101\n",
    "\n",
    "Il faut comprendre cette vidéo la rupture entre les stats et l'embedding senss global \n",
    "https://www.youtube.com/watch?v=CsQNF9s78Nc&ab_channel=ScienceEtonnante"
   ]
  },
  {
   "cell_type": "markdown",
   "id": "cf1c380c-ee95-4544-9a90-3826b15b281d",
   "metadata": {},
   "source": [
    "https://spacy.io/usage/spacy-101\n",
    "\n",
    "Il faut comprendre cette vidéo la rupture entre les stats et l'embedding senss global\n",
    "https://www.youtube.com/watch?v=CsQNF9s78Nc&ab_channel=ScienceEtonnante"
   ]
  },
  {
   "cell_type": "markdown",
   "id": "5aa8ea8a-2154-431b-a9fb-e28b3b9f4c15",
   "metadata": {},
   "source": [
    "Pourquoi concaténer le nom produit avec la description. Le nom est souvent présent dans la description : \n",
    "Comment transformer 7 colonnes catégories en 1 seule target? Faut-il segmenter avant? ou les nommer 1, 2 ..7\n",
    "Une fois vectorié que faire dans l'ordre\n",
    "\n",
    "Ne pas filtrer mots anglais et ni les alphas"
   ]
  },
  {
   "cell_type": "markdown",
   "id": "4f08935e-962c-49ee-a1b7-711aa43f4f6c",
   "metadata": {},
   "source": [
    "We have to predict tweet if disaster predict 1 else 0"
   ]
  },
  {
   "cell_type": "markdown",
   "id": "8a0fd153-466a-4a4a-b1f4-43f788acfa48",
   "metadata": {
    "tags": []
   },
   "source": [
    "# Data Assessment"
   ]
  },
  {
   "cell_type": "code",
   "execution_count": 6,
   "id": "ba068243-6f9d-422c-b024-aceca2ebae97",
   "metadata": {},
   "outputs": [],
   "source": [
    "path = 'C:/Users/ADSL/Documents/Projet 6/datas/' # \n",
    "data= pd.read_csv(path + \"flipkart_com-ecommerce_sample_1050.csv\",\n",
    "                 sep=',', \n",
    "                 index_col = 'uniq_id',\n",
    "                 encoding ='utf-8')"
   ]
  },
  {
   "cell_type": "code",
   "execution_count": 7,
   "id": "323253c2-df26-4bc8-944c-2a2a3cfb763b",
   "metadata": {},
   "outputs": [
    {
     "data": {
      "text/plain": [
       "(1050, 14)"
      ]
     },
     "execution_count": 7,
     "metadata": {},
     "output_type": "execute_result"
    }
   ],
   "source": [
    "data.shape"
   ]
  },
  {
   "cell_type": "code",
   "execution_count": 8,
   "id": "95316dc7-58d3-47a5-a26e-48a98301b348",
   "metadata": {},
   "outputs": [
    {
     "name": "stdout",
     "output_type": "stream",
     "text": [
      "<class 'pandas.core.frame.DataFrame'>\n",
      "Index: 1050 entries, 55b85ea15a1536d46b7190ad6fff8ce7 to f2f027ad6a6df617c9f125173da71e44\n",
      "Data columns (total 14 columns):\n",
      " #   Column                   Non-Null Count  Dtype  \n",
      "---  ------                   --------------  -----  \n",
      " 0   crawl_timestamp          1050 non-null   object \n",
      " 1   product_url              1050 non-null   object \n",
      " 2   product_name             1050 non-null   object \n",
      " 3   product_category_tree    1050 non-null   object \n",
      " 4   pid                      1050 non-null   object \n",
      " 5   retail_price             1049 non-null   float64\n",
      " 6   discounted_price         1049 non-null   float64\n",
      " 7   image                    1050 non-null   object \n",
      " 8   is_FK_Advantage_product  1050 non-null   bool   \n",
      " 9   description              1050 non-null   object \n",
      " 10  product_rating           1050 non-null   object \n",
      " 11  overall_rating           1050 non-null   object \n",
      " 12  brand                    712 non-null    object \n",
      " 13  product_specifications   1049 non-null   object \n",
      "dtypes: bool(1), float64(2), object(11)\n",
      "memory usage: 115.9+ KB\n"
     ]
    }
   ],
   "source": [
    "data.info()"
   ]
  },
  {
   "cell_type": "code",
   "execution_count": 9,
   "id": "bd1def48-8587-4f14-b806-1a03e3fc9351",
   "metadata": {},
   "outputs": [
    {
     "data": {
      "text/html": [
       "<div>\n",
       "<style scoped>\n",
       "    .dataframe tbody tr th:only-of-type {\n",
       "        vertical-align: middle;\n",
       "    }\n",
       "\n",
       "    .dataframe tbody tr th {\n",
       "        vertical-align: top;\n",
       "    }\n",
       "\n",
       "    .dataframe thead th {\n",
       "        text-align: right;\n",
       "    }\n",
       "</style>\n",
       "<table border=\"1\" class=\"dataframe\">\n",
       "  <thead>\n",
       "    <tr style=\"text-align: right;\">\n",
       "      <th></th>\n",
       "      <th>crawl_timestamp</th>\n",
       "      <th>product_url</th>\n",
       "      <th>product_name</th>\n",
       "      <th>product_category_tree</th>\n",
       "      <th>pid</th>\n",
       "      <th>retail_price</th>\n",
       "      <th>discounted_price</th>\n",
       "      <th>image</th>\n",
       "      <th>is_FK_Advantage_product</th>\n",
       "      <th>description</th>\n",
       "      <th>product_rating</th>\n",
       "      <th>overall_rating</th>\n",
       "      <th>brand</th>\n",
       "      <th>product_specifications</th>\n",
       "    </tr>\n",
       "    <tr>\n",
       "      <th>uniq_id</th>\n",
       "      <th></th>\n",
       "      <th></th>\n",
       "      <th></th>\n",
       "      <th></th>\n",
       "      <th></th>\n",
       "      <th></th>\n",
       "      <th></th>\n",
       "      <th></th>\n",
       "      <th></th>\n",
       "      <th></th>\n",
       "      <th></th>\n",
       "      <th></th>\n",
       "      <th></th>\n",
       "      <th></th>\n",
       "    </tr>\n",
       "  </thead>\n",
       "  <tbody>\n",
       "    <tr>\n",
       "      <th>55b85ea15a1536d46b7190ad6fff8ce7</th>\n",
       "      <td>2016-04-30 03:22:56 +0000</td>\n",
       "      <td>http://www.flipkart.com/elegance-polyester-multicolor-abstract-eyelet-door-curtain/p/itmeg7bkzdg...</td>\n",
       "      <td>Elegance Polyester Multicolor Abstract Eyelet Door Curtain</td>\n",
       "      <td>[\"Home Furnishing &gt;&gt; Curtains &amp; Accessories &gt;&gt; Curtains &gt;&gt; Elegance Polyester Multicolor Abstrac...</td>\n",
       "      <td>CRNEG7BKMFFYHQ8Z</td>\n",
       "      <td>1899.00</td>\n",
       "      <td>899.00</td>\n",
       "      <td>55b85ea15a1536d46b7190ad6fff8ce7.jpg</td>\n",
       "      <td>False</td>\n",
       "      <td>Key Features of Elegance Polyester Multicolor Abstract Eyelet Door Curtain Floral Curtain,Elegan...</td>\n",
       "      <td>No rating available</td>\n",
       "      <td>No rating available</td>\n",
       "      <td>Elegance</td>\n",
       "      <td>{\"product_specification\"=&gt;[{\"key\"=&gt;\"Brand\", \"value\"=&gt;\"Elegance\"}, {\"key\"=&gt;\"Designed For\", \"value...</td>\n",
       "    </tr>\n",
       "    <tr>\n",
       "      <th>7b72c92c2f6c40268628ec5f14c6d590</th>\n",
       "      <td>2016-04-30 03:22:56 +0000</td>\n",
       "      <td>http://www.flipkart.com/sathiyas-cotton-bath-towel/p/itmegfzhxbyucwgn?pid=BTWEGFZHGBXPHZUH</td>\n",
       "      <td>Sathiyas Cotton Bath Towel</td>\n",
       "      <td>[\"Baby Care &gt;&gt; Baby Bath &amp; Skin &gt;&gt; Baby Bath Towels &gt;&gt; Sathiyas Baby Bath Towels &gt;&gt; Sathiyas Cot...</td>\n",
       "      <td>BTWEGFZHGBXPHZUH</td>\n",
       "      <td>600.00</td>\n",
       "      <td>449.00</td>\n",
       "      <td>7b72c92c2f6c40268628ec5f14c6d590.jpg</td>\n",
       "      <td>False</td>\n",
       "      <td>Specifications of Sathiyas Cotton Bath Towel (3 Bath Towel, Red, Yellow, Blue) Bath Towel Featur...</td>\n",
       "      <td>No rating available</td>\n",
       "      <td>No rating available</td>\n",
       "      <td>Sathiyas</td>\n",
       "      <td>{\"product_specification\"=&gt;[{\"key\"=&gt;\"Machine Washable\", \"value\"=&gt;\"Yes\"}, {\"key\"=&gt;\"Material\", \"val...</td>\n",
       "    </tr>\n",
       "    <tr>\n",
       "      <th>64d5d4a258243731dc7bbb1eef49ad74</th>\n",
       "      <td>2016-04-30 03:22:56 +0000</td>\n",
       "      <td>http://www.flipkart.com/eurospa-cotton-terry-face-towel-set/p/itmeg6shbrpubhca?pid=BTWEG6SHXTDB2A2Y</td>\n",
       "      <td>Eurospa Cotton Terry Face Towel Set</td>\n",
       "      <td>[\"Baby Care &gt;&gt; Baby Bath &amp; Skin &gt;&gt; Baby Bath Towels &gt;&gt; Eurospa Baby Bath Towels &gt;&gt; Eurospa Cotto...</td>\n",
       "      <td>BTWEG6SHXTDB2A2Y</td>\n",
       "      <td>NaN</td>\n",
       "      <td>NaN</td>\n",
       "      <td>64d5d4a258243731dc7bbb1eef49ad74.jpg</td>\n",
       "      <td>False</td>\n",
       "      <td>Key Features of Eurospa Cotton Terry Face Towel Set Size: small Height: 9 inch GSM: 360,Eurospa ...</td>\n",
       "      <td>No rating available</td>\n",
       "      <td>No rating available</td>\n",
       "      <td>Eurospa</td>\n",
       "      <td>{\"product_specification\"=&gt;[{\"key\"=&gt;\"Material\", \"value\"=&gt;\"Cotton Terry\"}, {\"key\"=&gt;\"Design\", \"valu...</td>\n",
       "    </tr>\n",
       "    <tr>\n",
       "      <th>d4684dcdc759dd9cdf41504698d737d8</th>\n",
       "      <td>2016-06-20 08:49:52 +0000</td>\n",
       "      <td>http://www.flipkart.com/santosh-royal-fashion-cotton-printed-king-sized-double-bedsheet/p/itmejt...</td>\n",
       "      <td>SANTOSH ROYAL FASHION Cotton Printed King sized Double Bedsheet</td>\n",
       "      <td>[\"Home Furnishing &gt;&gt; Bed Linen &gt;&gt; Bedsheets &gt;&gt; SANTOSH ROYAL FASHION Bedsheets &gt;&gt; SANTOSH ROYAL ...</td>\n",
       "      <td>BDSEJT9UQWHDUBH4</td>\n",
       "      <td>2699.00</td>\n",
       "      <td>1299.00</td>\n",
       "      <td>d4684dcdc759dd9cdf41504698d737d8.jpg</td>\n",
       "      <td>False</td>\n",
       "      <td>Key Features of SANTOSH ROYAL FASHION Cotton Printed King sized Double Bedsheet Royal Bedsheet P...</td>\n",
       "      <td>No rating available</td>\n",
       "      <td>No rating available</td>\n",
       "      <td>SANTOSH ROYAL FASHION</td>\n",
       "      <td>{\"product_specification\"=&gt;[{\"key\"=&gt;\"Brand\", \"value\"=&gt;\"SANTOSH ROYAL FASHION\"}, {\"key\"=&gt;\"Machine ...</td>\n",
       "    </tr>\n",
       "    <tr>\n",
       "      <th>6325b6870c54cd47be6ebfbffa620ec7</th>\n",
       "      <td>2016-06-20 08:49:52 +0000</td>\n",
       "      <td>http://www.flipkart.com/jaipur-print-cotton-floral-king-sized-double-bedsheet/p/itmejthnwahrnt7v...</td>\n",
       "      <td>Jaipur Print Cotton Floral King sized Double Bedsheet</td>\n",
       "      <td>[\"Home Furnishing &gt;&gt; Bed Linen &gt;&gt; Bedsheets &gt;&gt; Jaipur Print Bedsheets &gt;&gt; Jaipur Print Cotton Flo...</td>\n",
       "      <td>BDSEJTHNGWVGWWQU</td>\n",
       "      <td>2599.00</td>\n",
       "      <td>698.00</td>\n",
       "      <td>6325b6870c54cd47be6ebfbffa620ec7.jpg</td>\n",
       "      <td>False</td>\n",
       "      <td>Key Features of Jaipur Print Cotton Floral King sized Double Bedsheet 100% cotton,Jaipur Print C...</td>\n",
       "      <td>No rating available</td>\n",
       "      <td>No rating available</td>\n",
       "      <td>Jaipur Print</td>\n",
       "      <td>{\"product_specification\"=&gt;[{\"key\"=&gt;\"Machine Washable\", \"value\"=&gt;\"Yes\"}, {\"key\"=&gt;\"Brand\", \"value\"...</td>\n",
       "    </tr>\n",
       "  </tbody>\n",
       "</table>\n",
       "</div>"
      ],
      "text/plain": [
       "                                            crawl_timestamp  \\\n",
       "uniq_id                                                       \n",
       "55b85ea15a1536d46b7190ad6fff8ce7  2016-04-30 03:22:56 +0000   \n",
       "7b72c92c2f6c40268628ec5f14c6d590  2016-04-30 03:22:56 +0000   \n",
       "64d5d4a258243731dc7bbb1eef49ad74  2016-04-30 03:22:56 +0000   \n",
       "d4684dcdc759dd9cdf41504698d737d8  2016-06-20 08:49:52 +0000   \n",
       "6325b6870c54cd47be6ebfbffa620ec7  2016-06-20 08:49:52 +0000   \n",
       "\n",
       "                                                                                                                          product_url  \\\n",
       "uniq_id                                                                                                                                 \n",
       "55b85ea15a1536d46b7190ad6fff8ce7  http://www.flipkart.com/elegance-polyester-multicolor-abstract-eyelet-door-curtain/p/itmeg7bkzdg...   \n",
       "7b72c92c2f6c40268628ec5f14c6d590           http://www.flipkart.com/sathiyas-cotton-bath-towel/p/itmegfzhxbyucwgn?pid=BTWEGFZHGBXPHZUH   \n",
       "64d5d4a258243731dc7bbb1eef49ad74  http://www.flipkart.com/eurospa-cotton-terry-face-towel-set/p/itmeg6shbrpubhca?pid=BTWEG6SHXTDB2A2Y   \n",
       "d4684dcdc759dd9cdf41504698d737d8  http://www.flipkart.com/santosh-royal-fashion-cotton-printed-king-sized-double-bedsheet/p/itmejt...   \n",
       "6325b6870c54cd47be6ebfbffa620ec7  http://www.flipkart.com/jaipur-print-cotton-floral-king-sized-double-bedsheet/p/itmejthnwahrnt7v...   \n",
       "\n",
       "                                                                                     product_name  \\\n",
       "uniq_id                                                                                             \n",
       "55b85ea15a1536d46b7190ad6fff8ce7       Elegance Polyester Multicolor Abstract Eyelet Door Curtain   \n",
       "7b72c92c2f6c40268628ec5f14c6d590                                       Sathiyas Cotton Bath Towel   \n",
       "64d5d4a258243731dc7bbb1eef49ad74                              Eurospa Cotton Terry Face Towel Set   \n",
       "d4684dcdc759dd9cdf41504698d737d8  SANTOSH ROYAL FASHION Cotton Printed King sized Double Bedsheet   \n",
       "6325b6870c54cd47be6ebfbffa620ec7            Jaipur Print Cotton Floral King sized Double Bedsheet   \n",
       "\n",
       "                                                                                                                product_category_tree  \\\n",
       "uniq_id                                                                                                                                 \n",
       "55b85ea15a1536d46b7190ad6fff8ce7  [\"Home Furnishing >> Curtains & Accessories >> Curtains >> Elegance Polyester Multicolor Abstrac...   \n",
       "7b72c92c2f6c40268628ec5f14c6d590  [\"Baby Care >> Baby Bath & Skin >> Baby Bath Towels >> Sathiyas Baby Bath Towels >> Sathiyas Cot...   \n",
       "64d5d4a258243731dc7bbb1eef49ad74  [\"Baby Care >> Baby Bath & Skin >> Baby Bath Towels >> Eurospa Baby Bath Towels >> Eurospa Cotto...   \n",
       "d4684dcdc759dd9cdf41504698d737d8  [\"Home Furnishing >> Bed Linen >> Bedsheets >> SANTOSH ROYAL FASHION Bedsheets >> SANTOSH ROYAL ...   \n",
       "6325b6870c54cd47be6ebfbffa620ec7  [\"Home Furnishing >> Bed Linen >> Bedsheets >> Jaipur Print Bedsheets >> Jaipur Print Cotton Flo...   \n",
       "\n",
       "                                               pid  retail_price  discounted_price  \\\n",
       "uniq_id                                                                              \n",
       "55b85ea15a1536d46b7190ad6fff8ce7  CRNEG7BKMFFYHQ8Z       1899.00            899.00   \n",
       "7b72c92c2f6c40268628ec5f14c6d590  BTWEGFZHGBXPHZUH        600.00            449.00   \n",
       "64d5d4a258243731dc7bbb1eef49ad74  BTWEG6SHXTDB2A2Y           NaN               NaN   \n",
       "d4684dcdc759dd9cdf41504698d737d8  BDSEJT9UQWHDUBH4       2699.00           1299.00   \n",
       "6325b6870c54cd47be6ebfbffa620ec7  BDSEJTHNGWVGWWQU       2599.00            698.00   \n",
       "\n",
       "                                                                 image  is_FK_Advantage_product  \\\n",
       "uniq_id                                                                                           \n",
       "55b85ea15a1536d46b7190ad6fff8ce7  55b85ea15a1536d46b7190ad6fff8ce7.jpg                    False   \n",
       "7b72c92c2f6c40268628ec5f14c6d590  7b72c92c2f6c40268628ec5f14c6d590.jpg                    False   \n",
       "64d5d4a258243731dc7bbb1eef49ad74  64d5d4a258243731dc7bbb1eef49ad74.jpg                    False   \n",
       "d4684dcdc759dd9cdf41504698d737d8  d4684dcdc759dd9cdf41504698d737d8.jpg                    False   \n",
       "6325b6870c54cd47be6ebfbffa620ec7  6325b6870c54cd47be6ebfbffa620ec7.jpg                    False   \n",
       "\n",
       "                                                                                                                          description  \\\n",
       "uniq_id                                                                                                                                 \n",
       "55b85ea15a1536d46b7190ad6fff8ce7  Key Features of Elegance Polyester Multicolor Abstract Eyelet Door Curtain Floral Curtain,Elegan...   \n",
       "7b72c92c2f6c40268628ec5f14c6d590  Specifications of Sathiyas Cotton Bath Towel (3 Bath Towel, Red, Yellow, Blue) Bath Towel Featur...   \n",
       "64d5d4a258243731dc7bbb1eef49ad74  Key Features of Eurospa Cotton Terry Face Towel Set Size: small Height: 9 inch GSM: 360,Eurospa ...   \n",
       "d4684dcdc759dd9cdf41504698d737d8  Key Features of SANTOSH ROYAL FASHION Cotton Printed King sized Double Bedsheet Royal Bedsheet P...   \n",
       "6325b6870c54cd47be6ebfbffa620ec7  Key Features of Jaipur Print Cotton Floral King sized Double Bedsheet 100% cotton,Jaipur Print C...   \n",
       "\n",
       "                                       product_rating       overall_rating                  brand  \\\n",
       "uniq_id                                                                                             \n",
       "55b85ea15a1536d46b7190ad6fff8ce7  No rating available  No rating available               Elegance   \n",
       "7b72c92c2f6c40268628ec5f14c6d590  No rating available  No rating available               Sathiyas   \n",
       "64d5d4a258243731dc7bbb1eef49ad74  No rating available  No rating available                Eurospa   \n",
       "d4684dcdc759dd9cdf41504698d737d8  No rating available  No rating available  SANTOSH ROYAL FASHION   \n",
       "6325b6870c54cd47be6ebfbffa620ec7  No rating available  No rating available           Jaipur Print   \n",
       "\n",
       "                                                                                                               product_specifications  \n",
       "uniq_id                                                                                                                                \n",
       "55b85ea15a1536d46b7190ad6fff8ce7  {\"product_specification\"=>[{\"key\"=>\"Brand\", \"value\"=>\"Elegance\"}, {\"key\"=>\"Designed For\", \"value...  \n",
       "7b72c92c2f6c40268628ec5f14c6d590  {\"product_specification\"=>[{\"key\"=>\"Machine Washable\", \"value\"=>\"Yes\"}, {\"key\"=>\"Material\", \"val...  \n",
       "64d5d4a258243731dc7bbb1eef49ad74  {\"product_specification\"=>[{\"key\"=>\"Material\", \"value\"=>\"Cotton Terry\"}, {\"key\"=>\"Design\", \"valu...  \n",
       "d4684dcdc759dd9cdf41504698d737d8  {\"product_specification\"=>[{\"key\"=>\"Brand\", \"value\"=>\"SANTOSH ROYAL FASHION\"}, {\"key\"=>\"Machine ...  \n",
       "6325b6870c54cd47be6ebfbffa620ec7  {\"product_specification\"=>[{\"key\"=>\"Machine Washable\", \"value\"=>\"Yes\"}, {\"key\"=>\"Brand\", \"value\"...  "
      ]
     },
     "execution_count": 9,
     "metadata": {},
     "output_type": "execute_result"
    }
   ],
   "source": [
    "data.head()"
   ]
  },
  {
   "cell_type": "code",
   "execution_count": 10,
   "id": "41f4eb11-593e-45ef-8402-79591bae9ddc",
   "metadata": {},
   "outputs": [
    {
     "data": {
      "text/html": [
       "<div>\n",
       "<style scoped>\n",
       "    .dataframe tbody tr th:only-of-type {\n",
       "        vertical-align: middle;\n",
       "    }\n",
       "\n",
       "    .dataframe tbody tr th {\n",
       "        vertical-align: top;\n",
       "    }\n",
       "\n",
       "    .dataframe thead th {\n",
       "        text-align: right;\n",
       "    }\n",
       "</style>\n",
       "<table border=\"1\" class=\"dataframe\">\n",
       "  <thead>\n",
       "    <tr style=\"text-align: right;\">\n",
       "      <th></th>\n",
       "      <th>crawl_timestamp</th>\n",
       "      <th>product_url</th>\n",
       "      <th>product_name</th>\n",
       "      <th>product_category_tree</th>\n",
       "      <th>pid</th>\n",
       "      <th>retail_price</th>\n",
       "      <th>discounted_price</th>\n",
       "      <th>image</th>\n",
       "      <th>is_FK_Advantage_product</th>\n",
       "      <th>description</th>\n",
       "      <th>product_rating</th>\n",
       "      <th>overall_rating</th>\n",
       "      <th>brand</th>\n",
       "      <th>product_specifications</th>\n",
       "    </tr>\n",
       "    <tr>\n",
       "      <th>uniq_id</th>\n",
       "      <th></th>\n",
       "      <th></th>\n",
       "      <th></th>\n",
       "      <th></th>\n",
       "      <th></th>\n",
       "      <th></th>\n",
       "      <th></th>\n",
       "      <th></th>\n",
       "      <th></th>\n",
       "      <th></th>\n",
       "      <th></th>\n",
       "      <th></th>\n",
       "      <th></th>\n",
       "      <th></th>\n",
       "    </tr>\n",
       "  </thead>\n",
       "  <tbody>\n",
       "    <tr>\n",
       "      <th>833a87b0af3b84fe246d2ebf271af177</th>\n",
       "      <td>2015-12-01 06:13:00 +0000</td>\n",
       "      <td>http://www.flipkart.com/zyxel-pla-4205/p/itmdyzydwztvmdf8?pid=RTRDYZYDXGHXXJNZ</td>\n",
       "      <td>Zyxel PLA-4205</td>\n",
       "      <td>[\"Computers &gt;&gt; Network Components &gt;&gt; Routers &gt;&gt; Zyxel Routers\"]</td>\n",
       "      <td>RTRDYZYDXGHXXJNZ</td>\n",
       "      <td>10999.00</td>\n",
       "      <td>8100.00</td>\n",
       "      <td>833a87b0af3b84fe246d2ebf271af177.jpg</td>\n",
       "      <td>False</td>\n",
       "      <td>Buy Zyxel PLA-4205 only for Rs. 8100 from Flipkart.com. Only Genuine Products. 30 Day Replacemen...</td>\n",
       "      <td>No rating available</td>\n",
       "      <td>No rating available</td>\n",
       "      <td>Zyxel</td>\n",
       "      <td>{\"product_specification\"=&gt;[{\"key\"=&gt;\"In The Box\", \"value\"=&gt;\"Router, Power Adapter, Manual\"}, {\"ke...</td>\n",
       "    </tr>\n",
       "    <tr>\n",
       "      <th>55195de3873fffaa9e37b041533d7305</th>\n",
       "      <td>2015-12-31 09:19:31 +0000</td>\n",
       "      <td>http://www.flipkart.com/philips-9-5-w-led-b22-3000k-a55-ind-bulb/p/itmef3hhfzfzf2vn?pid=BLBEF3HE...</td>\n",
       "      <td>Philips 9.5 W LED B22 3000K A55 IND Bulb</td>\n",
       "      <td>[\"Kitchen &amp; Dining &gt;&gt; Lighting &gt;&gt; Bulbs &gt;&gt; Philips Bulbs\"]</td>\n",
       "      <td>BLBEF3HEKYURWHKG</td>\n",
       "      <td>699.00</td>\n",
       "      <td>419.00</td>\n",
       "      <td>55195de3873fffaa9e37b041533d7305.jpg</td>\n",
       "      <td>False</td>\n",
       "      <td>Buy Philips 9.5 W LED B22 3000K A55 IND Bulb for Rs.419 online. Philips 9.5 W LED B22 3000K A55 ...</td>\n",
       "      <td>No rating available</td>\n",
       "      <td>No rating available</td>\n",
       "      <td>Philips</td>\n",
       "      <td>{\"product_specification\"=&gt;[{\"key\"=&gt;\"Brand\", \"value\"=&gt;\"Philips\"}, {\"key\"=&gt;\"Model Number\", \"value\"...</td>\n",
       "    </tr>\n",
       "    <tr>\n",
       "      <th>44b963eb856b4831dfdd21b666593c95</th>\n",
       "      <td>2016-01-07 05:50:25 +0000</td>\n",
       "      <td>http://www.flipkart.com/lapguard-lenovo-ideapad-v470-6-cell-laptop-battery/p/itmdvpgknnfqar4k?pi...</td>\n",
       "      <td>Lapguard Lenovo IdeaPad V470 6 Cell Laptop Battery</td>\n",
       "      <td>[\"Computers &gt;&gt; Laptop Accessories &gt;&gt; Batteries &gt;&gt; Lapguard Batteries\"]</td>\n",
       "      <td>ACCDVPGKY3GBDB5P</td>\n",
       "      <td>3999.00</td>\n",
       "      <td>1799.00</td>\n",
       "      <td>44b963eb856b4831dfdd21b666593c95.jpg</td>\n",
       "      <td>False</td>\n",
       "      <td>Lapguard Lenovo IdeaPad V470 6 Cell Laptop Battery\\r\\n                         Price: Rs. 1,799\\...</td>\n",
       "      <td>2</td>\n",
       "      <td>2</td>\n",
       "      <td>Lapguard</td>\n",
       "      <td>{\"product_specification\"=&gt;[{\"key\"=&gt;\"In The Box\", \"value\"=&gt;\"Laptop Battery\"}, {\"key\"=&gt;\"Brand\", \"v...</td>\n",
       "    </tr>\n",
       "    <tr>\n",
       "      <th>98ad5b99ad96695568d8f143b11ab740</th>\n",
       "      <td>2015-12-01 06:13:00 +0000</td>\n",
       "      <td>http://www.flipkart.com/anna-andre-paris-set-dark-fire-numero-1-deodorants-combo/p/itmeyuxvde3vb...</td>\n",
       "      <td>Anna Andre Paris Set of Dark Fire &amp; Numero 1 Deodorants Combo Set</td>\n",
       "      <td>[\"Beauty and Personal Care &gt;&gt; Fragrances &gt;&gt; Deodorants &gt;&gt; Combos &gt;&gt; Anna Andre Paris Combos\"]</td>\n",
       "      <td>CAGEYUXVZSFVZRHE</td>\n",
       "      <td>355.00</td>\n",
       "      <td>310.00</td>\n",
       "      <td>98ad5b99ad96695568d8f143b11ab740.jpg</td>\n",
       "      <td>False</td>\n",
       "      <td>Flipkart.com: Buy Anna Andre Paris Set of Dark Fire &amp; Numero 1 Deodorants Combo Set online only ...</td>\n",
       "      <td>No rating available</td>\n",
       "      <td>No rating available</td>\n",
       "      <td>NaN</td>\n",
       "      <td>{\"product_specification\"=&gt;[{\"key\"=&gt;\"Number of Contents in Set\", \"value\"=&gt;\"2\"}, {\"key\"=&gt;\"Combo Se...</td>\n",
       "    </tr>\n",
       "    <tr>\n",
       "      <th>29b1ca231e10d5269516b80bf9d0dffc</th>\n",
       "      <td>2015-12-04 07:25:36 +0000</td>\n",
       "      <td>http://www.flipkart.com/lenco-bdblue-tango-analog-watch-men-boys/p/itmeb2fzbk8sfuzg?pid=WATEB2FZ...</td>\n",
       "      <td>Lenco Bdblue Tango Analog Watch  - For Men, Boys</td>\n",
       "      <td>[\"Watches &gt;&gt; Wrist Watches &gt;&gt; Lenco Wrist Watches\"]</td>\n",
       "      <td>WATEB2FZUMQU4W7R</td>\n",
       "      <td>1499.00</td>\n",
       "      <td>599.00</td>\n",
       "      <td>29b1ca231e10d5269516b80bf9d0dffc.jpg</td>\n",
       "      <td>False</td>\n",
       "      <td>Lenco Bdblue Tango Analog Watch  - For Men, Boys - Buy Lenco Bdblue Tango Analog Watch  - For Me...</td>\n",
       "      <td>No rating available</td>\n",
       "      <td>No rating available</td>\n",
       "      <td>NaN</td>\n",
       "      <td>{\"product_specification\"=&gt;[{\"key\"=&gt;\"Chronograph\", \"value\"=&gt;\"No\"}, {\"key\"=&gt;\"Date Display\", \"value...</td>\n",
       "    </tr>\n",
       "  </tbody>\n",
       "</table>\n",
       "</div>"
      ],
      "text/plain": [
       "                                            crawl_timestamp  \\\n",
       "uniq_id                                                       \n",
       "833a87b0af3b84fe246d2ebf271af177  2015-12-01 06:13:00 +0000   \n",
       "55195de3873fffaa9e37b041533d7305  2015-12-31 09:19:31 +0000   \n",
       "44b963eb856b4831dfdd21b666593c95  2016-01-07 05:50:25 +0000   \n",
       "98ad5b99ad96695568d8f143b11ab740  2015-12-01 06:13:00 +0000   \n",
       "29b1ca231e10d5269516b80bf9d0dffc  2015-12-04 07:25:36 +0000   \n",
       "\n",
       "                                                                                                                          product_url  \\\n",
       "uniq_id                                                                                                                                 \n",
       "833a87b0af3b84fe246d2ebf271af177                       http://www.flipkart.com/zyxel-pla-4205/p/itmdyzydwztvmdf8?pid=RTRDYZYDXGHXXJNZ   \n",
       "55195de3873fffaa9e37b041533d7305  http://www.flipkart.com/philips-9-5-w-led-b22-3000k-a55-ind-bulb/p/itmef3hhfzfzf2vn?pid=BLBEF3HE...   \n",
       "44b963eb856b4831dfdd21b666593c95  http://www.flipkart.com/lapguard-lenovo-ideapad-v470-6-cell-laptop-battery/p/itmdvpgknnfqar4k?pi...   \n",
       "98ad5b99ad96695568d8f143b11ab740  http://www.flipkart.com/anna-andre-paris-set-dark-fire-numero-1-deodorants-combo/p/itmeyuxvde3vb...   \n",
       "29b1ca231e10d5269516b80bf9d0dffc  http://www.flipkart.com/lenco-bdblue-tango-analog-watch-men-boys/p/itmeb2fzbk8sfuzg?pid=WATEB2FZ...   \n",
       "\n",
       "                                                                                       product_name  \\\n",
       "uniq_id                                                                                               \n",
       "833a87b0af3b84fe246d2ebf271af177                                                     Zyxel PLA-4205   \n",
       "55195de3873fffaa9e37b041533d7305                           Philips 9.5 W LED B22 3000K A55 IND Bulb   \n",
       "44b963eb856b4831dfdd21b666593c95                 Lapguard Lenovo IdeaPad V470 6 Cell Laptop Battery   \n",
       "98ad5b99ad96695568d8f143b11ab740  Anna Andre Paris Set of Dark Fire & Numero 1 Deodorants Combo Set   \n",
       "29b1ca231e10d5269516b80bf9d0dffc                   Lenco Bdblue Tango Analog Watch  - For Men, Boys   \n",
       "\n",
       "                                                                                                          product_category_tree  \\\n",
       "uniq_id                                                                                                                           \n",
       "833a87b0af3b84fe246d2ebf271af177                                [\"Computers >> Network Components >> Routers >> Zyxel Routers\"]   \n",
       "55195de3873fffaa9e37b041533d7305                                     [\"Kitchen & Dining >> Lighting >> Bulbs >> Philips Bulbs\"]   \n",
       "44b963eb856b4831dfdd21b666593c95                         [\"Computers >> Laptop Accessories >> Batteries >> Lapguard Batteries\"]   \n",
       "98ad5b99ad96695568d8f143b11ab740  [\"Beauty and Personal Care >> Fragrances >> Deodorants >> Combos >> Anna Andre Paris Combos\"]   \n",
       "29b1ca231e10d5269516b80bf9d0dffc                                            [\"Watches >> Wrist Watches >> Lenco Wrist Watches\"]   \n",
       "\n",
       "                                               pid  retail_price  discounted_price  \\\n",
       "uniq_id                                                                              \n",
       "833a87b0af3b84fe246d2ebf271af177  RTRDYZYDXGHXXJNZ      10999.00           8100.00   \n",
       "55195de3873fffaa9e37b041533d7305  BLBEF3HEKYURWHKG        699.00            419.00   \n",
       "44b963eb856b4831dfdd21b666593c95  ACCDVPGKY3GBDB5P       3999.00           1799.00   \n",
       "98ad5b99ad96695568d8f143b11ab740  CAGEYUXVZSFVZRHE        355.00            310.00   \n",
       "29b1ca231e10d5269516b80bf9d0dffc  WATEB2FZUMQU4W7R       1499.00            599.00   \n",
       "\n",
       "                                                                 image  is_FK_Advantage_product  \\\n",
       "uniq_id                                                                                           \n",
       "833a87b0af3b84fe246d2ebf271af177  833a87b0af3b84fe246d2ebf271af177.jpg                    False   \n",
       "55195de3873fffaa9e37b041533d7305  55195de3873fffaa9e37b041533d7305.jpg                    False   \n",
       "44b963eb856b4831dfdd21b666593c95  44b963eb856b4831dfdd21b666593c95.jpg                    False   \n",
       "98ad5b99ad96695568d8f143b11ab740  98ad5b99ad96695568d8f143b11ab740.jpg                    False   \n",
       "29b1ca231e10d5269516b80bf9d0dffc  29b1ca231e10d5269516b80bf9d0dffc.jpg                    False   \n",
       "\n",
       "                                                                                                                          description  \\\n",
       "uniq_id                                                                                                                                 \n",
       "833a87b0af3b84fe246d2ebf271af177  Buy Zyxel PLA-4205 only for Rs. 8100 from Flipkart.com. Only Genuine Products. 30 Day Replacemen...   \n",
       "55195de3873fffaa9e37b041533d7305  Buy Philips 9.5 W LED B22 3000K A55 IND Bulb for Rs.419 online. Philips 9.5 W LED B22 3000K A55 ...   \n",
       "44b963eb856b4831dfdd21b666593c95  Lapguard Lenovo IdeaPad V470 6 Cell Laptop Battery\\r\\n                         Price: Rs. 1,799\\...   \n",
       "98ad5b99ad96695568d8f143b11ab740  Flipkart.com: Buy Anna Andre Paris Set of Dark Fire & Numero 1 Deodorants Combo Set online only ...   \n",
       "29b1ca231e10d5269516b80bf9d0dffc  Lenco Bdblue Tango Analog Watch  - For Men, Boys - Buy Lenco Bdblue Tango Analog Watch  - For Me...   \n",
       "\n",
       "                                       product_rating       overall_rating     brand  \\\n",
       "uniq_id                                                                                \n",
       "833a87b0af3b84fe246d2ebf271af177  No rating available  No rating available     Zyxel   \n",
       "55195de3873fffaa9e37b041533d7305  No rating available  No rating available   Philips   \n",
       "44b963eb856b4831dfdd21b666593c95                    2                    2  Lapguard   \n",
       "98ad5b99ad96695568d8f143b11ab740  No rating available  No rating available       NaN   \n",
       "29b1ca231e10d5269516b80bf9d0dffc  No rating available  No rating available       NaN   \n",
       "\n",
       "                                                                                                               product_specifications  \n",
       "uniq_id                                                                                                                                \n",
       "833a87b0af3b84fe246d2ebf271af177  {\"product_specification\"=>[{\"key\"=>\"In The Box\", \"value\"=>\"Router, Power Adapter, Manual\"}, {\"ke...  \n",
       "55195de3873fffaa9e37b041533d7305  {\"product_specification\"=>[{\"key\"=>\"Brand\", \"value\"=>\"Philips\"}, {\"key\"=>\"Model Number\", \"value\"...  \n",
       "44b963eb856b4831dfdd21b666593c95  {\"product_specification\"=>[{\"key\"=>\"In The Box\", \"value\"=>\"Laptop Battery\"}, {\"key\"=>\"Brand\", \"v...  \n",
       "98ad5b99ad96695568d8f143b11ab740  {\"product_specification\"=>[{\"key\"=>\"Number of Contents in Set\", \"value\"=>\"2\"}, {\"key\"=>\"Combo Se...  \n",
       "29b1ca231e10d5269516b80bf9d0dffc  {\"product_specification\"=>[{\"key\"=>\"Chronograph\", \"value\"=>\"No\"}, {\"key\"=>\"Date Display\", \"value...  "
      ]
     },
     "execution_count": 10,
     "metadata": {},
     "output_type": "execute_result"
    }
   ],
   "source": [
    "data.sample(5)"
   ]
  },
  {
   "cell_type": "code",
   "execution_count": 11,
   "id": "c7959b2a-b3f7-4684-baac-6960ceca6428",
   "metadata": {},
   "outputs": [
    {
     "data": {
      "text/plain": [
       "uniq_id\n",
       "55b85ea15a1536d46b7190ad6fff8ce7    False\n",
       "7b72c92c2f6c40268628ec5f14c6d590    False\n",
       "64d5d4a258243731dc7bbb1eef49ad74    False\n",
       "d4684dcdc759dd9cdf41504698d737d8    False\n",
       "6325b6870c54cd47be6ebfbffa620ec7    False\n",
       "                                    ...  \n",
       "958f54f4c46b53c8a0a9b8167d9140bc    False\n",
       "fd6cbcc22efb6b761bd564c28928483c    False\n",
       "5912e037d12774bb73a2048f35a00009    False\n",
       "c3edc504d1b4f0ba6224fa53a43a7ad6    False\n",
       "f2f027ad6a6df617c9f125173da71e44    False\n",
       "Length: 1050, dtype: bool"
      ]
     },
     "execution_count": 11,
     "metadata": {},
     "output_type": "execute_result"
    }
   ],
   "source": [
    "data.duplicated()"
   ]
  },
  {
   "cell_type": "code",
   "execution_count": 12,
   "id": "2fdb09c8-060f-46d2-9c82-1f8f044d744f",
   "metadata": {},
   "outputs": [
    {
     "data": {
      "text/plain": [
       "crawl_timestamp             149\n",
       "product_url                1050\n",
       "product_name               1050\n",
       "product_category_tree       642\n",
       "pid                        1050\n",
       "retail_price                354\n",
       "discounted_price            424\n",
       "image                      1050\n",
       "is_FK_Advantage_product       2\n",
       "description                1050\n",
       "product_rating               27\n",
       "overall_rating               27\n",
       "brand                       490\n",
       "product_specifications      984\n",
       "dtype: int64"
      ]
     },
     "execution_count": 12,
     "metadata": {},
     "output_type": "execute_result"
    }
   ],
   "source": [
    "tmp = data.nunique()\n",
    "tmp"
   ]
  },
  {
   "cell_type": "markdown",
   "id": "b4a488dc-606c-440c-8675-72f1ee72b2de",
   "metadata": {},
   "source": [
    "## NaN and duplicated"
   ]
  },
  {
   "cell_type": "code",
   "execution_count": 13,
   "id": "522bf3e6-77d8-4f80-9c0e-14df933b5e33",
   "metadata": {},
   "outputs": [
    {
     "data": {
      "text/plain": [
       "crawl_timestamp              0\n",
       "product_url                  0\n",
       "product_name                 0\n",
       "product_category_tree        0\n",
       "pid                          0\n",
       "retail_price                 1\n",
       "discounted_price             1\n",
       "image                        0\n",
       "is_FK_Advantage_product      0\n",
       "description                  0\n",
       "product_rating               0\n",
       "overall_rating               0\n",
       "brand                      338\n",
       "product_specifications       1\n",
       "dtype: int64"
      ]
     },
     "execution_count": 13,
     "metadata": {},
     "output_type": "execute_result"
    }
   ],
   "source": [
    "data.isna().sum()"
   ]
  },
  {
   "cell_type": "code",
   "execution_count": 14,
   "id": "be30eb45-f421-4cc6-8fcd-141904596eda",
   "metadata": {},
   "outputs": [
    {
     "data": {
      "text/plain": [
       "<AxesSubplot:ylabel='uniq_id'>"
      ]
     },
     "execution_count": 14,
     "metadata": {},
     "output_type": "execute_result"
    },
    {
     "data": {
      "image/png": "[encoded data removed]",
      "text/plain": [
       "<Figure size 432x288 with 2 Axes>"
      ]
     },
     "metadata": {},
     "output_type": "display_data"
    }
   ],
   "source": [
    "#Heatmap pour voir les colonnes manquantes\n",
    "sns.heatmap(data.isna())"
   ]
  },
  {
   "cell_type": "markdown",
   "id": "6b057a4a-bf2d-4975-a90b-fc166ed325a6",
   "metadata": {},
   "source": [
    "## Colonnes dupliquées"
   ]
  },
  {
   "cell_type": "code",
   "execution_count": 15,
   "id": "ad7311b8-eef0-47e4-a337-6d43f217c1dc",
   "metadata": {},
   "outputs": [
    {
     "name": "stdout",
     "output_type": "stream",
     "text": [
      "col : crawl_timestamp -> duplicated : 901\n",
      "col : product_url -> duplicated : 0\n",
      "col : product_name -> duplicated : 0\n",
      "col : product_category_tree -> duplicated : 408\n",
      "col : pid -> duplicated : 0\n",
      "col : retail_price -> duplicated : 695\n",
      "col : discounted_price -> duplicated : 625\n",
      "col : image -> duplicated : 0\n",
      "col : is_FK_Advantage_product -> duplicated : 1048\n",
      "col : description -> duplicated : 0\n",
      "col : product_rating -> duplicated : 1023\n",
      "col : overall_rating -> duplicated : 1023\n",
      "col : brand -> duplicated : 559\n",
      "col : product_specifications -> duplicated : 65\n"
     ]
    }
   ],
   "source": [
    "for col in data.columns :\n",
    "    n = data.duplicated(subset=col).sum()\n",
    "    print(f'col : {col} -> duplicated : {n}')"
   ]
  },
  {
   "cell_type": "markdown",
   "id": "6143a244-1076-475f-9348-2c56a3253110",
   "metadata": {},
   "source": [
    "## Data Inspection"
   ]
  },
  {
   "cell_type": "code",
   "execution_count": 16,
   "id": "6201ef78-5476-4565-903f-1d1226dc0d07",
   "metadata": {},
   "outputs": [
    {
     "data": {
      "text/html": [
       "<div>\n",
       "<style scoped>\n",
       "    .dataframe tbody tr th:only-of-type {\n",
       "        vertical-align: middle;\n",
       "    }\n",
       "\n",
       "    .dataframe tbody tr th {\n",
       "        vertical-align: top;\n",
       "    }\n",
       "\n",
       "    .dataframe thead th {\n",
       "        text-align: right;\n",
       "    }\n",
       "</style>\n",
       "<table border=\"1\" class=\"dataframe\">\n",
       "  <thead>\n",
       "    <tr style=\"text-align: right;\">\n",
       "      <th></th>\n",
       "      <th>retail_price</th>\n",
       "      <th>discounted_price</th>\n",
       "    </tr>\n",
       "  </thead>\n",
       "  <tbody>\n",
       "    <tr>\n",
       "      <th>count</th>\n",
       "      <td>1049.00</td>\n",
       "      <td>1049.00</td>\n",
       "    </tr>\n",
       "    <tr>\n",
       "      <th>mean</th>\n",
       "      <td>2186.20</td>\n",
       "      <td>1584.53</td>\n",
       "    </tr>\n",
       "    <tr>\n",
       "      <th>std</th>\n",
       "      <td>7639.23</td>\n",
       "      <td>7475.10</td>\n",
       "    </tr>\n",
       "    <tr>\n",
       "      <th>min</th>\n",
       "      <td>35.00</td>\n",
       "      <td>35.00</td>\n",
       "    </tr>\n",
       "    <tr>\n",
       "      <th>25%</th>\n",
       "      <td>555.00</td>\n",
       "      <td>340.00</td>\n",
       "    </tr>\n",
       "    <tr>\n",
       "      <th>50%</th>\n",
       "      <td>999.00</td>\n",
       "      <td>600.00</td>\n",
       "    </tr>\n",
       "    <tr>\n",
       "      <th>75%</th>\n",
       "      <td>1999.00</td>\n",
       "      <td>1199.00</td>\n",
       "    </tr>\n",
       "    <tr>\n",
       "      <th>max</th>\n",
       "      <td>201000.00</td>\n",
       "      <td>201000.00</td>\n",
       "    </tr>\n",
       "  </tbody>\n",
       "</table>\n",
       "</div>"
      ],
      "text/plain": [
       "       retail_price  discounted_price\n",
       "count       1049.00           1049.00\n",
       "mean        2186.20           1584.53\n",
       "std         7639.23           7475.10\n",
       "min           35.00             35.00\n",
       "25%          555.00            340.00\n",
       "50%          999.00            600.00\n",
       "75%         1999.00           1199.00\n",
       "max       201000.00         201000.00"
      ]
     },
     "execution_count": 16,
     "metadata": {},
     "output_type": "execute_result"
    }
   ],
   "source": [
    "#Stats des colonnes numériques\n",
    "data.describe(include=np.number)"
   ]
  },
  {
   "cell_type": "code",
   "execution_count": 17,
   "id": "0113d03d-1981-4a12-84f5-e1ffebfcbb60",
   "metadata": {},
   "outputs": [
    {
     "data": {
      "text/html": [
       "<div>\n",
       "<style scoped>\n",
       "    .dataframe tbody tr th:only-of-type {\n",
       "        vertical-align: middle;\n",
       "    }\n",
       "\n",
       "    .dataframe tbody tr th {\n",
       "        vertical-align: top;\n",
       "    }\n",
       "\n",
       "    .dataframe thead th {\n",
       "        text-align: right;\n",
       "    }\n",
       "</style>\n",
       "<table border=\"1\" class=\"dataframe\">\n",
       "  <thead>\n",
       "    <tr style=\"text-align: right;\">\n",
       "      <th></th>\n",
       "      <th>crawl_timestamp</th>\n",
       "      <th>product_url</th>\n",
       "      <th>product_name</th>\n",
       "      <th>product_category_tree</th>\n",
       "      <th>pid</th>\n",
       "      <th>image</th>\n",
       "      <th>description</th>\n",
       "      <th>product_rating</th>\n",
       "      <th>overall_rating</th>\n",
       "      <th>brand</th>\n",
       "      <th>product_specifications</th>\n",
       "    </tr>\n",
       "  </thead>\n",
       "  <tbody>\n",
       "    <tr>\n",
       "      <th>count</th>\n",
       "      <td>1050</td>\n",
       "      <td>1050</td>\n",
       "      <td>1050</td>\n",
       "      <td>1050</td>\n",
       "      <td>1050</td>\n",
       "      <td>1050</td>\n",
       "      <td>1050</td>\n",
       "      <td>1050</td>\n",
       "      <td>1050</td>\n",
       "      <td>712</td>\n",
       "      <td>1049</td>\n",
       "    </tr>\n",
       "    <tr>\n",
       "      <th>unique</th>\n",
       "      <td>149</td>\n",
       "      <td>1050</td>\n",
       "      <td>1050</td>\n",
       "      <td>642</td>\n",
       "      <td>1050</td>\n",
       "      <td>1050</td>\n",
       "      <td>1050</td>\n",
       "      <td>27</td>\n",
       "      <td>27</td>\n",
       "      <td>490</td>\n",
       "      <td>984</td>\n",
       "    </tr>\n",
       "    <tr>\n",
       "      <th>top</th>\n",
       "      <td>2015-12-01 12:40:44 +0000</td>\n",
       "      <td>http://www.flipkart.com/elegance-polyester-multicolor-abstract-eyelet-door-curtain/p/itmeg7bkzdg...</td>\n",
       "      <td>Elegance Polyester Multicolor Abstract Eyelet Door Curtain</td>\n",
       "      <td>[\"Home Furnishing &gt;&gt; Bed Linen &gt;&gt; Blankets, Quilts &amp; Dohars\"]</td>\n",
       "      <td>CRNEG7BKMFFYHQ8Z</td>\n",
       "      <td>55b85ea15a1536d46b7190ad6fff8ce7.jpg</td>\n",
       "      <td>Key Features of Elegance Polyester Multicolor Abstract Eyelet Door Curtain Floral Curtain,Elegan...</td>\n",
       "      <td>No rating available</td>\n",
       "      <td>No rating available</td>\n",
       "      <td>PRINT SHAPES</td>\n",
       "      <td>{\"product_specification\"=&gt;[{\"key\"=&gt;\"Type\", \"value\"=&gt;\"Mug\"}, {\"key\"=&gt;\"Mug Capacity\", \"value\"=&gt;\"5....</td>\n",
       "    </tr>\n",
       "    <tr>\n",
       "      <th>freq</th>\n",
       "      <td>150</td>\n",
       "      <td>1</td>\n",
       "      <td>1</td>\n",
       "      <td>56</td>\n",
       "      <td>1</td>\n",
       "      <td>1</td>\n",
       "      <td>1</td>\n",
       "      <td>889</td>\n",
       "      <td>889</td>\n",
       "      <td>11</td>\n",
       "      <td>22</td>\n",
       "    </tr>\n",
       "  </tbody>\n",
       "</table>\n",
       "</div>"
      ],
      "text/plain": [
       "                  crawl_timestamp  \\\n",
       "count                        1050   \n",
       "unique                        149   \n",
       "top     2015-12-01 12:40:44 +0000   \n",
       "freq                          150   \n",
       "\n",
       "                                                                                                product_url  \\\n",
       "count                                                                                                  1050   \n",
       "unique                                                                                                 1050   \n",
       "top     http://www.flipkart.com/elegance-polyester-multicolor-abstract-eyelet-door-curtain/p/itmeg7bkzdg...   \n",
       "freq                                                                                                      1   \n",
       "\n",
       "                                                      product_name  \\\n",
       "count                                                         1050   \n",
       "unique                                                        1050   \n",
       "top     Elegance Polyester Multicolor Abstract Eyelet Door Curtain   \n",
       "freq                                                             1   \n",
       "\n",
       "                                                product_category_tree               pid  \\\n",
       "count                                                            1050              1050   \n",
       "unique                                                            642              1050   \n",
       "top     [\"Home Furnishing >> Bed Linen >> Blankets, Quilts & Dohars\"]  CRNEG7BKMFFYHQ8Z   \n",
       "freq                                                               56                 1   \n",
       "\n",
       "                                       image  \\\n",
       "count                                   1050   \n",
       "unique                                  1050   \n",
       "top     55b85ea15a1536d46b7190ad6fff8ce7.jpg   \n",
       "freq                                       1   \n",
       "\n",
       "                                                                                                description  \\\n",
       "count                                                                                                  1050   \n",
       "unique                                                                                                 1050   \n",
       "top     Key Features of Elegance Polyester Multicolor Abstract Eyelet Door Curtain Floral Curtain,Elegan...   \n",
       "freq                                                                                                      1   \n",
       "\n",
       "             product_rating       overall_rating         brand  \\\n",
       "count                  1050                 1050           712   \n",
       "unique                   27                   27           490   \n",
       "top     No rating available  No rating available  PRINT SHAPES   \n",
       "freq                    889                  889            11   \n",
       "\n",
       "                                                                                     product_specifications  \n",
       "count                                                                                                  1049  \n",
       "unique                                                                                                  984  \n",
       "top     {\"product_specification\"=>[{\"key\"=>\"Type\", \"value\"=>\"Mug\"}, {\"key\"=>\"Mug Capacity\", \"value\"=>\"5....  \n",
       "freq                                                                                                     22  "
      ]
     },
     "execution_count": 17,
     "metadata": {},
     "output_type": "execute_result"
    }
   ],
   "source": [
    "#Stats en incluant colonne varchar\n",
    "data.describe(include=object)"
   ]
  },
  {
   "cell_type": "markdown",
   "id": "3544d0f1-79b2-48db-9b04-b38c52cfd497",
   "metadata": {},
   "source": [
    "# Product category analysis\n",
    "Colonne intéressante : catégorie de produit + sous catégorie (Ex: Electroménager + cuisine + cuisson \n",
    "Analyser les catégories de produits et les sous catégories de produit\n",
    "\n",
    "1er niveau de catégories : combien de catégries et nb produit par catégorie\n",
    "Idem pour la 2e catégore : nb Catégries + répartition"
   ]
  },
  {
   "cell_type": "code",
   "execution_count": 18,
   "id": "00082489-e7e9-4ee0-b308-e0f152a2622b",
   "metadata": {},
   "outputs": [
    {
     "data": {
      "text/plain": [
       "(1050, 14)"
      ]
     },
     "execution_count": 18,
     "metadata": {},
     "output_type": "execute_result"
    }
   ],
   "source": [
    "data.shape"
   ]
  },
  {
   "cell_type": "code",
   "execution_count": 19,
   "id": "90606e0b-65f2-4af3-b50f-8bc5e62cadd9",
   "metadata": {},
   "outputs": [
    {
     "data": {
      "text/html": [
       "<div>\n",
       "<style scoped>\n",
       "    .dataframe tbody tr th:only-of-type {\n",
       "        vertical-align: middle;\n",
       "    }\n",
       "\n",
       "    .dataframe tbody tr th {\n",
       "        vertical-align: top;\n",
       "    }\n",
       "\n",
       "    .dataframe thead th {\n",
       "        text-align: right;\n",
       "    }\n",
       "</style>\n",
       "<table border=\"1\" class=\"dataframe\">\n",
       "  <thead>\n",
       "    <tr style=\"text-align: right;\">\n",
       "      <th></th>\n",
       "      <th>crawl_timestamp</th>\n",
       "      <th>product_url</th>\n",
       "      <th>product_name</th>\n",
       "      <th>product_category_tree</th>\n",
       "      <th>pid</th>\n",
       "      <th>retail_price</th>\n",
       "      <th>discounted_price</th>\n",
       "      <th>image</th>\n",
       "      <th>is_FK_Advantage_product</th>\n",
       "      <th>description</th>\n",
       "      <th>product_rating</th>\n",
       "      <th>overall_rating</th>\n",
       "      <th>brand</th>\n",
       "      <th>product_specifications</th>\n",
       "    </tr>\n",
       "    <tr>\n",
       "      <th>uniq_id</th>\n",
       "      <th></th>\n",
       "      <th></th>\n",
       "      <th></th>\n",
       "      <th></th>\n",
       "      <th></th>\n",
       "      <th></th>\n",
       "      <th></th>\n",
       "      <th></th>\n",
       "      <th></th>\n",
       "      <th></th>\n",
       "      <th></th>\n",
       "      <th></th>\n",
       "      <th></th>\n",
       "      <th></th>\n",
       "    </tr>\n",
       "  </thead>\n",
       "  <tbody>\n",
       "    <tr>\n",
       "      <th>964648862f322b2cc153239af04b22ef</th>\n",
       "      <td>2016-01-07 05:50:25 +0000</td>\n",
       "      <td>http://www.flipkart.com/arb-toshiba-dynabook-ss-mx-395ls-compatible-black-6-cell-laptop-battery/...</td>\n",
       "      <td>ARB Toshiba Dynabook SS MX/395LS Compatible Black 6 Cell Laptop Battery</td>\n",
       "      <td>[\"Computers &gt;&gt; Laptop Accessories &gt;&gt; Batteries &gt;&gt; ARB Batteries\"]</td>\n",
       "      <td>ACCDY6GVZYHGRRPP</td>\n",
       "      <td>3499.00</td>\n",
       "      <td>1599.00</td>\n",
       "      <td>964648862f322b2cc153239af04b22ef.jpg</td>\n",
       "      <td>False</td>\n",
       "      <td>Buy ARB Toshiba Dynabook SS MX/395LS Compatible Black 6 Cell Laptop Battery only for Rs. 1599 fr...</td>\n",
       "      <td>No rating available</td>\n",
       "      <td>No rating available</td>\n",
       "      <td>ARB</td>\n",
       "      <td>{\"product_specification\"=&gt;[{\"key\"=&gt;\"In The Box\", \"value\"=&gt;\"Laptop Battery\"}, {\"key\"=&gt;\"Brand\", \"v...</td>\n",
       "    </tr>\n",
       "    <tr>\n",
       "      <th>17a73d7c4b02ada2bfeed1115fed08a4</th>\n",
       "      <td>2015-12-01 06:13:00 +0000</td>\n",
       "      <td>http://www.flipkart.com/envy-1000-force-combo-set/p/itme79cefgurn3bx?pid=CAGE79CEHJZX52XS</td>\n",
       "      <td>Envy-1000 Force Combo Set</td>\n",
       "      <td>[\"Beauty and Personal Care &gt;&gt; Fragrances &gt;&gt; Deodorants &gt;&gt; Combos &gt;&gt; Envy-1000 Combos\"]</td>\n",
       "      <td>CAGE79CEHJZX52XS</td>\n",
       "      <td>360.00</td>\n",
       "      <td>329.00</td>\n",
       "      <td>17a73d7c4b02ada2bfeed1115fed08a4.jpg</td>\n",
       "      <td>False</td>\n",
       "      <td>Flipkart.com: Buy Envy-1000 Force Combo Set online only for Rs. 360 from Flipkart.com. Only Genu...</td>\n",
       "      <td>No rating available</td>\n",
       "      <td>No rating available</td>\n",
       "      <td>NaN</td>\n",
       "      <td>{\"product_specification\"=&gt;[{\"key\"=&gt;\"Number of Contents in Set\", \"value\"=&gt;\"2\"}, {\"key\"=&gt;\"Combo Se...</td>\n",
       "    </tr>\n",
       "  </tbody>\n",
       "</table>\n",
       "</div>"
      ],
      "text/plain": [
       "                                            crawl_timestamp  \\\n",
       "uniq_id                                                       \n",
       "964648862f322b2cc153239af04b22ef  2016-01-07 05:50:25 +0000   \n",
       "17a73d7c4b02ada2bfeed1115fed08a4  2015-12-01 06:13:00 +0000   \n",
       "\n",
       "                                                                                                                          product_url  \\\n",
       "uniq_id                                                                                                                                 \n",
       "964648862f322b2cc153239af04b22ef  http://www.flipkart.com/arb-toshiba-dynabook-ss-mx-395ls-compatible-black-6-cell-laptop-battery/...   \n",
       "17a73d7c4b02ada2bfeed1115fed08a4            http://www.flipkart.com/envy-1000-force-combo-set/p/itme79cefgurn3bx?pid=CAGE79CEHJZX52XS   \n",
       "\n",
       "                                                                                             product_name  \\\n",
       "uniq_id                                                                                                     \n",
       "964648862f322b2cc153239af04b22ef  ARB Toshiba Dynabook SS MX/395LS Compatible Black 6 Cell Laptop Battery   \n",
       "17a73d7c4b02ada2bfeed1115fed08a4                                                Envy-1000 Force Combo Set   \n",
       "\n",
       "                                                                                                   product_category_tree  \\\n",
       "uniq_id                                                                                                                    \n",
       "964648862f322b2cc153239af04b22ef                       [\"Computers >> Laptop Accessories >> Batteries >> ARB Batteries\"]   \n",
       "17a73d7c4b02ada2bfeed1115fed08a4  [\"Beauty and Personal Care >> Fragrances >> Deodorants >> Combos >> Envy-1000 Combos\"]   \n",
       "\n",
       "                                               pid  retail_price  discounted_price  \\\n",
       "uniq_id                                                                              \n",
       "964648862f322b2cc153239af04b22ef  ACCDY6GVZYHGRRPP       3499.00           1599.00   \n",
       "17a73d7c4b02ada2bfeed1115fed08a4  CAGE79CEHJZX52XS        360.00            329.00   \n",
       "\n",
       "                                                                 image  is_FK_Advantage_product  \\\n",
       "uniq_id                                                                                           \n",
       "964648862f322b2cc153239af04b22ef  964648862f322b2cc153239af04b22ef.jpg                    False   \n",
       "17a73d7c4b02ada2bfeed1115fed08a4  17a73d7c4b02ada2bfeed1115fed08a4.jpg                    False   \n",
       "\n",
       "                                                                                                                          description  \\\n",
       "uniq_id                                                                                                                                 \n",
       "964648862f322b2cc153239af04b22ef  Buy ARB Toshiba Dynabook SS MX/395LS Compatible Black 6 Cell Laptop Battery only for Rs. 1599 fr...   \n",
       "17a73d7c4b02ada2bfeed1115fed08a4  Flipkart.com: Buy Envy-1000 Force Combo Set online only for Rs. 360 from Flipkart.com. Only Genu...   \n",
       "\n",
       "                                       product_rating       overall_rating brand  \\\n",
       "uniq_id                                                                            \n",
       "964648862f322b2cc153239af04b22ef  No rating available  No rating available   ARB   \n",
       "17a73d7c4b02ada2bfeed1115fed08a4  No rating available  No rating available   NaN   \n",
       "\n",
       "                                                                                                               product_specifications  \n",
       "uniq_id                                                                                                                                \n",
       "964648862f322b2cc153239af04b22ef  {\"product_specification\"=>[{\"key\"=>\"In The Box\", \"value\"=>\"Laptop Battery\"}, {\"key\"=>\"Brand\", \"v...  \n",
       "17a73d7c4b02ada2bfeed1115fed08a4  {\"product_specification\"=>[{\"key\"=>\"Number of Contents in Set\", \"value\"=>\"2\"}, {\"key\"=>\"Combo Se...  "
      ]
     },
     "execution_count": 19,
     "metadata": {},
     "output_type": "execute_result"
    }
   ],
   "source": [
    "data.sample(2)"
   ]
  },
  {
   "cell_type": "markdown",
   "id": "b9bd4e88-0eb1-4a70-bbe4-37c5cb4fe8a5",
   "metadata": {
    "tags": []
   },
   "source": [
    "Length\n",
    "Calculer la longueur des documents category product : Nbre de caractères"
   ]
  },
  {
   "cell_type": "code",
   "execution_count": 20,
   "id": "176f98d8-ad03-474b-b9cd-49b29bb4b250",
   "metadata": {
    "tags": []
   },
   "outputs": [
    {
     "data": {
      "text/plain": [
       "uniq_id\n",
       "55b85ea15a1536d46b7190ad6fff8ce7    112\n",
       "7b72c92c2f6c40268628ec5f14c6d590    137\n",
       "64d5d4a258243731dc7bbb1eef49ad74    136\n",
       "d4684dcdc759dd9cdf41504698d737d8    135\n",
       "6325b6870c54cd47be6ebfbffa620ec7    126\n",
       "                                   ... \n",
       "958f54f4c46b53c8a0a9b8167d9140bc     71\n",
       "fd6cbcc22efb6b761bd564c28928483c     69\n",
       "5912e037d12774bb73a2048f35a00009     67\n",
       "c3edc504d1b4f0ba6224fa53a43a7ad6     69\n",
       "f2f027ad6a6df617c9f125173da71e44     67\n",
       "Name: product_category_tree, Length: 1050, dtype: int64"
      ]
     },
     "execution_count": 20,
     "metadata": {},
     "output_type": "execute_result"
    }
   ],
   "source": [
    "data.product_category_tree.apply(lambda i : len(i))"
   ]
  },
  {
   "cell_type": "code",
   "execution_count": 21,
   "id": "da10e553-9b87-4ee2-8095-3e224d1b0028",
   "metadata": {},
   "outputs": [],
   "source": [
    "## de manière graphique en appelant la méthode len de str\n",
    "tmp = data.product_category_tree.str.len()"
   ]
  },
  {
   "cell_type": "code",
   "execution_count": 22,
   "id": "a6cf4b29-fdfe-4bcc-acc0-224c72a051ec",
   "metadata": {},
   "outputs": [
    {
     "name": "stderr",
     "output_type": "stream",
     "text": [
      "C:\\Users\\ADSL\\anaconda3\\lib\\site-packages\\seaborn\\_decorators.py:36: FutureWarning: Pass the following variable as a keyword arg: x. From version 0.12, the only valid positional argument will be `data`, and passing other arguments without an explicit keyword will result in an error or misinterpretation.\n",
      "  warnings.warn(\n"
     ]
    },
    {
     "data": {
      "text/plain": [
       "<AxesSubplot:xlabel='product_category_tree'>"
      ]
     },
     "execution_count": 22,
     "metadata": {},
     "output_type": "execute_result"
    },
    {
     "data": {
      "image/png": "[encoded data removed]",
      "text/plain": [
       "<Figure size 432x288 with 1 Axes>"
      ]
     },
     "metadata": {},
     "output_type": "display_data"
    }
   ],
   "source": [
    "sns.boxplot(tmp)"
   ]
  },
  {
   "cell_type": "markdown",
   "id": "0497d004-1e97-4d95-8bcd-c9e90aebc663",
   "metadata": {},
   "source": [
    "La majorité des catégories fait entre 70 et 140 caractères avec une moyenne de 100 car."
   ]
  },
  {
   "cell_type": "code",
   "execution_count": 23,
   "id": "1660ef87-6215-44f8-bd77-c01fb84df2a2",
   "metadata": {
    "tags": []
   },
   "outputs": [
    {
     "data": {
      "text/plain": [
       "<seaborn.axisgrid.FacetGrid at 0x1f1bf152910>"
      ]
     },
     "execution_count": 23,
     "metadata": {},
     "output_type": "execute_result"
    },
    {
     "data": {
      "image/png": "[encoded data removed]",
      "text/plain": [
       "<Figure size 360x360 with 1 Axes>"
      ]
     },
     "metadata": {},
     "output_type": "display_data"
    }
   ],
   "source": [
    "#Distribution nombre de catégories/longueur de texte\n",
    "sns.displot(tmp)"
   ]
  },
  {
   "cell_type": "markdown",
   "id": "652be60e-592e-4bbb-9fca-066421b7abc0",
   "metadata": {},
   "source": [
    "Stockons le vecteur numérique dans 1 colonne len_cat"
   ]
  },
  {
   "cell_type": "code",
   "execution_count": 24,
   "id": "95d2c3e5-4886-431f-80ed-f63969ec2c4e",
   "metadata": {
    "tags": []
   },
   "outputs": [],
   "source": [
    "data['cat_prod_len_text'] = tmp"
   ]
  },
  {
   "cell_type": "code",
   "execution_count": 25,
   "id": "7cf608e5-4f65-4c92-bab3-658ac0ddc6d4",
   "metadata": {
    "tags": []
   },
   "outputs": [
    {
     "data": {
      "text/html": [
       "<div>\n",
       "<style scoped>\n",
       "    .dataframe tbody tr th:only-of-type {\n",
       "        vertical-align: middle;\n",
       "    }\n",
       "\n",
       "    .dataframe tbody tr th {\n",
       "        vertical-align: top;\n",
       "    }\n",
       "\n",
       "    .dataframe thead th {\n",
       "        text-align: right;\n",
       "    }\n",
       "</style>\n",
       "<table border=\"1\" class=\"dataframe\">\n",
       "  <thead>\n",
       "    <tr style=\"text-align: right;\">\n",
       "      <th></th>\n",
       "      <th>crawl_timestamp</th>\n",
       "      <th>product_url</th>\n",
       "      <th>product_name</th>\n",
       "      <th>product_category_tree</th>\n",
       "      <th>pid</th>\n",
       "      <th>retail_price</th>\n",
       "      <th>discounted_price</th>\n",
       "      <th>image</th>\n",
       "      <th>is_FK_Advantage_product</th>\n",
       "      <th>description</th>\n",
       "      <th>product_rating</th>\n",
       "      <th>overall_rating</th>\n",
       "      <th>brand</th>\n",
       "      <th>product_specifications</th>\n",
       "      <th>cat_prod_len_text</th>\n",
       "    </tr>\n",
       "    <tr>\n",
       "      <th>uniq_id</th>\n",
       "      <th></th>\n",
       "      <th></th>\n",
       "      <th></th>\n",
       "      <th></th>\n",
       "      <th></th>\n",
       "      <th></th>\n",
       "      <th></th>\n",
       "      <th></th>\n",
       "      <th></th>\n",
       "      <th></th>\n",
       "      <th></th>\n",
       "      <th></th>\n",
       "      <th></th>\n",
       "      <th></th>\n",
       "      <th></th>\n",
       "    </tr>\n",
       "  </thead>\n",
       "  <tbody>\n",
       "    <tr>\n",
       "      <th>159b45e4dede207f28319bf1cacee3bc</th>\n",
       "      <td>2015-12-20 08:26:17 +0000</td>\n",
       "      <td>http://www.flipkart.com/msenterprises-floral-cushions-cover/p/itmedgm4rqmjswvg?pid=CPCEDGM4RPXJHBHG</td>\n",
       "      <td>MSenterprises Floral Cushions Cover</td>\n",
       "      <td>[\"Home Furnishing &gt;&gt; Living\"]</td>\n",
       "      <td>CPCEDGM4RPXJHBHG</td>\n",
       "      <td>1299.00</td>\n",
       "      <td>580.00</td>\n",
       "      <td>159b45e4dede207f28319bf1cacee3bc.jpg</td>\n",
       "      <td>False</td>\n",
       "      <td>MSenterprises Floral Cushions Cover (Pack of 5, 40 cm*40 cm, Brown)\\r\\n                         ...</td>\n",
       "      <td>No rating available</td>\n",
       "      <td>No rating available</td>\n",
       "      <td>MSenterprises</td>\n",
       "      <td>{\"product_specification\"=&gt;[{\"key\"=&gt;\"Closure\", \"value\"=&gt;\"Zipper\"}, {\"key\"=&gt;\"Brand\", \"value\"=&gt;\"MSe...</td>\n",
       "      <td>29</td>\n",
       "    </tr>\n",
       "    <tr>\n",
       "      <th>e56ffc10078972b5f4e7302383db8d72</th>\n",
       "      <td>2015-12-20 08:26:17 +0000</td>\n",
       "      <td>http://www.flipkart.com/nikunj-abstract-cushions-cover/p/itmecsab9nyeehn4?pid=CPCECSABG58X5KHG</td>\n",
       "      <td>Nikunj Abstract Cushions Cover</td>\n",
       "      <td>[\"Home Furnishing &gt;&gt; Living\"]</td>\n",
       "      <td>CPCECSABG58X5KHG</td>\n",
       "      <td>1199.00</td>\n",
       "      <td>999.00</td>\n",
       "      <td>e56ffc10078972b5f4e7302383db8d72.jpg</td>\n",
       "      <td>False</td>\n",
       "      <td>Nikunj Abstract Cushions Cover (Pack of 5, 40 cm*40 cm, Grey)\\r\\n                         Price:...</td>\n",
       "      <td>No rating available</td>\n",
       "      <td>No rating available</td>\n",
       "      <td>Nikunj</td>\n",
       "      <td>{\"product_specification\"=&gt;[{\"key\"=&gt;\"Closure\", \"value\"=&gt;\"Zipper\"}, {\"key\"=&gt;\"Brand\", \"value\"=&gt;\"Nik...</td>\n",
       "      <td>29</td>\n",
       "    </tr>\n",
       "    <tr>\n",
       "      <th>bcb8e456728013a90ba66ab3b1b783ad</th>\n",
       "      <td>2016-01-07 04:32:43 +0000</td>\n",
       "      <td>http://www.flipkart.com/hp-15-ac121tu-notebook-core-i3-5th-gen-4gb-1tb-win10-n8m17pa/p/itmeaz943...</td>\n",
       "      <td>HP 15-ac121tu (Notebook) (Core i3 (5th Gen)/ 4GB/ 1TB/ Win10) (N8M17PA)</td>\n",
       "      <td>[\"Computers &gt;&gt; Laptops &gt;&gt; HP Laptops\"]</td>\n",
       "      <td>COMEAZ94HWYQTZHZ</td>\n",
       "      <td>35390.00</td>\n",
       "      <td>35390.00</td>\n",
       "      <td>bcb8e456728013a90ba66ab3b1b783ad.jpg</td>\n",
       "      <td>True</td>\n",
       "      <td>Buy HP 15-ac121tu (Notebook) (Core i3 (5th Gen)/ 4GB/ 1TB/ Win10) (N8M17PA) Online For Rs.35390 ...</td>\n",
       "      <td>4.5</td>\n",
       "      <td>4.5</td>\n",
       "      <td>HP</td>\n",
       "      <td>{\"product_specification\"=&gt;[{\"key\"=&gt;\"Included Software\", \"value\"=&gt;\"CyberLink YouCam, CyberLink Ph...</td>\n",
       "      <td>38</td>\n",
       "    </tr>\n",
       "    <tr>\n",
       "      <th>85aec4bf3185da7ebcc45003429cbfe2</th>\n",
       "      <td>2016-01-07 04:32:43 +0000</td>\n",
       "      <td>http://www.flipkart.com/hp-15-ac116tx-notebook-core-i3-5th-gen-4gb-1tb-win10-2gb-graph-n8m19pa/p...</td>\n",
       "      <td>HP 15-ac116TX (Notebook) (Core i3 (5th Gen)/ 4GB/ 1TB/ Win10/ 2GB Graph) (N8M19PA)</td>\n",
       "      <td>[\"Computers &gt;&gt; Laptops &gt;&gt; HP Laptops\"]</td>\n",
       "      <td>COMEAZ945RHFFGUS</td>\n",
       "      <td>38890.00</td>\n",
       "      <td>38890.00</td>\n",
       "      <td>85aec4bf3185da7ebcc45003429cbfe2.jpg</td>\n",
       "      <td>True</td>\n",
       "      <td>Buy HP 15-ac116TX (Notebook) (Core i3 (5th Gen)/ 4GB/ 1TB/ Win10/ 2GB Graph) (N8M19PA) Online Fo...</td>\n",
       "      <td>5</td>\n",
       "      <td>5</td>\n",
       "      <td>HP</td>\n",
       "      <td>{\"product_specification\"=&gt;[{\"key\"=&gt;\"Included Software\", \"value\"=&gt;\"CyberLink YouCam, CyberLink Ph...</td>\n",
       "      <td>38</td>\n",
       "    </tr>\n",
       "    <tr>\n",
       "      <th>d395b2f3d13ff8897f403c6141e0e39a</th>\n",
       "      <td>2015-12-20 08:26:17 +0000</td>\n",
       "      <td>http://www.flipkart.com/amber-cotton-set-towels/p/itme3smgsspgkvbs?pid=BTWE3SMGZCGQMAZX</td>\n",
       "      <td>Amber Cotton Set of Towels</td>\n",
       "      <td>[\"Home Furnishing &gt;&gt; Bath Linen &gt;&gt; Towels\"]</td>\n",
       "      <td>BTWE3SMGZCGQMAZX</td>\n",
       "      <td>523.00</td>\n",
       "      <td>239.00</td>\n",
       "      <td>d395b2f3d13ff8897f403c6141e0e39a.jpg</td>\n",
       "      <td>False</td>\n",
       "      <td>Buy Amber Cotton Set of Towels at Rs. 239 at Flipkart.com. Only Genuine Products. Free Shipping....</td>\n",
       "      <td>No rating available</td>\n",
       "      <td>No rating available</td>\n",
       "      <td>Amber</td>\n",
       "      <td>{\"product_specification\"=&gt;[{\"key\"=&gt;\"Material\", \"value\"=&gt;\"Cotton\"}, {\"key\"=&gt;\"Design\", \"value\"=&gt;\"F...</td>\n",
       "      <td>43</td>\n",
       "    </tr>\n",
       "  </tbody>\n",
       "</table>\n",
       "</div>"
      ],
      "text/plain": [
       "                                            crawl_timestamp  \\\n",
       "uniq_id                                                       \n",
       "159b45e4dede207f28319bf1cacee3bc  2015-12-20 08:26:17 +0000   \n",
       "e56ffc10078972b5f4e7302383db8d72  2015-12-20 08:26:17 +0000   \n",
       "bcb8e456728013a90ba66ab3b1b783ad  2016-01-07 04:32:43 +0000   \n",
       "85aec4bf3185da7ebcc45003429cbfe2  2016-01-07 04:32:43 +0000   \n",
       "d395b2f3d13ff8897f403c6141e0e39a  2015-12-20 08:26:17 +0000   \n",
       "\n",
       "                                                                                                                          product_url  \\\n",
       "uniq_id                                                                                                                                 \n",
       "159b45e4dede207f28319bf1cacee3bc  http://www.flipkart.com/msenterprises-floral-cushions-cover/p/itmedgm4rqmjswvg?pid=CPCEDGM4RPXJHBHG   \n",
       "e56ffc10078972b5f4e7302383db8d72       http://www.flipkart.com/nikunj-abstract-cushions-cover/p/itmecsab9nyeehn4?pid=CPCECSABG58X5KHG   \n",
       "bcb8e456728013a90ba66ab3b1b783ad  http://www.flipkart.com/hp-15-ac121tu-notebook-core-i3-5th-gen-4gb-1tb-win10-n8m17pa/p/itmeaz943...   \n",
       "85aec4bf3185da7ebcc45003429cbfe2  http://www.flipkart.com/hp-15-ac116tx-notebook-core-i3-5th-gen-4gb-1tb-win10-2gb-graph-n8m19pa/p...   \n",
       "d395b2f3d13ff8897f403c6141e0e39a              http://www.flipkart.com/amber-cotton-set-towels/p/itme3smgsspgkvbs?pid=BTWE3SMGZCGQMAZX   \n",
       "\n",
       "                                                                                                        product_name  \\\n",
       "uniq_id                                                                                                                \n",
       "159b45e4dede207f28319bf1cacee3bc                                                 MSenterprises Floral Cushions Cover   \n",
       "e56ffc10078972b5f4e7302383db8d72                                                      Nikunj Abstract Cushions Cover   \n",
       "bcb8e456728013a90ba66ab3b1b783ad             HP 15-ac121tu (Notebook) (Core i3 (5th Gen)/ 4GB/ 1TB/ Win10) (N8M17PA)   \n",
       "85aec4bf3185da7ebcc45003429cbfe2  HP 15-ac116TX (Notebook) (Core i3 (5th Gen)/ 4GB/ 1TB/ Win10/ 2GB Graph) (N8M19PA)   \n",
       "d395b2f3d13ff8897f403c6141e0e39a                                                          Amber Cotton Set of Towels   \n",
       "\n",
       "                                                        product_category_tree               pid  \\\n",
       "uniq_id                                                                                           \n",
       "159b45e4dede207f28319bf1cacee3bc                [\"Home Furnishing >> Living\"]  CPCEDGM4RPXJHBHG   \n",
       "e56ffc10078972b5f4e7302383db8d72                [\"Home Furnishing >> Living\"]  CPCECSABG58X5KHG   \n",
       "bcb8e456728013a90ba66ab3b1b783ad       [\"Computers >> Laptops >> HP Laptops\"]  COMEAZ94HWYQTZHZ   \n",
       "85aec4bf3185da7ebcc45003429cbfe2       [\"Computers >> Laptops >> HP Laptops\"]  COMEAZ945RHFFGUS   \n",
       "d395b2f3d13ff8897f403c6141e0e39a  [\"Home Furnishing >> Bath Linen >> Towels\"]  BTWE3SMGZCGQMAZX   \n",
       "\n",
       "                                  retail_price  discounted_price  \\\n",
       "uniq_id                                                            \n",
       "159b45e4dede207f28319bf1cacee3bc       1299.00            580.00   \n",
       "e56ffc10078972b5f4e7302383db8d72       1199.00            999.00   \n",
       "bcb8e456728013a90ba66ab3b1b783ad      35390.00          35390.00   \n",
       "85aec4bf3185da7ebcc45003429cbfe2      38890.00          38890.00   \n",
       "d395b2f3d13ff8897f403c6141e0e39a        523.00            239.00   \n",
       "\n",
       "                                                                 image  is_FK_Advantage_product  \\\n",
       "uniq_id                                                                                           \n",
       "159b45e4dede207f28319bf1cacee3bc  159b45e4dede207f28319bf1cacee3bc.jpg                    False   \n",
       "e56ffc10078972b5f4e7302383db8d72  e56ffc10078972b5f4e7302383db8d72.jpg                    False   \n",
       "bcb8e456728013a90ba66ab3b1b783ad  bcb8e456728013a90ba66ab3b1b783ad.jpg                     True   \n",
       "85aec4bf3185da7ebcc45003429cbfe2  85aec4bf3185da7ebcc45003429cbfe2.jpg                     True   \n",
       "d395b2f3d13ff8897f403c6141e0e39a  d395b2f3d13ff8897f403c6141e0e39a.jpg                    False   \n",
       "\n",
       "                                                                                                                          description  \\\n",
       "uniq_id                                                                                                                                 \n",
       "159b45e4dede207f28319bf1cacee3bc  MSenterprises Floral Cushions Cover (Pack of 5, 40 cm*40 cm, Brown)\\r\\n                         ...   \n",
       "e56ffc10078972b5f4e7302383db8d72  Nikunj Abstract Cushions Cover (Pack of 5, 40 cm*40 cm, Grey)\\r\\n                         Price:...   \n",
       "bcb8e456728013a90ba66ab3b1b783ad  Buy HP 15-ac121tu (Notebook) (Core i3 (5th Gen)/ 4GB/ 1TB/ Win10) (N8M17PA) Online For Rs.35390 ...   \n",
       "85aec4bf3185da7ebcc45003429cbfe2  Buy HP 15-ac116TX (Notebook) (Core i3 (5th Gen)/ 4GB/ 1TB/ Win10/ 2GB Graph) (N8M19PA) Online Fo...   \n",
       "d395b2f3d13ff8897f403c6141e0e39a  Buy Amber Cotton Set of Towels at Rs. 239 at Flipkart.com. Only Genuine Products. Free Shipping....   \n",
       "\n",
       "                                       product_rating       overall_rating          brand  \\\n",
       "uniq_id                                                                                     \n",
       "159b45e4dede207f28319bf1cacee3bc  No rating available  No rating available  MSenterprises   \n",
       "e56ffc10078972b5f4e7302383db8d72  No rating available  No rating available         Nikunj   \n",
       "bcb8e456728013a90ba66ab3b1b783ad                  4.5                  4.5             HP   \n",
       "85aec4bf3185da7ebcc45003429cbfe2                    5                    5             HP   \n",
       "d395b2f3d13ff8897f403c6141e0e39a  No rating available  No rating available          Amber   \n",
       "\n",
       "                                                                                                               product_specifications  \\\n",
       "uniq_id                                                                                                                                 \n",
       "159b45e4dede207f28319bf1cacee3bc  {\"product_specification\"=>[{\"key\"=>\"Closure\", \"value\"=>\"Zipper\"}, {\"key\"=>\"Brand\", \"value\"=>\"MSe...   \n",
       "e56ffc10078972b5f4e7302383db8d72  {\"product_specification\"=>[{\"key\"=>\"Closure\", \"value\"=>\"Zipper\"}, {\"key\"=>\"Brand\", \"value\"=>\"Nik...   \n",
       "bcb8e456728013a90ba66ab3b1b783ad  {\"product_specification\"=>[{\"key\"=>\"Included Software\", \"value\"=>\"CyberLink YouCam, CyberLink Ph...   \n",
       "85aec4bf3185da7ebcc45003429cbfe2  {\"product_specification\"=>[{\"key\"=>\"Included Software\", \"value\"=>\"CyberLink YouCam, CyberLink Ph...   \n",
       "d395b2f3d13ff8897f403c6141e0e39a  {\"product_specification\"=>[{\"key\"=>\"Material\", \"value\"=>\"Cotton\"}, {\"key\"=>\"Design\", \"value\"=>\"F...   \n",
       "\n",
       "                                  cat_prod_len_text  \n",
       "uniq_id                                              \n",
       "159b45e4dede207f28319bf1cacee3bc                 29  \n",
       "e56ffc10078972b5f4e7302383db8d72                 29  \n",
       "bcb8e456728013a90ba66ab3b1b783ad                 38  \n",
       "85aec4bf3185da7ebcc45003429cbfe2                 38  \n",
       "d395b2f3d13ff8897f403c6141e0e39a                 43  "
      ]
     },
     "execution_count": 25,
     "metadata": {},
     "output_type": "execute_result"
    }
   ],
   "source": [
    "data.sort_values('cat_prod_len_text').head(5)"
   ]
  },
  {
   "cell_type": "code",
   "execution_count": 26,
   "id": "7fc0bf95-edad-41dd-9928-e95b0ac64c20",
   "metadata": {},
   "outputs": [
    {
     "data": {
      "text/html": [
       "<div>\n",
       "<style scoped>\n",
       "    .dataframe tbody tr th:only-of-type {\n",
       "        vertical-align: middle;\n",
       "    }\n",
       "\n",
       "    .dataframe tbody tr th {\n",
       "        vertical-align: top;\n",
       "    }\n",
       "\n",
       "    .dataframe thead th {\n",
       "        text-align: right;\n",
       "    }\n",
       "</style>\n",
       "<table border=\"1\" class=\"dataframe\">\n",
       "  <thead>\n",
       "    <tr style=\"text-align: right;\">\n",
       "      <th></th>\n",
       "      <th>crawl_timestamp</th>\n",
       "      <th>product_url</th>\n",
       "      <th>product_name</th>\n",
       "      <th>product_category_tree</th>\n",
       "      <th>pid</th>\n",
       "      <th>retail_price</th>\n",
       "      <th>discounted_price</th>\n",
       "      <th>image</th>\n",
       "      <th>is_FK_Advantage_product</th>\n",
       "      <th>description</th>\n",
       "      <th>product_rating</th>\n",
       "      <th>overall_rating</th>\n",
       "      <th>brand</th>\n",
       "      <th>product_specifications</th>\n",
       "      <th>cat_prod_len_text</th>\n",
       "    </tr>\n",
       "    <tr>\n",
       "      <th>uniq_id</th>\n",
       "      <th></th>\n",
       "      <th></th>\n",
       "      <th></th>\n",
       "      <th></th>\n",
       "      <th></th>\n",
       "      <th></th>\n",
       "      <th></th>\n",
       "      <th></th>\n",
       "      <th></th>\n",
       "      <th></th>\n",
       "      <th></th>\n",
       "      <th></th>\n",
       "      <th></th>\n",
       "      <th></th>\n",
       "      <th></th>\n",
       "    </tr>\n",
       "  </thead>\n",
       "  <tbody>\n",
       "    <tr>\n",
       "      <th>2414e4b7e5948263b8dbb4843557be4d</th>\n",
       "      <td>2016-03-07 19:42:22 +0000</td>\n",
       "      <td>http://www.flipkart.com/smart-wall-guru-large-adhesive-sticker/p/itmegkhujkkrxy22?pid=STIEGKHUWG...</td>\n",
       "      <td>Smart Wall Guru Large Adhesive Sticker Sticker</td>\n",
       "      <td>[\"Home Decor &amp; Festive Needs &gt;&gt; Wall Decor &amp; Clocks &gt;&gt; Wall Decals &amp; Stickers &gt;&gt; Smart Wall Guru...</td>\n",
       "      <td>STIEGKHUWG8GTKFB</td>\n",
       "      <td>1599.00</td>\n",
       "      <td>499.00</td>\n",
       "      <td>2414e4b7e5948263b8dbb4843557be4d.jpg</td>\n",
       "      <td>False</td>\n",
       "      <td>Key Features of Smart Wall Guru Large Adhesive Sticker Sticker Make For Smart Bedroom Study room...</td>\n",
       "      <td>No rating available</td>\n",
       "      <td>No rating available</td>\n",
       "      <td>Smart Wall Guru</td>\n",
       "      <td>{\"product_specification\"=&gt;[{\"key\"=&gt;\"Number of Contents in Sales Package\", \"value\"=&gt;\"Pack of 1\"},...</td>\n",
       "      <td>176</td>\n",
       "    </tr>\n",
       "    <tr>\n",
       "      <th>61c0139f3d5c97f1615797dbf046cc0c</th>\n",
       "      <td>2016-05-16 22:42:47 +0000</td>\n",
       "      <td>http://www.flipkart.com/smart-wall-guru-medium-adhesive-sticker/p/itmegpnxaduhzwgx?pid=STIEGPNXU...</td>\n",
       "      <td>Smart Wall Guru Medium Adhesive Sticker</td>\n",
       "      <td>[\"Home Decor &amp; Festive Needs &gt;&gt; Wall Decor &amp; Clocks &gt;&gt; Wall Decals &amp; Stickers &gt;&gt; Smart Wall Guru...</td>\n",
       "      <td>STIEGPNXUZ7MJHNF</td>\n",
       "      <td>1199.00</td>\n",
       "      <td>299.00</td>\n",
       "      <td>61c0139f3d5c97f1615797dbf046cc0c.jpg</td>\n",
       "      <td>False</td>\n",
       "      <td>Key Features of Smart Wall Guru Medium Adhesive Sticker We Showcase A Variety Of Wall Decal Cate...</td>\n",
       "      <td>No rating available</td>\n",
       "      <td>No rating available</td>\n",
       "      <td>Smart Wall Guru</td>\n",
       "      <td>{\"product_specification\"=&gt;[{\"key\"=&gt;\"Number of Contents in Sales Package\", \"value\"=&gt;\"Pack of 1\"},...</td>\n",
       "      <td>176</td>\n",
       "    </tr>\n",
       "    <tr>\n",
       "      <th>29def171d7e31d48571a52f0fb3e6b07</th>\n",
       "      <td>2016-03-02 19:09:22 +0000</td>\n",
       "      <td>http://www.flipkart.com/ech-oly-ceramic-inside-fitting-hookah-mouth-tip/p/itmefw3sxxy6xmuh?pid=H...</td>\n",
       "      <td>Ech oly Ceramic Inside Fitting Hookah Mouth Tip</td>\n",
       "      <td>[\"Home Decor &amp; Festive Needs &gt;&gt; Table Decor &amp; Handicrafts &gt;&gt; Table Decor &gt;&gt; Hookah Mouth Tips &gt;&gt;...</td>\n",
       "      <td>HMTEFW3SGGF9HYPT</td>\n",
       "      <td>1799.00</td>\n",
       "      <td>699.00</td>\n",
       "      <td>29def171d7e31d48571a52f0fb3e6b07.jpg</td>\n",
       "      <td>False</td>\n",
       "      <td>Ech oly Ceramic Inside Fitting Hookah Mouth Tip (Black) Price: Rs. 699 Durable and can be used r...</td>\n",
       "      <td>No rating available</td>\n",
       "      <td>No rating available</td>\n",
       "      <td>Ech oly</td>\n",
       "      <td>{\"product_specification\"=&gt;[{\"key\"=&gt;\"Brand\", \"value\"=&gt;\"Ech oly\"}, {\"key\"=&gt;\"Model Number\", \"value\"...</td>\n",
       "      <td>179</td>\n",
       "    </tr>\n",
       "    <tr>\n",
       "      <th>fa2e5f01bbb642c49e4b2e19d2b39dcf</th>\n",
       "      <td>2016-05-19 02:12:59 +0000</td>\n",
       "      <td>http://www.flipkart.com/lottie-london-make-me-blush/p/itmegtpn3epjdghr?pid=BAREGTPNZNHZHA8Z</td>\n",
       "      <td>LOTTIE LONDON MAKE ME BLUSH</td>\n",
       "      <td>[\"Beauty and Personal Care &gt;&gt; Beauty Accessories &gt;&gt; Makeup Accessories &gt;&gt; Brushes and Applicator...</td>\n",
       "      <td>BAREGTPNZNHZHA8Z</td>\n",
       "      <td>850.00</td>\n",
       "      <td>765.00</td>\n",
       "      <td>fa2e5f01bbb642c49e4b2e19d2b39dcf.jpg</td>\n",
       "      <td>False</td>\n",
       "      <td>LOTTIE LONDON MAKE ME BLUSH (Pack of 1) Price: Rs. 765 Add a perfectly flushed pop of colour to ...</td>\n",
       "      <td>No rating available</td>\n",
       "      <td>No rating available</td>\n",
       "      <td>LOTTIE LONDON</td>\n",
       "      <td>{\"product_specification\"=&gt;[{\"key\"=&gt;\"Brush Type\", \"value\"=&gt;\"BLUSH BRUSH\"}, {\"key\"=&gt;\"Number of Pie...</td>\n",
       "      <td>183</td>\n",
       "    </tr>\n",
       "    <tr>\n",
       "      <th>7821fb1cbf8d3bb294c3c20527119f15</th>\n",
       "      <td>2016-03-03 06:06:42 +0000</td>\n",
       "      <td>http://www.flipkart.com/surgical-e-sstudio-s0004-gown-pant-hospital-scrub/p/itmeg6yur3fwfbfs?pid...</td>\n",
       "      <td>Surgical e Sstudio S0004 Gown, Pant Hospital Scrub</td>\n",
       "      <td>[\"Beauty and Personal Care &gt;&gt; Health Care &gt;&gt; Medical Equipment &amp; Accessories &gt;&gt; Surgical e Sstud...</td>\n",
       "      <td>HTSEG6YUAFSNFG6M</td>\n",
       "      <td>2500.00</td>\n",
       "      <td>1650.00</td>\n",
       "      <td>7821fb1cbf8d3bb294c3c20527119f15.jpg</td>\n",
       "      <td>False</td>\n",
       "      <td>Key Features of Surgical e Sstudio S0004 Gown, Pant Hospital Scrub Washable High Quality Polyest...</td>\n",
       "      <td>No rating available</td>\n",
       "      <td>No rating available</td>\n",
       "      <td>Surgical e Sstudio</td>\n",
       "      <td>{\"product_specification\"=&gt;[{\"key\"=&gt;\"Brand\", \"value\"=&gt;\"Surgical e Sstudio\"}, {\"key\"=&gt;\"Brand Color...</td>\n",
       "      <td>187</td>\n",
       "    </tr>\n",
       "  </tbody>\n",
       "</table>\n",
       "</div>"
      ],
      "text/plain": [
       "                                            crawl_timestamp  \\\n",
       "uniq_id                                                       \n",
       "2414e4b7e5948263b8dbb4843557be4d  2016-03-07 19:42:22 +0000   \n",
       "61c0139f3d5c97f1615797dbf046cc0c  2016-05-16 22:42:47 +0000   \n",
       "29def171d7e31d48571a52f0fb3e6b07  2016-03-02 19:09:22 +0000   \n",
       "fa2e5f01bbb642c49e4b2e19d2b39dcf  2016-05-19 02:12:59 +0000   \n",
       "7821fb1cbf8d3bb294c3c20527119f15  2016-03-03 06:06:42 +0000   \n",
       "\n",
       "                                                                                                                          product_url  \\\n",
       "uniq_id                                                                                                                                 \n",
       "2414e4b7e5948263b8dbb4843557be4d  http://www.flipkart.com/smart-wall-guru-large-adhesive-sticker/p/itmegkhujkkrxy22?pid=STIEGKHUWG...   \n",
       "61c0139f3d5c97f1615797dbf046cc0c  http://www.flipkart.com/smart-wall-guru-medium-adhesive-sticker/p/itmegpnxaduhzwgx?pid=STIEGPNXU...   \n",
       "29def171d7e31d48571a52f0fb3e6b07  http://www.flipkart.com/ech-oly-ceramic-inside-fitting-hookah-mouth-tip/p/itmefw3sxxy6xmuh?pid=H...   \n",
       "fa2e5f01bbb642c49e4b2e19d2b39dcf          http://www.flipkart.com/lottie-london-make-me-blush/p/itmegtpn3epjdghr?pid=BAREGTPNZNHZHA8Z   \n",
       "7821fb1cbf8d3bb294c3c20527119f15  http://www.flipkart.com/surgical-e-sstudio-s0004-gown-pant-hospital-scrub/p/itmeg6yur3fwfbfs?pid...   \n",
       "\n",
       "                                                                        product_name  \\\n",
       "uniq_id                                                                                \n",
       "2414e4b7e5948263b8dbb4843557be4d      Smart Wall Guru Large Adhesive Sticker Sticker   \n",
       "61c0139f3d5c97f1615797dbf046cc0c             Smart Wall Guru Medium Adhesive Sticker   \n",
       "29def171d7e31d48571a52f0fb3e6b07     Ech oly Ceramic Inside Fitting Hookah Mouth Tip   \n",
       "fa2e5f01bbb642c49e4b2e19d2b39dcf                         LOTTIE LONDON MAKE ME BLUSH   \n",
       "7821fb1cbf8d3bb294c3c20527119f15  Surgical e Sstudio S0004 Gown, Pant Hospital Scrub   \n",
       "\n",
       "                                                                                                                product_category_tree  \\\n",
       "uniq_id                                                                                                                                 \n",
       "2414e4b7e5948263b8dbb4843557be4d  [\"Home Decor & Festive Needs >> Wall Decor & Clocks >> Wall Decals & Stickers >> Smart Wall Guru...   \n",
       "61c0139f3d5c97f1615797dbf046cc0c  [\"Home Decor & Festive Needs >> Wall Decor & Clocks >> Wall Decals & Stickers >> Smart Wall Guru...   \n",
       "29def171d7e31d48571a52f0fb3e6b07  [\"Home Decor & Festive Needs >> Table Decor & Handicrafts >> Table Decor >> Hookah Mouth Tips >>...   \n",
       "fa2e5f01bbb642c49e4b2e19d2b39dcf  [\"Beauty and Personal Care >> Beauty Accessories >> Makeup Accessories >> Brushes and Applicator...   \n",
       "7821fb1cbf8d3bb294c3c20527119f15  [\"Beauty and Personal Care >> Health Care >> Medical Equipment & Accessories >> Surgical e Sstud...   \n",
       "\n",
       "                                               pid  retail_price  discounted_price  \\\n",
       "uniq_id                                                                              \n",
       "2414e4b7e5948263b8dbb4843557be4d  STIEGKHUWG8GTKFB       1599.00            499.00   \n",
       "61c0139f3d5c97f1615797dbf046cc0c  STIEGPNXUZ7MJHNF       1199.00            299.00   \n",
       "29def171d7e31d48571a52f0fb3e6b07  HMTEFW3SGGF9HYPT       1799.00            699.00   \n",
       "fa2e5f01bbb642c49e4b2e19d2b39dcf  BAREGTPNZNHZHA8Z        850.00            765.00   \n",
       "7821fb1cbf8d3bb294c3c20527119f15  HTSEG6YUAFSNFG6M       2500.00           1650.00   \n",
       "\n",
       "                                                                 image  is_FK_Advantage_product  \\\n",
       "uniq_id                                                                                           \n",
       "2414e4b7e5948263b8dbb4843557be4d  2414e4b7e5948263b8dbb4843557be4d.jpg                    False   \n",
       "61c0139f3d5c97f1615797dbf046cc0c  61c0139f3d5c97f1615797dbf046cc0c.jpg                    False   \n",
       "29def171d7e31d48571a52f0fb3e6b07  29def171d7e31d48571a52f0fb3e6b07.jpg                    False   \n",
       "fa2e5f01bbb642c49e4b2e19d2b39dcf  fa2e5f01bbb642c49e4b2e19d2b39dcf.jpg                    False   \n",
       "7821fb1cbf8d3bb294c3c20527119f15  7821fb1cbf8d3bb294c3c20527119f15.jpg                    False   \n",
       "\n",
       "                                                                                                                          description  \\\n",
       "uniq_id                                                                                                                                 \n",
       "2414e4b7e5948263b8dbb4843557be4d  Key Features of Smart Wall Guru Large Adhesive Sticker Sticker Make For Smart Bedroom Study room...   \n",
       "61c0139f3d5c97f1615797dbf046cc0c  Key Features of Smart Wall Guru Medium Adhesive Sticker We Showcase A Variety Of Wall Decal Cate...   \n",
       "29def171d7e31d48571a52f0fb3e6b07  Ech oly Ceramic Inside Fitting Hookah Mouth Tip (Black) Price: Rs. 699 Durable and can be used r...   \n",
       "fa2e5f01bbb642c49e4b2e19d2b39dcf  LOTTIE LONDON MAKE ME BLUSH (Pack of 1) Price: Rs. 765 Add a perfectly flushed pop of colour to ...   \n",
       "7821fb1cbf8d3bb294c3c20527119f15  Key Features of Surgical e Sstudio S0004 Gown, Pant Hospital Scrub Washable High Quality Polyest...   \n",
       "\n",
       "                                       product_rating       overall_rating               brand  \\\n",
       "uniq_id                                                                                          \n",
       "2414e4b7e5948263b8dbb4843557be4d  No rating available  No rating available     Smart Wall Guru   \n",
       "61c0139f3d5c97f1615797dbf046cc0c  No rating available  No rating available     Smart Wall Guru   \n",
       "29def171d7e31d48571a52f0fb3e6b07  No rating available  No rating available             Ech oly   \n",
       "fa2e5f01bbb642c49e4b2e19d2b39dcf  No rating available  No rating available       LOTTIE LONDON   \n",
       "7821fb1cbf8d3bb294c3c20527119f15  No rating available  No rating available  Surgical e Sstudio   \n",
       "\n",
       "                                                                                                               product_specifications  \\\n",
       "uniq_id                                                                                                                                 \n",
       "2414e4b7e5948263b8dbb4843557be4d  {\"product_specification\"=>[{\"key\"=>\"Number of Contents in Sales Package\", \"value\"=>\"Pack of 1\"},...   \n",
       "61c0139f3d5c97f1615797dbf046cc0c  {\"product_specification\"=>[{\"key\"=>\"Number of Contents in Sales Package\", \"value\"=>\"Pack of 1\"},...   \n",
       "29def171d7e31d48571a52f0fb3e6b07  {\"product_specification\"=>[{\"key\"=>\"Brand\", \"value\"=>\"Ech oly\"}, {\"key\"=>\"Model Number\", \"value\"...   \n",
       "fa2e5f01bbb642c49e4b2e19d2b39dcf  {\"product_specification\"=>[{\"key\"=>\"Brush Type\", \"value\"=>\"BLUSH BRUSH\"}, {\"key\"=>\"Number of Pie...   \n",
       "7821fb1cbf8d3bb294c3c20527119f15  {\"product_specification\"=>[{\"key\"=>\"Brand\", \"value\"=>\"Surgical e Sstudio\"}, {\"key\"=>\"Brand Color...   \n",
       "\n",
       "                                  cat_prod_len_text  \n",
       "uniq_id                                              \n",
       "2414e4b7e5948263b8dbb4843557be4d                176  \n",
       "61c0139f3d5c97f1615797dbf046cc0c                176  \n",
       "29def171d7e31d48571a52f0fb3e6b07                179  \n",
       "fa2e5f01bbb642c49e4b2e19d2b39dcf                183  \n",
       "7821fb1cbf8d3bb294c3c20527119f15                187  "
      ]
     },
     "execution_count": 26,
     "metadata": {},
     "output_type": "execute_result"
    }
   ],
   "source": [
    "data.sort_values('cat_prod_len_text').tail(5)"
   ]
  },
  {
   "cell_type": "code",
   "execution_count": 27,
   "id": "1deaef76-59ae-409c-8f46-072fd6491b6e",
   "metadata": {},
   "outputs": [
    {
     "data": {
      "text/plain": [
       "6"
      ]
     },
     "execution_count": 27,
     "metadata": {},
     "output_type": "execute_result"
    }
   ],
   "source": [
    "# Determining the maximum tree depth of categories\n",
    "\n",
    "ser_depth = data['product_category_tree'].apply(lambda x: x.count('>>'))\n",
    "max_depth = ser_depth.max()\n",
    "max_depth"
   ]
  },
  {
   "cell_type": "code",
   "execution_count": 28,
   "id": "bd01fbb5-f7d5-4316-bbfd-407bcc5c00f3",
   "metadata": {},
   "outputs": [],
   "source": [
    "# Suppression de la colonne cat_prod_len_text\n",
    "data.drop(columns='cat_prod_len_text', inplace=True)"
   ]
  },
  {
   "cell_type": "code",
   "execution_count": 29,
   "id": "b6ae93f7-fb5e-432c-9ecf-fc258410ac0e",
   "metadata": {},
   "outputs": [],
   "source": [
    "# Converting the strings in 'product_category_tree' column in 6 categ columns\n",
    "\n",
    "def str_cleaning(ind, my_str, name_level_cols):\n",
    "    my_str = my_str.replace(\"[\\\"\", \"\").replace(\"\\\"]\", \"\")\n",
    "    tab_str = my_str.split(\">>\")\n",
    "    size_tab_str = len(tab_str)\n",
    "    tup_str = tuple([tab_str[i].strip() if i<size_tab_str else \"\" \\\n",
    "                     for i in np.arange(max_depth) ])\n",
    "    return tup_str\n",
    "\n",
    "name_level_cols = ['cat_level_'+str(i) for i in np.arange(max_depth)]\n",
    "ser_tuple = data['product_category_tree']\\\n",
    "    .apply(lambda s: str_cleaning(s.index, s, name_level_cols))\n",
    "df_cat_level = pd.DataFrame([[a,'/'.join([a,b]),'/'.join([a,b,c]),\n",
    "                              '/'.join([a,b,c,d]),'/'.join([a,b,c,d,e]),\n",
    "                              '/'.join([a,b,c,d,e,f])] \\\n",
    "                             for a,b,c,d,e,f in ser_tuple.values],\n",
    "                            columns=name_level_cols, index=data.index)"
   ]
  },
  {
   "cell_type": "code",
   "execution_count": 30,
   "id": "a7407a38-9edd-4386-ba44-f33690d35a25",
   "metadata": {},
   "outputs": [
    {
     "data": {
      "text/plain": [
       "cat_level_0      7\n",
       "cat_level_1     62\n",
       "cat_level_2    243\n",
       "cat_level_3    460\n",
       "cat_level_4    596\n",
       "cat_level_5    633\n",
       "dtype: int64"
      ]
     },
     "metadata": {},
     "output_type": "display_data"
    },
    {
     "data": {
      "text/html": [
       "<div>\n",
       "<style scoped>\n",
       "    .dataframe tbody tr th:only-of-type {\n",
       "        vertical-align: middle;\n",
       "    }\n",
       "\n",
       "    .dataframe tbody tr th {\n",
       "        vertical-align: top;\n",
       "    }\n",
       "\n",
       "    .dataframe thead th {\n",
       "        text-align: right;\n",
       "    }\n",
       "</style>\n",
       "<table border=\"1\" class=\"dataframe\">\n",
       "  <thead>\n",
       "    <tr style=\"text-align: right;\">\n",
       "      <th></th>\n",
       "      <th>cat_level_0</th>\n",
       "      <th>cat_level_1</th>\n",
       "      <th>cat_level_2</th>\n",
       "      <th>cat_level_3</th>\n",
       "      <th>cat_level_4</th>\n",
       "      <th>cat_level_5</th>\n",
       "    </tr>\n",
       "    <tr>\n",
       "      <th>uniq_id</th>\n",
       "      <th></th>\n",
       "      <th></th>\n",
       "      <th></th>\n",
       "      <th></th>\n",
       "      <th></th>\n",
       "      <th></th>\n",
       "    </tr>\n",
       "  </thead>\n",
       "  <tbody>\n",
       "    <tr>\n",
       "      <th>a371cfcae8c6ec3b82ae37a83a8ae9b9</th>\n",
       "      <td>Home Furnishing</td>\n",
       "      <td>Home Furnishing/Bed Linen</td>\n",
       "      <td>Home Furnishing/Bed Linen/Blankets, Quilts &amp; Dohars</td>\n",
       "      <td>Home Furnishing/Bed Linen/Blankets, Quilts &amp; Dohars/</td>\n",
       "      <td>Home Furnishing/Bed Linen/Blankets, Quilts &amp; Dohars//</td>\n",
       "      <td>Home Furnishing/Bed Linen/Blankets, Quilts &amp; Dohars///</td>\n",
       "    </tr>\n",
       "    <tr>\n",
       "      <th>a43fbae655e5d13215b9dd65339fa9d4</th>\n",
       "      <td>Computers</td>\n",
       "      <td>Computers/Network Components</td>\n",
       "      <td>Computers/Network Components/Routers</td>\n",
       "      <td>Computers/Network Components/Routers/Huawei Routers</td>\n",
       "      <td>Computers/Network Components/Routers/Huawei Routers/</td>\n",
       "      <td>Computers/Network Components/Routers/Huawei Routers//</td>\n",
       "    </tr>\n",
       "    <tr>\n",
       "      <th>735820e1614052fde55659da9dc10ccc</th>\n",
       "      <td>Kitchen &amp; Dining</td>\n",
       "      <td>Kitchen &amp; Dining/Bar &amp; Glassware</td>\n",
       "      <td>Kitchen &amp; Dining/Bar &amp; Glassware/Bar Accessories</td>\n",
       "      <td>Kitchen &amp; Dining/Bar &amp; Glassware/Bar Accessories/Bottle Openers</td>\n",
       "      <td>Kitchen &amp; Dining/Bar &amp; Glassware/Bar Accessories/Bottle Openers/arnavs Bottle Openers</td>\n",
       "      <td>Kitchen &amp; Dining/Bar &amp; Glassware/Bar Accessories/Bottle Openers/arnavs Bottle Openers/arnavs Mul...</td>\n",
       "    </tr>\n",
       "  </tbody>\n",
       "</table>\n",
       "</div>"
      ],
      "text/plain": [
       "                                       cat_level_0                       cat_level_1  \\\n",
       "uniq_id                                                                                \n",
       "a371cfcae8c6ec3b82ae37a83a8ae9b9   Home Furnishing         Home Furnishing/Bed Linen   \n",
       "a43fbae655e5d13215b9dd65339fa9d4         Computers      Computers/Network Components   \n",
       "735820e1614052fde55659da9dc10ccc  Kitchen & Dining  Kitchen & Dining/Bar & Glassware   \n",
       "\n",
       "                                                                          cat_level_2  \\\n",
       "uniq_id                                                                                 \n",
       "a371cfcae8c6ec3b82ae37a83a8ae9b9  Home Furnishing/Bed Linen/Blankets, Quilts & Dohars   \n",
       "a43fbae655e5d13215b9dd65339fa9d4                 Computers/Network Components/Routers   \n",
       "735820e1614052fde55659da9dc10ccc     Kitchen & Dining/Bar & Glassware/Bar Accessories   \n",
       "\n",
       "                                                                                      cat_level_3  \\\n",
       "uniq_id                                                                                             \n",
       "a371cfcae8c6ec3b82ae37a83a8ae9b9             Home Furnishing/Bed Linen/Blankets, Quilts & Dohars/   \n",
       "a43fbae655e5d13215b9dd65339fa9d4              Computers/Network Components/Routers/Huawei Routers   \n",
       "735820e1614052fde55659da9dc10ccc  Kitchen & Dining/Bar & Glassware/Bar Accessories/Bottle Openers   \n",
       "\n",
       "                                                                                                            cat_level_4  \\\n",
       "uniq_id                                                                                                                   \n",
       "a371cfcae8c6ec3b82ae37a83a8ae9b9                                  Home Furnishing/Bed Linen/Blankets, Quilts & Dohars//   \n",
       "a43fbae655e5d13215b9dd65339fa9d4                                   Computers/Network Components/Routers/Huawei Routers/   \n",
       "735820e1614052fde55659da9dc10ccc  Kitchen & Dining/Bar & Glassware/Bar Accessories/Bottle Openers/arnavs Bottle Openers   \n",
       "\n",
       "                                                                                                                          cat_level_5  \n",
       "uniq_id                                                                                                                                \n",
       "a371cfcae8c6ec3b82ae37a83a8ae9b9                                               Home Furnishing/Bed Linen/Blankets, Quilts & Dohars///  \n",
       "a43fbae655e5d13215b9dd65339fa9d4                                                Computers/Network Components/Routers/Huawei Routers//  \n",
       "735820e1614052fde55659da9dc10ccc  Kitchen & Dining/Bar & Glassware/Bar Accessories/Bottle Openers/arnavs Bottle Openers/arnavs Mul...  "
      ]
     },
     "metadata": {},
     "output_type": "display_data"
    }
   ],
   "source": [
    "# printing number of categories in each level and a sample\n",
    "display(df_cat_level.nunique(), df_cat_level.sample(3))"
   ]
  },
  {
   "cell_type": "markdown",
   "id": "616b47f9-86da-4ff2-934f-d236598a486b",
   "metadata": {},
   "source": [
    "## Items Number in each category"
   ]
  },
  {
   "cell_type": "code",
   "execution_count": 31,
   "id": "f06f2236-8615-4627-af3a-209b340b0ae9",
   "metadata": {},
   "outputs": [
    {
     "data": {
      "image/png": "[encoded data removed]",
      "text/plain": [
       "<Figure size 1440x144 with 6 Axes>"
      ]
     },
     "metadata": {},
     "output_type": "display_data"
    }
   ],
   "source": [
    "shorten_label = 10\n",
    "n_first = 15\n",
    "fig = plt.figure(figsize=(20,2))\n",
    "for i, col in enumerate(df_cat_level.columns,1):\n",
    "    # plot the graphs\n",
    "    ax = fig.add_subplot(1,len(df_cat_level.columns), i)\n",
    "    ser = df_cat_level.groupby(col).size().sort_values(ascending=False)\n",
    "    ser[0:n_first].plot.bar(width=0.75, color='blue', ec='k', ax=ax)\n",
    "    # shorten the labels\n",
    "    thr = int(shorten_label)\n",
    "    lab_x = [item.get_text() for item in ax.get_xticklabels()]\n",
    "    short_lab_x = [s[:thr]+'...'+s[-thr:] if len(s)>thr else s for s in lab_x]\n",
    "    ax.axes.set_xticklabels(short_lab_x)\n",
    "    # set title\n",
    "    ax.set_title(col+f'\\n({ser.shape[0]} categories)', fontweight='bold')"
   ]
  },
  {
   "cell_type": "code",
   "execution_count": 32,
   "id": "c6cf00f7-5e58-4792-b17a-e4aedb926184",
   "metadata": {},
   "outputs": [
    {
     "data": {
      "text/plain": [
       "array(['Home Furnishing', 'Baby Care', 'Watches',\n",
       "       'Home Decor & Festive Needs', 'Kitchen & Dining',\n",
       "       'Beauty and Personal Care', 'Computers'], dtype=object)"
      ]
     },
     "execution_count": 32,
     "metadata": {},
     "output_type": "execute_result"
    }
   ],
   "source": [
    "# Category level 0\n",
    "df_cat_level.cat_level_0.unique()"
   ]
  },
  {
   "cell_type": "markdown",
   "id": "b16a6f1b-e234-4688-bb7a-553d7ffc501a",
   "metadata": {},
   "source": [
    "Level_0 has 7 catagries and 150 products by categroy. He is balanced. So lets get only level_0 and rename this 7 categories"
   ]
  },
  {
   "cell_type": "code",
   "execution_count": 33,
   "id": "4d091235-4990-4e15-af3a-0f1a059ff018",
   "metadata": {},
   "outputs": [],
   "source": [
    "df_cat_level['category'] = \\\n",
    "df_cat_level['cat_level_0'].replace ({'Home Furnishing' : 'Furnishing',\n",
    "                                      'Baby Care' : 'Baby',\n",
    "                                      'Home Decor & Festive Needs' : 'Home',\n",
    "                                      'Kitchen & Dining' : 'Kitchen',\n",
    "                                      'Beauty and Personal Care' : 'Beauty'\n",
    "                                     })"
   ]
  },
  {
   "cell_type": "code",
   "execution_count": 34,
   "id": "b05197cd-a73b-4c2d-a0f6-1ac1f874cdd9",
   "metadata": {},
   "outputs": [
    {
     "data": {
      "text/html": [
       "<div>\n",
       "<style scoped>\n",
       "    .dataframe tbody tr th:only-of-type {\n",
       "        vertical-align: middle;\n",
       "    }\n",
       "\n",
       "    .dataframe tbody tr th {\n",
       "        vertical-align: top;\n",
       "    }\n",
       "\n",
       "    .dataframe thead th {\n",
       "        text-align: right;\n",
       "    }\n",
       "</style>\n",
       "<table border=\"1\" class=\"dataframe\">\n",
       "  <thead>\n",
       "    <tr style=\"text-align: right;\">\n",
       "      <th></th>\n",
       "      <th>cat_level_0</th>\n",
       "      <th>cat_level_1</th>\n",
       "      <th>cat_level_2</th>\n",
       "      <th>cat_level_3</th>\n",
       "      <th>cat_level_4</th>\n",
       "      <th>cat_level_5</th>\n",
       "      <th>category</th>\n",
       "    </tr>\n",
       "    <tr>\n",
       "      <th>uniq_id</th>\n",
       "      <th></th>\n",
       "      <th></th>\n",
       "      <th></th>\n",
       "      <th></th>\n",
       "      <th></th>\n",
       "      <th></th>\n",
       "      <th></th>\n",
       "    </tr>\n",
       "  </thead>\n",
       "  <tbody>\n",
       "    <tr>\n",
       "      <th>c7d81193e868b50355412ced7a67f8f3</th>\n",
       "      <td>Watches</td>\n",
       "      <td>Watches/Wrist Watches</td>\n",
       "      <td>Watches/Wrist Watches/Maxima Wrist Watches</td>\n",
       "      <td>Watches/Wrist Watches/Maxima Wrist Watches/</td>\n",
       "      <td>Watches/Wrist Watches/Maxima Wrist Watches//</td>\n",
       "      <td>Watches/Wrist Watches/Maxima Wrist Watches///</td>\n",
       "      <td>Watches</td>\n",
       "    </tr>\n",
       "    <tr>\n",
       "      <th>9438a0874e0486f46f3669cac6c2ac90</th>\n",
       "      <td>Computers</td>\n",
       "      <td>Computers/Network Components</td>\n",
       "      <td>Computers/Network Components/Routers</td>\n",
       "      <td>Computers/Network Components/Routers/Edimax Routers</td>\n",
       "      <td>Computers/Network Components/Routers/Edimax Routers/</td>\n",
       "      <td>Computers/Network Components/Routers/Edimax Routers//</td>\n",
       "      <td>Computers</td>\n",
       "    </tr>\n",
       "    <tr>\n",
       "      <th>fc93a41f31c4e997fbfcc5bd0a63ee65</th>\n",
       "      <td>Watches</td>\n",
       "      <td>Watches/Wrist Watches</td>\n",
       "      <td>Watches/Wrist Watches/Perucci Wrist Watches</td>\n",
       "      <td>Watches/Wrist Watches/Perucci Wrist Watches/</td>\n",
       "      <td>Watches/Wrist Watches/Perucci Wrist Watches//</td>\n",
       "      <td>Watches/Wrist Watches/Perucci Wrist Watches///</td>\n",
       "      <td>Watches</td>\n",
       "    </tr>\n",
       "  </tbody>\n",
       "</table>\n",
       "</div>"
      ],
      "text/plain": [
       "                                 cat_level_0                   cat_level_1  \\\n",
       "uniq_id                                                                      \n",
       "c7d81193e868b50355412ced7a67f8f3     Watches         Watches/Wrist Watches   \n",
       "9438a0874e0486f46f3669cac6c2ac90   Computers  Computers/Network Components   \n",
       "fc93a41f31c4e997fbfcc5bd0a63ee65     Watches         Watches/Wrist Watches   \n",
       "\n",
       "                                                                  cat_level_2  \\\n",
       "uniq_id                                                                         \n",
       "c7d81193e868b50355412ced7a67f8f3   Watches/Wrist Watches/Maxima Wrist Watches   \n",
       "9438a0874e0486f46f3669cac6c2ac90         Computers/Network Components/Routers   \n",
       "fc93a41f31c4e997fbfcc5bd0a63ee65  Watches/Wrist Watches/Perucci Wrist Watches   \n",
       "\n",
       "                                                                          cat_level_3  \\\n",
       "uniq_id                                                                                 \n",
       "c7d81193e868b50355412ced7a67f8f3          Watches/Wrist Watches/Maxima Wrist Watches/   \n",
       "9438a0874e0486f46f3669cac6c2ac90  Computers/Network Components/Routers/Edimax Routers   \n",
       "fc93a41f31c4e997fbfcc5bd0a63ee65         Watches/Wrist Watches/Perucci Wrist Watches/   \n",
       "\n",
       "                                                                           cat_level_4  \\\n",
       "uniq_id                                                                                  \n",
       "c7d81193e868b50355412ced7a67f8f3          Watches/Wrist Watches/Maxima Wrist Watches//   \n",
       "9438a0874e0486f46f3669cac6c2ac90  Computers/Network Components/Routers/Edimax Routers/   \n",
       "fc93a41f31c4e997fbfcc5bd0a63ee65         Watches/Wrist Watches/Perucci Wrist Watches//   \n",
       "\n",
       "                                                                            cat_level_5   category  \n",
       "uniq_id                                                                                             \n",
       "c7d81193e868b50355412ced7a67f8f3          Watches/Wrist Watches/Maxima Wrist Watches///    Watches  \n",
       "9438a0874e0486f46f3669cac6c2ac90  Computers/Network Components/Routers/Edimax Routers//  Computers  \n",
       "fc93a41f31c4e997fbfcc5bd0a63ee65         Watches/Wrist Watches/Perucci Wrist Watches///    Watches  "
      ]
     },
     "execution_count": 34,
     "metadata": {},
     "output_type": "execute_result"
    }
   ],
   "source": [
    "df_cat_level.sample(3)"
   ]
  },
  {
   "cell_type": "code",
   "execution_count": 35,
   "id": "c2a13ce5-ba35-400a-8abb-aaf13607c13a",
   "metadata": {},
   "outputs": [
    {
     "name": "stdout",
     "output_type": "stream",
     "text": [
      "<class 'pandas.core.frame.DataFrame'>\n",
      "Index: 1050 entries, 55b85ea15a1536d46b7190ad6fff8ce7 to f2f027ad6a6df617c9f125173da71e44\n",
      "Data columns (total 7 columns):\n",
      " #   Column       Non-Null Count  Dtype \n",
      "---  ------       --------------  ----- \n",
      " 0   cat_level_0  1050 non-null   object\n",
      " 1   cat_level_1  1050 non-null   object\n",
      " 2   cat_level_2  1050 non-null   object\n",
      " 3   cat_level_3  1050 non-null   object\n",
      " 4   cat_level_4  1050 non-null   object\n",
      " 5   cat_level_5  1050 non-null   object\n",
      " 6   category     1050 non-null   object\n",
      "dtypes: object(7)\n",
      "memory usage: 97.9+ KB\n"
     ]
    }
   ],
   "source": [
    "df_cat_level.info()"
   ]
  },
  {
   "cell_type": "code",
   "execution_count": 36,
   "id": "7f680cb6-224b-4a47-87b8-ffdd6b66822e",
   "metadata": {},
   "outputs": [
    {
     "data": {
      "text/html": [
       "<div>\n",
       "<style scoped>\n",
       "    .dataframe tbody tr th:only-of-type {\n",
       "        vertical-align: middle;\n",
       "    }\n",
       "\n",
       "    .dataframe tbody tr th {\n",
       "        vertical-align: top;\n",
       "    }\n",
       "\n",
       "    .dataframe thead th {\n",
       "        text-align: right;\n",
       "    }\n",
       "</style>\n",
       "<table border=\"1\" class=\"dataframe\">\n",
       "  <thead>\n",
       "    <tr style=\"text-align: right;\">\n",
       "      <th></th>\n",
       "      <th>crawl_timestamp</th>\n",
       "      <th>product_url</th>\n",
       "      <th>product_name</th>\n",
       "      <th>product_category_tree</th>\n",
       "      <th>pid</th>\n",
       "      <th>retail_price</th>\n",
       "      <th>discounted_price</th>\n",
       "      <th>image</th>\n",
       "      <th>is_FK_Advantage_product</th>\n",
       "      <th>description</th>\n",
       "      <th>product_rating</th>\n",
       "      <th>overall_rating</th>\n",
       "      <th>brand</th>\n",
       "      <th>product_specifications</th>\n",
       "    </tr>\n",
       "    <tr>\n",
       "      <th>uniq_id</th>\n",
       "      <th></th>\n",
       "      <th></th>\n",
       "      <th></th>\n",
       "      <th></th>\n",
       "      <th></th>\n",
       "      <th></th>\n",
       "      <th></th>\n",
       "      <th></th>\n",
       "      <th></th>\n",
       "      <th></th>\n",
       "      <th></th>\n",
       "      <th></th>\n",
       "      <th></th>\n",
       "      <th></th>\n",
       "    </tr>\n",
       "  </thead>\n",
       "  <tbody>\n",
       "    <tr>\n",
       "      <th>5cd3d274d71e1e0d6bf075421461b2d5</th>\n",
       "      <td>2016-01-01 19:37:22 +0000</td>\n",
       "      <td>http://www.flipkart.com/sapatos-geometric-single-duvet-purple-pink/p/itmeejgjgfvheujz?pid=BLAEEJ...</td>\n",
       "      <td>Sapatos Geometric Single Duvet Purple &amp; Pink</td>\n",
       "      <td>[\"Home Furnishing &gt;&gt; Bed Linen &gt;&gt; Blankets, Quilts &amp; Dohars\"]</td>\n",
       "      <td>BLAEEJGJ6T2NHJRK</td>\n",
       "      <td>2999.00</td>\n",
       "      <td>1499.00</td>\n",
       "      <td>5cd3d274d71e1e0d6bf075421461b2d5.jpg</td>\n",
       "      <td>False</td>\n",
       "      <td>Sapatos Geometric Single Duvet Purple &amp; Pink (Single duvet)\\r\\n                         Price: R...</td>\n",
       "      <td>No rating available</td>\n",
       "      <td>No rating available</td>\n",
       "      <td>Sapatos</td>\n",
       "      <td>{\"product_specification\"=&gt;[{\"key\"=&gt;\"Machine Washable\", \"value\"=&gt;\"No\"}, {\"key\"=&gt;\"Brand\", \"value\"=...</td>\n",
       "    </tr>\n",
       "  </tbody>\n",
       "</table>\n",
       "</div>"
      ],
      "text/plain": [
       "                                            crawl_timestamp  \\\n",
       "uniq_id                                                       \n",
       "5cd3d274d71e1e0d6bf075421461b2d5  2016-01-01 19:37:22 +0000   \n",
       "\n",
       "                                                                                                                          product_url  \\\n",
       "uniq_id                                                                                                                                 \n",
       "5cd3d274d71e1e0d6bf075421461b2d5  http://www.flipkart.com/sapatos-geometric-single-duvet-purple-pink/p/itmeejgjgfvheujz?pid=BLAEEJ...   \n",
       "\n",
       "                                                                  product_name  \\\n",
       "uniq_id                                                                          \n",
       "5cd3d274d71e1e0d6bf075421461b2d5  Sapatos Geometric Single Duvet Purple & Pink   \n",
       "\n",
       "                                                                          product_category_tree  \\\n",
       "uniq_id                                                                                           \n",
       "5cd3d274d71e1e0d6bf075421461b2d5  [\"Home Furnishing >> Bed Linen >> Blankets, Quilts & Dohars\"]   \n",
       "\n",
       "                                               pid  retail_price  discounted_price  \\\n",
       "uniq_id                                                                              \n",
       "5cd3d274d71e1e0d6bf075421461b2d5  BLAEEJGJ6T2NHJRK       2999.00           1499.00   \n",
       "\n",
       "                                                                 image  is_FK_Advantage_product  \\\n",
       "uniq_id                                                                                           \n",
       "5cd3d274d71e1e0d6bf075421461b2d5  5cd3d274d71e1e0d6bf075421461b2d5.jpg                    False   \n",
       "\n",
       "                                                                                                                          description  \\\n",
       "uniq_id                                                                                                                                 \n",
       "5cd3d274d71e1e0d6bf075421461b2d5  Sapatos Geometric Single Duvet Purple & Pink (Single duvet)\\r\\n                         Price: R...   \n",
       "\n",
       "                                       product_rating       overall_rating    brand  \\\n",
       "uniq_id                                                                               \n",
       "5cd3d274d71e1e0d6bf075421461b2d5  No rating available  No rating available  Sapatos   \n",
       "\n",
       "                                                                                                               product_specifications  \n",
       "uniq_id                                                                                                                                \n",
       "5cd3d274d71e1e0d6bf075421461b2d5  {\"product_specification\"=>[{\"key\"=>\"Machine Washable\", \"value\"=>\"No\"}, {\"key\"=>\"Brand\", \"value\"=...  "
      ]
     },
     "execution_count": 36,
     "metadata": {},
     "output_type": "execute_result"
    }
   ],
   "source": [
    "data.sample(1)"
   ]
  },
  {
   "cell_type": "markdown",
   "id": "38012e3a-7680-4330-859b-76b6248f8b0e",
   "metadata": {},
   "source": [
    "## Simplify the dataset\n",
    "Have only category, product name and product description"
   ]
  },
  {
   "cell_type": "code",
   "execution_count": 37,
   "id": "af9d4dfa-f441-4d7d-8015-05ce75129341",
   "metadata": {},
   "outputs": [],
   "source": [
    "df = pd.concat([df_cat_level['category'], data[['product_name', 'description']]], axis=1)"
   ]
  },
  {
   "cell_type": "code",
   "execution_count": 38,
   "id": "59647610-06ab-468e-a8bc-7f72d8a80d34",
   "metadata": {},
   "outputs": [
    {
     "data": {
      "text/html": [
       "<div>\n",
       "<style scoped>\n",
       "    .dataframe tbody tr th:only-of-type {\n",
       "        vertical-align: middle;\n",
       "    }\n",
       "\n",
       "    .dataframe tbody tr th {\n",
       "        vertical-align: top;\n",
       "    }\n",
       "\n",
       "    .dataframe thead th {\n",
       "        text-align: right;\n",
       "    }\n",
       "</style>\n",
       "<table border=\"1\" class=\"dataframe\">\n",
       "  <thead>\n",
       "    <tr style=\"text-align: right;\">\n",
       "      <th></th>\n",
       "      <th>category</th>\n",
       "      <th>product_name</th>\n",
       "      <th>description</th>\n",
       "    </tr>\n",
       "    <tr>\n",
       "      <th>uniq_id</th>\n",
       "      <th></th>\n",
       "      <th></th>\n",
       "      <th></th>\n",
       "    </tr>\n",
       "  </thead>\n",
       "  <tbody>\n",
       "    <tr>\n",
       "      <th>8e94fbcd81112a21860355b3b11cf52d</th>\n",
       "      <td>Beauty</td>\n",
       "      <td>Denver Sport,Hamilton Combo Set</td>\n",
       "      <td>Flipkart.com: Buy Denver Sport,Hamilton Combo Set online only for Rs. 350 from Flipkart.com. Onl...</td>\n",
       "    </tr>\n",
       "    <tr>\n",
       "      <th>378d7dbdb97ecc62c9ad52cb6df23a86</th>\n",
       "      <td>Kitchen</td>\n",
       "      <td>Checkered Chef Steel All-Purpose Scissor</td>\n",
       "      <td>Checkered Chef Steel All-Purpose Scissor (Red, Black, Silver, Pack of 1) Price: Rs. 1,921 YOUR S...</td>\n",
       "    </tr>\n",
       "    <tr>\n",
       "      <th>0bff0eda7a6677dc1acb0477a1f7a121</th>\n",
       "      <td>Baby</td>\n",
       "      <td>Shaun Solid Baby Boy's Grey, Dark Blue Track Pants</td>\n",
       "      <td>Specifications of Shaun Solid Baby Boy's Grey, Dark Blue Track Pants Track Pant Details Number o...</td>\n",
       "    </tr>\n",
       "    <tr>\n",
       "      <th>a898bd6978f9f2c6aa940b9fa3352c27</th>\n",
       "      <td>Beauty</td>\n",
       "      <td>Archies VJ-552 Combo Set</td>\n",
       "      <td>Flipkart.com: Buy Archies VJ-552 Combo Set online only for Rs. 399 from Flipkart.com. Only Genui...</td>\n",
       "    </tr>\n",
       "    <tr>\n",
       "      <th>374e63028d691c380bc43b0dc60e460d</th>\n",
       "      <td>Home</td>\n",
       "      <td>@home Glass Vase</td>\n",
       "      <td>Specifications of @home Glass Vase (18 inch, Grey) General Brand @home Suitable For Table Model ...</td>\n",
       "    </tr>\n",
       "  </tbody>\n",
       "</table>\n",
       "</div>"
      ],
      "text/plain": [
       "                                 category                                        product_name  \\\n",
       "uniq_id                                                                                         \n",
       "8e94fbcd81112a21860355b3b11cf52d   Beauty                     Denver Sport,Hamilton Combo Set   \n",
       "378d7dbdb97ecc62c9ad52cb6df23a86  Kitchen            Checkered Chef Steel All-Purpose Scissor   \n",
       "0bff0eda7a6677dc1acb0477a1f7a121     Baby  Shaun Solid Baby Boy's Grey, Dark Blue Track Pants   \n",
       "a898bd6978f9f2c6aa940b9fa3352c27   Beauty                            Archies VJ-552 Combo Set   \n",
       "374e63028d691c380bc43b0dc60e460d     Home                                    @home Glass Vase   \n",
       "\n",
       "                                                                                                                          description  \n",
       "uniq_id                                                                                                                                \n",
       "8e94fbcd81112a21860355b3b11cf52d  Flipkart.com: Buy Denver Sport,Hamilton Combo Set online only for Rs. 350 from Flipkart.com. Onl...  \n",
       "378d7dbdb97ecc62c9ad52cb6df23a86  Checkered Chef Steel All-Purpose Scissor (Red, Black, Silver, Pack of 1) Price: Rs. 1,921 YOUR S...  \n",
       "0bff0eda7a6677dc1acb0477a1f7a121  Specifications of Shaun Solid Baby Boy's Grey, Dark Blue Track Pants Track Pant Details Number o...  \n",
       "a898bd6978f9f2c6aa940b9fa3352c27  Flipkart.com: Buy Archies VJ-552 Combo Set online only for Rs. 399 from Flipkart.com. Only Genui...  \n",
       "374e63028d691c380bc43b0dc60e460d  Specifications of @home Glass Vase (18 inch, Grey) General Brand @home Suitable For Table Model ...  "
      ]
     },
     "execution_count": 38,
     "metadata": {},
     "output_type": "execute_result"
    }
   ],
   "source": [
    "df.sample(5)"
   ]
  },
  {
   "cell_type": "markdown",
   "id": "978dc69f-c671-4b72-b01a-deb85a85f878",
   "metadata": {},
   "source": [
    "## Look to the particular items"
   ]
  },
  {
   "cell_type": "code",
   "execution_count": 39,
   "id": "24118e47-24f3-49f1-9bf1-7003e873a0db",
   "metadata": {},
   "outputs": [
    {
     "data": {
      "text/plain": [
       "'Mars Queen Eye Liner, Lip Gloss, EyeLiner'"
      ]
     },
     "execution_count": 39,
     "metadata": {},
     "output_type": "execute_result"
    }
   ],
   "source": [
    "df.loc['4a1b23dacd7d2a9ec7414f7159f25a48'].product_name"
   ]
  },
  {
   "cell_type": "code",
   "execution_count": 40,
   "id": "0acb0143-370b-4915-8d6d-dc1c831705cf",
   "metadata": {},
   "outputs": [
    {
     "data": {
      "text/plain": [
       "'Mars Queen Eye Liner, Lip Gloss, EyeLiner (Set of 3) Price: Rs. 299 1 Queen Eye Liner, 1 Lip Gloss, 1 EyeLiner,Specifications of Mars Queen Eye Liner, Lip Gloss, EyeLiner (Set of 3) Combo Set Details Number of Contents in Combo Set 3 Combo Set Contents 1 Queen Eye Liner, 1 Lip Gloss, 1 EyeLiner Ideal For Women Organic No General Traits Professional Care Yes Gift Pack Yes'"
      ]
     },
     "execution_count": 40,
     "metadata": {},
     "output_type": "execute_result"
    }
   ],
   "source": [
    "df.loc['4a1b23dacd7d2a9ec7414f7159f25a48'].description"
   ]
  },
  {
   "cell_type": "code",
   "execution_count": 41,
   "id": "858310a7-2ed6-4cb4-b494-9e74e7c2d203",
   "metadata": {},
   "outputs": [
    {
     "data": {
      "text/plain": [
       "'SF by Sonata 7991PP02 Ocean Digital Watch  - For Men'"
      ]
     },
     "execution_count": 41,
     "metadata": {},
     "output_type": "execute_result"
    }
   ],
   "source": [
    "df.loc['d21409978f5e404b53f89e444f7893fe'].product_name"
   ]
  },
  {
   "cell_type": "code",
   "execution_count": 42,
   "id": "0a6f1a60-ddfb-45c2-ae1d-6af3e9eb9fbe",
   "metadata": {},
   "outputs": [
    {
     "data": {
      "text/plain": [
       "'SF by Sonata 7991PP02 Ocean Digital Watch  - For Men - Buy SF by Sonata 7991PP02 Ocean Digital Watch  - For Men  7991PP02 Online at Rs.999 in India Only at Flipkart.com. Water Resistant, Round Dial, Black Strap - Great Discounts, Only Genuine Products, 30 Day Replacement Guarantee, Free Shipping. Cash On Delivery!'"
      ]
     },
     "execution_count": 42,
     "metadata": {},
     "output_type": "execute_result"
    }
   ],
   "source": [
    "df.loc['d21409978f5e404b53f89e444f7893fe'].description"
   ]
  },
  {
   "cell_type": "markdown",
   "id": "92adc875-4cfb-42da-838a-77d6c115db66",
   "metadata": {
    "tags": []
   },
   "source": [
    "# Explore corpus and documents :"
   ]
  },
  {
   "cell_type": "markdown",
   "id": "4dd2dc97-c2db-4e5e-b26e-4001fd6b82b0",
   "metadata": {},
   "source": [
    "### Nan and duplicated"
   ]
  },
  {
   "cell_type": "code",
   "execution_count": 43,
   "id": "1bb017f5-d6e6-4bb2-87d8-e27ae84af2d6",
   "metadata": {},
   "outputs": [
    {
     "data": {
      "text/plain": [
       "category        0\n",
       "product_name    0\n",
       "description     0\n",
       "dtype: int64"
      ]
     },
     "execution_count": 43,
     "metadata": {},
     "output_type": "execute_result"
    }
   ],
   "source": [
    "df.isna().sum()"
   ]
  },
  {
   "cell_type": "code",
   "execution_count": 44,
   "id": "17408495-a297-40f9-8568-42d5b155ea6a",
   "metadata": {},
   "outputs": [
    {
     "data": {
      "text/plain": [
       "0"
      ]
     },
     "execution_count": 44,
     "metadata": {},
     "output_type": "execute_result"
    }
   ],
   "source": [
    "df.duplicated().sum()"
   ]
  },
  {
   "cell_type": "code",
   "execution_count": 45,
   "id": "d07a81c3-5d23-41c3-8c51-2ce3f1d9a15d",
   "metadata": {},
   "outputs": [
    {
     "data": {
      "text/plain": [
       "0"
      ]
     },
     "execution_count": 45,
     "metadata": {},
     "output_type": "execute_result"
    }
   ],
   "source": [
    "df.duplicated('product_name').sum()"
   ]
  },
  {
   "cell_type": "code",
   "execution_count": 46,
   "id": "a8dc8c3c-0be8-41dd-9525-aeb63b08443f",
   "metadata": {},
   "outputs": [
    {
     "data": {
      "text/plain": [
       "0"
      ]
     },
     "execution_count": 46,
     "metadata": {},
     "output_type": "execute_result"
    }
   ],
   "source": [
    "df.duplicated('description').sum()"
   ]
  },
  {
   "cell_type": "markdown",
   "id": "d88b0e85-fb60-4193-94f3-d74a30080a38",
   "metadata": {},
   "source": [
    "Longueur des documents"
   ]
  },
  {
   "cell_type": "code",
   "execution_count": 47,
   "id": "f7665dcd-3e51-4b8c-b161-0670de8a3c5a",
   "metadata": {
    "tags": []
   },
   "outputs": [
    {
     "data": {
      "text/plain": [
       "uniq_id\n",
       "55b85ea15a1536d46b7190ad6fff8ce7    1420\n",
       "7b72c92c2f6c40268628ec5f14c6d590     444\n",
       "64d5d4a258243731dc7bbb1eef49ad74    1258\n",
       "d4684dcdc759dd9cdf41504698d737d8     858\n",
       "6325b6870c54cd47be6ebfbffa620ec7    1197\n",
       "                                    ... \n",
       "958f54f4c46b53c8a0a9b8167d9140bc    2432\n",
       "fd6cbcc22efb6b761bd564c28928483c    1660\n",
       "5912e037d12774bb73a2048f35a00009     262\n",
       "c3edc504d1b4f0ba6224fa53a43a7ad6     210\n",
       "f2f027ad6a6df617c9f125173da71e44     187\n",
       "Name: description, Length: 1050, dtype: int64"
      ]
     },
     "execution_count": 47,
     "metadata": {},
     "output_type": "execute_result"
    }
   ],
   "source": [
    "df.description.apply(lambda i : len(i))"
   ]
  },
  {
   "cell_type": "markdown",
   "id": "f42b2d6b-37be-48b0-b903-bab3df468ba7",
   "metadata": {},
   "source": [
    "la taille de description est très variable"
   ]
  },
  {
   "cell_type": "code",
   "execution_count": 48,
   "id": "5b376e1c-0010-4d07-a45b-edfef62ccbc4",
   "metadata": {
    "tags": []
   },
   "outputs": [
    {
     "data": {
      "text/plain": [
       "uniq_id\n",
       "55b85ea15a1536d46b7190ad6fff8ce7    58\n",
       "7b72c92c2f6c40268628ec5f14c6d590    26\n",
       "64d5d4a258243731dc7bbb1eef49ad74    35\n",
       "d4684dcdc759dd9cdf41504698d737d8    63\n",
       "6325b6870c54cd47be6ebfbffa620ec7    53\n",
       "                                    ..\n",
       "958f54f4c46b53c8a0a9b8167d9140bc    46\n",
       "fd6cbcc22efb6b761bd564c28928483c    38\n",
       "5912e037d12774bb73a2048f35a00009    65\n",
       "c3edc504d1b4f0ba6224fa53a43a7ad6    39\n",
       "f2f027ad6a6df617c9f125173da71e44    28\n",
       "Name: product_name, Length: 1050, dtype: int64"
      ]
     },
     "execution_count": 48,
     "metadata": {},
     "output_type": "execute_result"
    }
   ],
   "source": [
    "df.product_name.apply(lambda i : len(i))"
   ]
  },
  {
   "cell_type": "code",
   "execution_count": 49,
   "id": "d61a5142-4e09-4e66-9362-1f9f4bfb3e36",
   "metadata": {},
   "outputs": [],
   "source": [
    "## de manière graphique en appelant la méthode len de str\n",
    "df_sample = data.description.str.len()"
   ]
  },
  {
   "cell_type": "code",
   "execution_count": 50,
   "id": "22b7a0e5-a814-4c43-92ea-f807be2d6ec7",
   "metadata": {},
   "outputs": [
    {
     "name": "stderr",
     "output_type": "stream",
     "text": [
      "C:\\Users\\ADSL\\anaconda3\\lib\\site-packages\\seaborn\\_decorators.py:36: FutureWarning: Pass the following variable as a keyword arg: x. From version 0.12, the only valid positional argument will be `data`, and passing other arguments without an explicit keyword will result in an error or misinterpretation.\n",
      "  warnings.warn(\n"
     ]
    },
    {
     "data": {
      "text/plain": [
       "<AxesSubplot:xlabel='description'>"
      ]
     },
     "execution_count": 50,
     "metadata": {},
     "output_type": "execute_result"
    },
    {
     "data": {
      "image/png": "[encoded data removed]",
      "text/plain": [
       "<Figure size 432x288 with 1 Axes>"
      ]
     },
     "metadata": {},
     "output_type": "display_data"
    }
   ],
   "source": [
    "sns.boxplot(df_sample)"
   ]
  },
  {
   "cell_type": "markdown",
   "id": "19b5f826-c0ca-4236-82b2-3a59ffc085d2",
   "metadata": {},
   "source": [
    "La majorité des descriptions fait entre 200 et 600 caractères avec une moyenne de 250 car.\n",
    "On qq ouliers avec une taille élevée"
   ]
  },
  {
   "cell_type": "code",
   "execution_count": 51,
   "id": "3db42889-696f-49bb-9a01-c8d151bbcd75",
   "metadata": {
    "tags": []
   },
   "outputs": [
    {
     "data": {
      "text/plain": [
       "<seaborn.axisgrid.FacetGrid at 0x1f1bf993f70>"
      ]
     },
     "execution_count": 51,
     "metadata": {},
     "output_type": "execute_result"
    },
    {
     "data": {
      "image/png": "[encoded data removed]",
      "text/plain": [
       "<Figure size 360x360 with 1 Axes>"
      ]
     },
     "metadata": {},
     "output_type": "display_data"
    }
   ],
   "source": [
    "#Distribution nombre de description/longueur de texte\n",
    "sns.displot(df_sample)"
   ]
  },
  {
   "cell_type": "code",
   "execution_count": 52,
   "id": "761c9ad1-8a07-427c-b802-39955c5fa26d",
   "metadata": {},
   "outputs": [
    {
     "data": {
      "text/html": [
       "<div>\n",
       "<style scoped>\n",
       "    .dataframe tbody tr th:only-of-type {\n",
       "        vertical-align: middle;\n",
       "    }\n",
       "\n",
       "    .dataframe tbody tr th {\n",
       "        vertical-align: top;\n",
       "    }\n",
       "\n",
       "    .dataframe thead th {\n",
       "        text-align: right;\n",
       "    }\n",
       "</style>\n",
       "<table border=\"1\" class=\"dataframe\">\n",
       "  <thead>\n",
       "    <tr style=\"text-align: right;\">\n",
       "      <th></th>\n",
       "      <th>category</th>\n",
       "      <th>product_name</th>\n",
       "      <th>description</th>\n",
       "    </tr>\n",
       "    <tr>\n",
       "      <th>uniq_id</th>\n",
       "      <th></th>\n",
       "      <th></th>\n",
       "      <th></th>\n",
       "    </tr>\n",
       "  </thead>\n",
       "  <tbody>\n",
       "    <tr>\n",
       "      <th>4f8f64f93f789af51bb07296639acbd2</th>\n",
       "      <td>Beauty</td>\n",
       "      <td>Oxyglow Saffron with vitamin-E Gold Massage Cream &amp; Almond Under Eye Repair Care</td>\n",
       "      <td>Buy Oxyglow Saffron with vitamin-E Gold Massage Cream &amp; Almond Under Eye Repair Care for Rs.579 ...</td>\n",
       "    </tr>\n",
       "    <tr>\n",
       "      <th>968a2b3be84193e3f755c2fe71033a2c</th>\n",
       "      <td>Home</td>\n",
       "      <td>Sovam International Krishna With Cow Idol Showpiece  -  6 cm</td>\n",
       "      <td>Sovam International Krishna With Cow Idol Showpiece  -  6 cm (Brass, White)\\r\\n                 ...</td>\n",
       "    </tr>\n",
       "    <tr>\n",
       "      <th>621a88993a7033df3440ec816c2e386f</th>\n",
       "      <td>Computers</td>\n",
       "      <td>Shopfloor.XYZ Vacuum Cleaner for Computers, Laptops, Mobiles</td>\n",
       "      <td>Shopfloor.XYZ Vacuum Cleaner for Computers, Laptops, Mobiles (SF-VC_011) Price: Rs. 269 Requires...</td>\n",
       "    </tr>\n",
       "    <tr>\n",
       "      <th>894904e26516d491bf1c7711fe800e78</th>\n",
       "      <td>Watches</td>\n",
       "      <td>Only Kidz 20600 Digital Watch  - For Boys, Girls</td>\n",
       "      <td>Only Kidz 20600 Digital Watch  - For Boys, Girls - Buy Only Kidz 20600 Digital Watch  - For Boys...</td>\n",
       "    </tr>\n",
       "    <tr>\n",
       "      <th>b52073e7ed9c00c4108cae4eb0c49c1a</th>\n",
       "      <td>Watches</td>\n",
       "      <td>Vizion 8502-7PURPLE Sports Series Digital Watch  - For Boys, Girls</td>\n",
       "      <td>Vizion 8502-7PURPLE Sports Series Digital Watch  - For Boys, Girls\\r\\n                         P...</td>\n",
       "    </tr>\n",
       "  </tbody>\n",
       "</table>\n",
       "</div>"
      ],
      "text/plain": [
       "                                   category  \\\n",
       "uniq_id                                       \n",
       "4f8f64f93f789af51bb07296639acbd2     Beauty   \n",
       "968a2b3be84193e3f755c2fe71033a2c       Home   \n",
       "621a88993a7033df3440ec816c2e386f  Computers   \n",
       "894904e26516d491bf1c7711fe800e78    Watches   \n",
       "b52073e7ed9c00c4108cae4eb0c49c1a    Watches   \n",
       "\n",
       "                                                                                                      product_name  \\\n",
       "uniq_id                                                                                                              \n",
       "4f8f64f93f789af51bb07296639acbd2  Oxyglow Saffron with vitamin-E Gold Massage Cream & Almond Under Eye Repair Care   \n",
       "968a2b3be84193e3f755c2fe71033a2c                      Sovam International Krishna With Cow Idol Showpiece  -  6 cm   \n",
       "621a88993a7033df3440ec816c2e386f                      Shopfloor.XYZ Vacuum Cleaner for Computers, Laptops, Mobiles   \n",
       "894904e26516d491bf1c7711fe800e78                                  Only Kidz 20600 Digital Watch  - For Boys, Girls   \n",
       "b52073e7ed9c00c4108cae4eb0c49c1a                Vizion 8502-7PURPLE Sports Series Digital Watch  - For Boys, Girls   \n",
       "\n",
       "                                                                                                                          description  \n",
       "uniq_id                                                                                                                                \n",
       "4f8f64f93f789af51bb07296639acbd2  Buy Oxyglow Saffron with vitamin-E Gold Massage Cream & Almond Under Eye Repair Care for Rs.579 ...  \n",
       "968a2b3be84193e3f755c2fe71033a2c  Sovam International Krishna With Cow Idol Showpiece  -  6 cm (Brass, White)\\r\\n                 ...  \n",
       "621a88993a7033df3440ec816c2e386f  Shopfloor.XYZ Vacuum Cleaner for Computers, Laptops, Mobiles (SF-VC_011) Price: Rs. 269 Requires...  \n",
       "894904e26516d491bf1c7711fe800e78  Only Kidz 20600 Digital Watch  - For Boys, Girls - Buy Only Kidz 20600 Digital Watch  - For Boys...  \n",
       "b52073e7ed9c00c4108cae4eb0c49c1a  Vizion 8502-7PURPLE Sports Series Digital Watch  - For Boys, Girls\\r\\n                         P...  "
      ]
     },
     "execution_count": 52,
     "metadata": {},
     "output_type": "execute_result"
    }
   ],
   "source": [
    "df_sample = df.sample(5)\n",
    "df_sample"
   ]
  },
  {
   "cell_type": "code",
   "execution_count": 53,
   "id": "7240a038-c84d-4580-933b-ef4f0c8ddf87",
   "metadata": {
    "tags": []
   },
   "outputs": [
    {
     "data": {
      "text/plain": [
       "uniq_id\n",
       "55b85ea15a1536d46b7190ad6fff8ce7    58\n",
       "7b72c92c2f6c40268628ec5f14c6d590    26\n",
       "64d5d4a258243731dc7bbb1eef49ad74    35\n",
       "d4684dcdc759dd9cdf41504698d737d8    63\n",
       "6325b6870c54cd47be6ebfbffa620ec7    53\n",
       "                                    ..\n",
       "958f54f4c46b53c8a0a9b8167d9140bc    46\n",
       "fd6cbcc22efb6b761bd564c28928483c    38\n",
       "5912e037d12774bb73a2048f35a00009    65\n",
       "c3edc504d1b4f0ba6224fa53a43a7ad6    39\n",
       "f2f027ad6a6df617c9f125173da71e44    28\n",
       "Name: product_name, Length: 1050, dtype: int64"
      ]
     },
     "execution_count": 53,
     "metadata": {},
     "output_type": "execute_result"
    }
   ],
   "source": [
    "# Loguenur du nom du produit\n",
    "df.product_name.apply(lambda i : len(i))"
   ]
  },
  {
   "cell_type": "markdown",
   "id": "94d49c64-9e97-4487-be3e-348979337e36",
   "metadata": {},
   "source": [
    "### Concaténer le nom du produit avec la description \n",
    "Ne garder que la description du produit et sa categorie"
   ]
  },
  {
   "cell_type": "code",
   "execution_count": 54,
   "id": "331afdb6-90e5-492b-bdac-2c93843f268c",
   "metadata": {},
   "outputs": [],
   "source": [
    "#Renommer la catégorie produit\n",
    "df['description'] =df['product_name'] + ' ' + df['description']"
   ]
  },
  {
   "cell_type": "code",
   "execution_count": 55,
   "id": "7792c550-a2fe-48fa-8afa-c2668c605812",
   "metadata": {},
   "outputs": [],
   "source": [
    "# Suppression de la colonne product_name\n",
    "df.drop(columns='product_name', inplace=True)"
   ]
  },
  {
   "cell_type": "code",
   "execution_count": 56,
   "id": "c568ee5a-36a8-4da7-95f3-2346fb2cad70",
   "metadata": {},
   "outputs": [],
   "source": [
    "#df.category.unique()"
   ]
  },
  {
   "cell_type": "code",
   "execution_count": 57,
   "id": "234a4ec9-106d-4821-9e07-91e3f3278bd7",
   "metadata": {},
   "outputs": [],
   "source": [
    "#df[df['category'] =='Watches']\n",
    "#order_items[order_items['order_id'] == '9c4f3693a36ba481e0d9da739679660c']"
   ]
  },
  {
   "cell_type": "code",
   "execution_count": 58,
   "id": "2ad2712b-c93a-42e7-9dec-f33640adf2c7",
   "metadata": {},
   "outputs": [
    {
     "name": "stdout",
     "output_type": "stream",
     "text": [
      "category_product : Beauty\n",
      "Buy Oxyglow Saffron with vitamin-E Gold Massage Cream & Almond Under Eye Repair Care for Rs.579 online. Oxyglow Saffron with vitamin-E Gold Massage Cream & Almond Under Eye Repair Care at best prices with FREE shipping & cash on delivery. Only Genuine Products. 30 Day Replacement Guarantee....\n",
      "\n",
      "\n",
      "\n",
      "category_product : Home\n",
      "Sovam International Krishna With Cow Idol Showpiece  -  6 cm (Brass, White)\n",
      "                         Price: Rs. 1,240\n",
      "\t\t\t\t\n",
      "\t\t\tthis handcrafted antique idol of Lord Krishna with Cow on metal durable stand is made of pure white metal. The idol is silver polished to give it alluring antique look. It is also an ideal gift for your friends and relatives. The gift piece has been prepared by the creative artisans\n",
      "this handcrafted antique idol of Lord Krishna with Cow on metal durable stand is made of pure white metal. The idol is silver polished to give it alluring antique look. It is also an ideal gift for your friends and relatives. The gift piece has been prepared by the creative artisans...\n",
      "\n",
      "\n",
      "\n",
      "category_product : Computers\n",
      "Shopfloor.XYZ Vacuum Cleaner for Computers, Laptops, Mobiles (SF-VC_011) Price: Rs. 269 Requires no external power source, just plugs straight into any USB port. Use the brush and suction tube attachment for general cleaning of air fans, monitor and computer area, or dust on you desktop. Use the keyboard attachment rubber to vacuum the dust and other particles trapped underneath the keyboard keys Press the High power button to increase suction power USB Computer Vacuum Cleaner for Laptop PC Keyboard. Simply connect the PC Vacuum to the USB port of your laptop or computer. It includes two vacuum cleaning attachments - one bristle brush attachment and one flexible plastic tube. It is a handy dusting brush and crevice tool for your computer. It is a very useful device to keep your beloved computers and laptops clean and shining as new.Its operations are simple and easy with high effectiveness.Simply connect the Vacuum to the USB port of your laptop or Computer and go on with the cleaning process.get rid of those dust particles that are stuck between your keys and make them look ancestral.Two Vacuum cleaning attachments are included-one bristle brush attachment and one flexible rubber for computer keyboard tool attachment for easy and efficient cleaning.Two switch levels-slides the switch to the first level to turn on the light, slide the switch to the second level to turn on the vacuum cleaner.The power can be adjusted and Press the \"High Power\" button to increase suction power, for vacuuming heavier dirt and dust easily.Use keyboard attachment rubber to vacuum dust and other particles trapped underneath the keyboard keys, by sliding the squeezable tube between keys.Use the brush & suction tube attachment for general cleaning of air vents (Fan), Monitor and computer areas, or dust on your desktop. Requires NO external power source, as it plugs straight into any USB port. Vacuum Cleaner With Light Powered From USB Port For Computer Keyboard Include Brush. Simple connect the vacuum to the USB port of your laptop or computer. Two Vacuum cleaning attachments included-one bristle brush attachment and one flexible rubber, computer keyboard tool attachment.,Specifications of Shopfloor.XYZ Vacuum Cleaner for Computers, Laptops, Mobiles (SF-VC_011) General Brand Shopfloor.XYZ Designed For Computers, Laptops, Mobiles Model Number SF-VC_011 Model Name Vacuum Cleaner In the Box Sales Package 1 vacuum cleaner...\n",
      "\n",
      "\n",
      "\n",
      "category_product : Watches\n",
      "Only Kidz 20600 Digital Watch  - For Boys, Girls - Buy Only Kidz 20600 Digital Watch  - For Boys, Girls  20600 Online at Rs.599 in India Only at Flipkart.com. Round Dial, Buckle Clasp, Blue and Red Strap - Great Discounts, Only Genuine Products, 30 Day Replacement Guarantee, Free Shipping. Cash On Delivery!...\n",
      "\n",
      "\n",
      "\n",
      "category_product : Watches\n",
      "Vizion 8502-7PURPLE Sports Series Digital Watch  - For Boys, Girls\n",
      "                         Price: Rs. 595\n",
      "\t\t\t\t\n",
      "\t\t\tBrand: Vizion,Sports Series watch for Kids,1 year manufacturer warranty,Digital display,Automatic movement,Metal Case and solid body ,Dial shape:Round,Dial dimension:22mm ,Strap material:Silicone ,Strap width:20mm,Water resistant,Night display cold backLight, Daily Alarm,Hour minute second ,date week display, 12/24 hour format,Attractive brand packaging- Tuff plastic box,Note: In case of non-receipt of warranty card, please intimate us within 48 hours,Disclaimer: Product color may slightly vary due to photographic lighting sources or your monitor settings (The image has been enlarged for better viewing)\n",
      "Brand: Vizion,Sports Series watch for Kids,1 year manufacturer warranty,Digital display,Automatic movement,Metal Case and solid body ,Dial shape:Round,Dial dimension:22mm ,Strap material:Silicone ,Strap width:20mm,Water resistant,Night display cold backLight, Daily Alarm,Hour minute second ,date week display, 12/24 hour format,Attractive brand packaging- Tuff plastic box,Note: In case of non-receipt of warranty card, please intimate us within 48 hours,Disclaimer: Product color may slightly vary due to photographic lighting sources or your monitor settings (The image has been enlarged for better viewing)...\n",
      "\n",
      "\n",
      "\n"
     ]
    }
   ],
   "source": [
    "#imprimer la catégorie du produit, le nom du produit et sa description avec une meilleure présentation\n",
    "for idx, ser in df_sample.iterrows() :\n",
    "    txt_1 = f\"category_product : {ser['category']}\\n\" #Target + saut dde lignes\n",
    "    print(txt_1 + ser['description']+ \"...\" + '\\n\\n\\n') #2 retours chariots\n",
    "   ## print(txt_1 + ser['description']+ \"...\" + '\\n\\n') #2 retours chariots"
   ]
  },
  {
   "cell_type": "code",
   "execution_count": 59,
   "id": "317c2d9b-ce2e-48cf-9795-003e1f994092",
   "metadata": {},
   "outputs": [],
   "source": [
    "#Imprimer 10 documents au hasard d'un sous dataframe\n",
    "def print_sample(sub_df, n_sample=10):\n",
    "    \"\"\" print out n_samples documents from a corpus \"\"\"\n",
    "    samp = sub_df.sample(n_sample)\n",
    "    for idx, ser in samp.iterrows() :\n",
    "        txt_1 = f\"category : {ser['category']}\\n\" #Target + RC\n",
    "        print(txt_1 + ser['description']+ \"...\" + '\\n\\n') #2 RC"
   ]
  },
  {
   "cell_type": "code",
   "execution_count": 60,
   "id": "fe251126-ca83-446d-8f51-5cd6a8a0e1ca",
   "metadata": {},
   "outputs": [
    {
     "name": "stdout",
     "output_type": "stream",
     "text": [
      "category : Home\n",
      "Nihar Pirangi Bomber Showpiece  -  10 cm Buy Nihar Pirangi Bomber Showpiece  -  10 cm for Rs.194 online. Nihar Pirangi Bomber Showpiece  -  10 cm at best prices with FREE shipping & cash on delivery. Only Genuine Products. 30 Day Replacement Guarantee....\n",
      "\n",
      "\n",
      "category : Baby\n",
      "Funcart Frolic Birthday  - Food Grade Plastic Flipkart.com is offering Small Funcart Frolic Birthday  - Food Grade Plastic for only for Rs 154 | Flipkart.com. Only Genuine Products. Free Shipping. Cash On Delivery!...\n",
      "\n",
      "\n",
      "category : Furnishing\n",
      "Rama Floral Single Quilts & Comforters Pink-Red Buy Rama Floral Single Quilts & Comforters Pink-Red at Rs. 749 at Flipkart.com. Only Genuine Products. Free Shipping. Cash On Delivery!...\n",
      "\n",
      "\n",
      "category : Kitchen\n",
      "Deep kitchen press Steel Grater and Slicer Specifications of Deep kitchen press Steel Grater and Slicer (Steel, Pack of 16) General Brand Deep Model Number 112 Type Grater and Slicer Material Steel Model Name kitchen press Slicer Type NA Color Steel In the box Sales Package 1 kitchen press,, 15 jali Pack of 16 Dimensions Weight 600 g Additional Features Dishwasher Safe Yes...\n",
      "\n",
      "\n",
      "category : Home\n",
      "wallskart Floral & Botanical Wallpaper Key Features of wallskart Floral & Botanical Wallpaper Suitable For: Living Room, Bed Room, Kitchen, Office Color: Black Material: Vinyl Paper Type: Vinyl,wallskart Floral & Botanical Wallpaper (35.56 cm X 53.34 cm) Price: Rs. 299 Welcome to the foremost place on the web to find artistic designs of wall decals and wall stickers.Wall decals and wall stickers are self-adhesive vinyl stickers made for applying to a surface.They are a great alternative to wallpaper, paint or stencils and they give you choice. Choose your space, plan the design you`d like to make, and then apply. They are extremely durable and are available in various designs. Its extremely easy to apply them on your walls or any flat,smooth surface,Specifications of wallskart Floral & Botanical Wallpaper (35.56 cm X 53.34 cm) General Brand wallskart Scratch Resistant Yes Shade Black Material Vinyl Color Black Design Wallskart Tinker Bell And Flowers Small Black Wall sticker Suitable For Living Room, Bed Room, Kitchen, Office Theme Floral & Botanical Model Number WKHS0164S Length 35.56 cm Waterproof Yes Width 53.34 cm Paper Type Vinyl Size Small Warranty Covered in Warranty Should Not Be Applied on Freshly Painted Walls. At Least 15 Days after Painting. Should Not Applied On Humid / Wet Surfaces. Not To Be Applied On Textured Surfaces. Not to Be Applied With Paint /Dust Coming Off Surfaces Warranty Summary Wallskart Products come with warranty of 15 Days from the date of purchase and is not transferable. Wallskart warranty covers following: a) any damage to product in transit. b) Any manufacturing defect in product. During the warranty period, Wallskart shall exchange the product free of cost. Wallsk...View More Wallskart Products come with warranty of 15 Days from the date of purchase and is not transferable. Wallskart warranty covers following: a) any damage to product in transit. b) Any manufacturing defect in product. During the warranty period, Wallskart shall exchange the product free of cost. Wallskart Warranty is not valid in the event of following instances: a) Any damage to product due to extreme heat or moisture. b) Mishandling during installation. c) Any damage due to human interference, exposure to fire or accident. Customer agrees that Wallskart reserves the right to correct any issues that were a reason for the return, before any possible refund is issued. Dimensions Weight 250 g Additional Features Other Features Scratch Resistant, Wet Removable Washable Yes In the Box Sales Package 1 wall sticker Pack of 1...\n",
      "\n",
      "\n",
      "category : Watches\n",
      "Times Times_51 Party-Wedding Analog Watch  - For Women, Girls Times Times_51 Party-Wedding Analog Watch  - For Women, Girls\n",
      "                         Price: Rs. 599\n",
      "\t\t\t\t\n",
      "\t\t\tTimes Wedding Analog Pink Dial Women's Watch\n",
      "Times Wedding Analog Pink Dial Women's Watch...\n",
      "\n",
      "\n",
      "category : Watches\n",
      "Perucci PC-414W Decker Analog Watch  - For Men Perucci PC-414W Decker Analog Watch  - For Men - Buy Perucci PC-414W Decker Analog Watch  - For Men  PC-414W Online at Rs.390 in India Only at Flipkart.com. Beautifull Watches, Comfortable Watches, Fancy Watche, Stylish Watches - Great Discounts, Only Genuine Products, 30 Day Replacement Guarantee, Free Shipping. Cash On Delivery!...\n",
      "\n",
      "\n",
      "category : Computers\n",
      "Crystle Crystle01 CRSTL - Bluecensor USB Led Light, USB Cable Buy Crystle Crystle01 CRSTL - Bluecensor USB Led Light, USB Cable for Rs.199 online. Crystle Crystle01 CRSTL - Bluecensor USB Led Light, USB Cable at best prices with FREE shipping & cash on delivery. Only Genuine Products. 30 Day Replacement Guarantee....\n",
      "\n",
      "\n",
      "category : Beauty\n",
      "Mars Queen Eye Liner, Lip Gloss, EyeLiner Mars Queen Eye Liner, Lip Gloss, EyeLiner (Set of 3) Price: Rs. 299 1 Queen Eye Liner, 1 Lip Gloss, 1 EyeLiner,Specifications of Mars Queen Eye Liner, Lip Gloss, EyeLiner (Set of 3) Combo Set Details Number of Contents in Combo Set 3 Combo Set Contents 1 Queen Eye Liner, 1 Lip Gloss, 1 EyeLiner Ideal For Women Organic No General Traits Professional Care Yes Gift Pack Yes...\n",
      "\n",
      "\n",
      "category : Baby\n",
      "Sparklings Cotton Checkered Double Bedsheet Key Features of Sparklings Cotton Checkered Double Bedsheet Best Fit For:-Large Size Double Bed(6.5 ft X 6 ft) Thread Count:160 TC Package Content:1 Double Bedsheet With 2 Pillow Cover,Sparklings Cotton Checkered Double Bedsheet (double bedsheet with pillow covers, Multicolor) Price: Rs. 549 There are days when you don’t want to socialise, and just curl up on your bed, and read, or watch your favourite TV show. For those days, you can jazz up your bedroom décor, by spreading this double bedsheet from SPARKLINGS to pep up your mood. Print that you will Love The blend of abstract and floral prints gives this bedsheet an appealing look. Cotton You wouldn’t want to leave your bedroom anymore, as the bedsheet and two pillow covers are made of cotton to help you relax your body and mind as soon as you hit the bed.,Specifications of Sparklings Cotton Checkered Double Bedsheet (double bedsheet with pillow covers, Multicolor) General Brand Sparklings Machine Washable Yes Type Flat Material Cotton Model Name BDOA510SPK Ideal For Boys & Girls Model ID BDOA510SPK Color Multicolor Size Double Fabric Care First few wash separately, Dark colors to be wash separately, Cold machine wash, Do not use strong Detergent, Do not Bleach, Do not Tumble Dry, Do not Iron on Prints, Do not soak for long time, Dry In Shade. Dimensions Flat Sheet Width 89 inch / 228 cm Fitted Sheet Width 0 cm Pillow Cover Width 17 inch / 45 cm Pillow Cover Length 27 inch / 69 cm Weight 450 g Fitted Sheet Depth 0 cm Fitted Sheet Length 0 cm Flat Sheet Depth 3 cm Flat Sheet Length 89 inch / 228 cm In the Box Number of Contents in Sales Package 1 Sales Package double bedsheet with pillow covers Additional Features Product color may vary due to photogenic effect...\n",
      "\n",
      "\n"
     ]
    }
   ],
   "source": [
    "print_sample(df)"
   ]
  },
  {
   "cell_type": "markdown",
   "id": "3f6d49ee-439c-400f-914d-efeb9693458c",
   "metadata": {},
   "source": [
    " # Text Processing\n",
    " ## text cleaning : Tokenizer, stop words, baw, etc..\n",
    " Tokeniser = réduire un ensembe de documents en briques élémentaires"
   ]
  },
  {
   "cell_type": "code",
   "execution_count": 61,
   "id": "f9d8a657-6ccd-4755-870d-ba77449e1be6",
   "metadata": {},
   "outputs": [],
   "source": [
    "# Tokenizer\n",
    "import nltk\n",
    "from nltk.tokenize import sent_tokenize, word_tokenize\n",
    "\n",
    "def tokenizer_fct(sentence) :\n",
    "    # print(sentence)\n",
    "    sentence_clean = sentence.replace('-', ' ').replace('+', ' ').replace('/', ' ').replace('#', ' ')\n",
    "    word_tokens = word_tokenize(sentence_clean)\n",
    "    return word_tokens\n",
    "\n",
    "# Stop words\n",
    "from nltk.corpus import stopwords\n",
    "stop_w = list(set(stopwords.words('english'))) + ['[', ']', ',', '.', ':', '?', '(', ')']\n",
    "\n",
    "def stop_word_filter_fct(list_words) :\n",
    "    filtered_w = [w for w in list_words if not w in stop_w]\n",
    "    filtered_w2 = [w for w in filtered_w if len(w) > 2]\n",
    "    return filtered_w2\n",
    "\n",
    "# lower case et alpha\n",
    "def lower_start_fct(list_words) :\n",
    "    lw = [w.lower() for w in list_words if (not w.startswith(\"@\")) \n",
    "    #                                   and (not w.startswith(\"#\"))\n",
    "                                       and (not w.startswith(\"http\"))]\n",
    "    return lw\n",
    "\n",
    "# Lemmatizer (base d'un mot)\n",
    "from nltk.stem import WordNetLemmatizer\n",
    "\n",
    "def lemma_fct(list_words) :\n",
    "    lemmatizer = WordNetLemmatizer()\n",
    "    lem_w = [lemmatizer.lemmatize(w) for w in list_words]\n",
    "    return lem_w\n",
    "\n",
    "# Fonction de préparation du texte pour le bag of words (Countvectorizer et Tf_idf, Word2Vec)\n",
    "def transform_bow_fct(desc_text) :\n",
    "    word_tokens = tokenizer_fct(desc_text)\n",
    "    sw = stop_word_filter_fct(word_tokens)\n",
    "    lw = lower_start_fct(sw)\n",
    "    # lem_w = lemma_fct(lw)    \n",
    "    transf_desc_text = ' '.join(lw)\n",
    "    return transf_desc_text\n",
    "\n",
    "# Fonction de préparation du texte pour le bag of words avec lemmatization\n",
    "def transform_bow_lem_fct(desc_text) :\n",
    "    word_tokens = tokenizer_fct(desc_text)\n",
    "    sw = stop_word_filter_fct(word_tokens)\n",
    "    lw = lower_start_fct(sw)\n",
    "    lem_w = lemma_fct(lw)    \n",
    "    transf_desc_text = ' '.join(lem_w)\n",
    "    return transf_desc_text\n",
    "\n",
    "# Fonction de préparation du texte pour le Deep learning (USE et BERT)\n",
    "def transform_dl_fct(desc_text) :\n",
    "    word_tokens = tokenizer_fct(desc_text)\n",
    "#    sw = stop_word_filter_fct(word_tokens)\n",
    "    lw = lower_start_fct(word_tokens)\n",
    "    # lem_w = lemma_fct(lw)    \n",
    "    transf_desc_text = ' '.join(lw)\n",
    "    return transf_desc_text\n",
    "\n"
   ]
  },
  {
   "cell_type": "code",
   "execution_count": 62,
   "id": "0abdf249-6587-4f64-8509-e78d85625f87",
   "metadata": {},
   "outputs": [
    {
     "data": {
      "text/plain": [
       "(1050, 5)"
      ]
     },
     "execution_count": 62,
     "metadata": {},
     "output_type": "execute_result"
    }
   ],
   "source": [
    "#Préparation de chq type de bag of words et ajout dans les colonnes du dataset\n",
    "df['description_bow'] =     df['description'].apply(lambda x : transform_bow_fct(x))\n",
    "df['description_bow_lem'] = df['description'].apply(lambda x : transform_bow_lem_fct(x))##Pour lematiser\n",
    "df['description_dl'] =      df['description'].apply(lambda x : transform_dl_fct(x)) ##Pour le DeepLearning\n",
    "df.shape"
   ]
  },
  {
   "cell_type": "code",
   "execution_count": 63,
   "id": "6dc622d3-aab1-443b-938d-97d76aec0411",
   "metadata": {},
   "outputs": [],
   "source": [
    "#Sauvegardre le dataframe  nettoyé\n",
    "data.to_csv(path + '/cleaned/flipkart_com_cleaned.csv', index=False)# pour éviter d'avoir une colonne unamed=0, spécifier index=False"
   ]
  },
  {
   "cell_type": "code",
   "execution_count": 64,
   "id": "c966b12f-be83-4e60-a236-b28dc05ffebe",
   "metadata": {},
   "outputs": [
    {
     "data": {
      "text/html": [
       "<div>\n",
       "<style scoped>\n",
       "    .dataframe tbody tr th:only-of-type {\n",
       "        vertical-align: middle;\n",
       "    }\n",
       "\n",
       "    .dataframe tbody tr th {\n",
       "        vertical-align: top;\n",
       "    }\n",
       "\n",
       "    .dataframe thead th {\n",
       "        text-align: right;\n",
       "    }\n",
       "</style>\n",
       "<table border=\"1\" class=\"dataframe\">\n",
       "  <thead>\n",
       "    <tr style=\"text-align: right;\">\n",
       "      <th></th>\n",
       "      <th>category</th>\n",
       "      <th>description</th>\n",
       "      <th>description_bow</th>\n",
       "      <th>description_bow_lem</th>\n",
       "      <th>description_dl</th>\n",
       "    </tr>\n",
       "    <tr>\n",
       "      <th>uniq_id</th>\n",
       "      <th></th>\n",
       "      <th></th>\n",
       "      <th></th>\n",
       "      <th></th>\n",
       "      <th></th>\n",
       "    </tr>\n",
       "  </thead>\n",
       "  <tbody>\n",
       "    <tr>\n",
       "      <th>8ec6ee9814a27423e66c3c9ea26f77aa</th>\n",
       "      <td>Furnishing</td>\n",
       "      <td>Scalabedding Cotton Striped King sized Double Bedsheet Buy Scalabedding Cotton Striped King size...</td>\n",
       "      <td>scalabedding cotton striped king sized double bedsheet buy scalabedding cotton striped king size...</td>\n",
       "      <td>scalabedding cotton striped king sized double bedsheet buy scalabedding cotton striped king size...</td>\n",
       "      <td>scalabedding cotton striped king sized double bedsheet buy scalabedding cotton striped king size...</td>\n",
       "    </tr>\n",
       "    <tr>\n",
       "      <th>8876d7569efdaff5a21b33a1ab44a13d</th>\n",
       "      <td>Baby</td>\n",
       "      <td>MKB Baby Girl's Shirt Dress Key Features of MKB Baby Girl's Shirt Dress Material: Velvet &amp; Net L...</td>\n",
       "      <td>mkb baby girl shirt dress key features mkb baby girl shirt dress material velvet net length inch...</td>\n",
       "      <td>mkb baby girl shirt dress key feature mkb baby girl shirt dress material velvet net length inch ...</td>\n",
       "      <td>mkb baby girl 's shirt dress key features of mkb baby girl 's shirt dress material : velvet &amp; ne...</td>\n",
       "    </tr>\n",
       "    <tr>\n",
       "      <th>4a1b23dacd7d2a9ec7414f7159f25a48</th>\n",
       "      <td>Beauty</td>\n",
       "      <td>Mars Queen Eye Liner, Lip Gloss, EyeLiner Mars Queen Eye Liner, Lip Gloss, EyeLiner (Set of 3) P...</td>\n",
       "      <td>mars queen eye liner lip gloss eyeliner mars queen eye liner lip gloss eyeliner set price 299 qu...</td>\n",
       "      <td>mar queen eye liner lip gloss eyeliner mar queen eye liner lip gloss eyeliner set price 299 quee...</td>\n",
       "      <td>mars queen eye liner , lip gloss , eyeliner mars queen eye liner , lip gloss , eyeliner ( set of...</td>\n",
       "    </tr>\n",
       "    <tr>\n",
       "      <th>908cc351957d02f72f60916006c531ba</th>\n",
       "      <td>Home</td>\n",
       "      <td>Rajo Raja Mahavastu Buddha Artpiece Showpiece  -  20.5 cm Buy Rajo Raja Mahavastu Buddha Artpiec...</td>\n",
       "      <td>rajo raja mahavastu buddha artpiece showpiece 20.5 buy rajo raja mahavastu buddha artpiece showp...</td>\n",
       "      <td>rajo raja mahavastu buddha artpiece showpiece 20.5 buy rajo raja mahavastu buddha artpiece showp...</td>\n",
       "      <td>rajo raja mahavastu buddha artpiece showpiece 20.5 cm buy rajo raja mahavastu buddha artpiece sh...</td>\n",
       "    </tr>\n",
       "    <tr>\n",
       "      <th>d21409978f5e404b53f89e444f7893fe</th>\n",
       "      <td>Watches</td>\n",
       "      <td>SF by Sonata 7991PP02 Ocean Digital Watch  - For Men SF by Sonata 7991PP02 Ocean Digital Watch  ...</td>\n",
       "      <td>sonata 7991pp02 ocean digital watch for men sonata 7991pp02 ocean digital watch for men buy sona...</td>\n",
       "      <td>sonata 7991pp02 ocean digital watch for men sonata 7991pp02 ocean digital watch for men buy sona...</td>\n",
       "      <td>sf by sonata 7991pp02 ocean digital watch for men sf by sonata 7991pp02 ocean digital watch for ...</td>\n",
       "    </tr>\n",
       "  </tbody>\n",
       "</table>\n",
       "</div>"
      ],
      "text/plain": [
       "                                    category  \\\n",
       "uniq_id                                        \n",
       "8ec6ee9814a27423e66c3c9ea26f77aa  Furnishing   \n",
       "8876d7569efdaff5a21b33a1ab44a13d        Baby   \n",
       "4a1b23dacd7d2a9ec7414f7159f25a48      Beauty   \n",
       "908cc351957d02f72f60916006c531ba        Home   \n",
       "d21409978f5e404b53f89e444f7893fe     Watches   \n",
       "\n",
       "                                                                                                                          description  \\\n",
       "uniq_id                                                                                                                                 \n",
       "8ec6ee9814a27423e66c3c9ea26f77aa  Scalabedding Cotton Striped King sized Double Bedsheet Buy Scalabedding Cotton Striped King size...   \n",
       "8876d7569efdaff5a21b33a1ab44a13d  MKB Baby Girl's Shirt Dress Key Features of MKB Baby Girl's Shirt Dress Material: Velvet & Net L...   \n",
       "4a1b23dacd7d2a9ec7414f7159f25a48  Mars Queen Eye Liner, Lip Gloss, EyeLiner Mars Queen Eye Liner, Lip Gloss, EyeLiner (Set of 3) P...   \n",
       "908cc351957d02f72f60916006c531ba  Rajo Raja Mahavastu Buddha Artpiece Showpiece  -  20.5 cm Buy Rajo Raja Mahavastu Buddha Artpiec...   \n",
       "d21409978f5e404b53f89e444f7893fe  SF by Sonata 7991PP02 Ocean Digital Watch  - For Men SF by Sonata 7991PP02 Ocean Digital Watch  ...   \n",
       "\n",
       "                                                                                                                      description_bow  \\\n",
       "uniq_id                                                                                                                                 \n",
       "8ec6ee9814a27423e66c3c9ea26f77aa  scalabedding cotton striped king sized double bedsheet buy scalabedding cotton striped king size...   \n",
       "8876d7569efdaff5a21b33a1ab44a13d  mkb baby girl shirt dress key features mkb baby girl shirt dress material velvet net length inch...   \n",
       "4a1b23dacd7d2a9ec7414f7159f25a48  mars queen eye liner lip gloss eyeliner mars queen eye liner lip gloss eyeliner set price 299 qu...   \n",
       "908cc351957d02f72f60916006c531ba  rajo raja mahavastu buddha artpiece showpiece 20.5 buy rajo raja mahavastu buddha artpiece showp...   \n",
       "d21409978f5e404b53f89e444f7893fe  sonata 7991pp02 ocean digital watch for men sonata 7991pp02 ocean digital watch for men buy sona...   \n",
       "\n",
       "                                                                                                                  description_bow_lem  \\\n",
       "uniq_id                                                                                                                                 \n",
       "8ec6ee9814a27423e66c3c9ea26f77aa  scalabedding cotton striped king sized double bedsheet buy scalabedding cotton striped king size...   \n",
       "8876d7569efdaff5a21b33a1ab44a13d  mkb baby girl shirt dress key feature mkb baby girl shirt dress material velvet net length inch ...   \n",
       "4a1b23dacd7d2a9ec7414f7159f25a48  mar queen eye liner lip gloss eyeliner mar queen eye liner lip gloss eyeliner set price 299 quee...   \n",
       "908cc351957d02f72f60916006c531ba  rajo raja mahavastu buddha artpiece showpiece 20.5 buy rajo raja mahavastu buddha artpiece showp...   \n",
       "d21409978f5e404b53f89e444f7893fe  sonata 7991pp02 ocean digital watch for men sonata 7991pp02 ocean digital watch for men buy sona...   \n",
       "\n",
       "                                                                                                                       description_dl  \n",
       "uniq_id                                                                                                                                \n",
       "8ec6ee9814a27423e66c3c9ea26f77aa  scalabedding cotton striped king sized double bedsheet buy scalabedding cotton striped king size...  \n",
       "8876d7569efdaff5a21b33a1ab44a13d  mkb baby girl 's shirt dress key features of mkb baby girl 's shirt dress material : velvet & ne...  \n",
       "4a1b23dacd7d2a9ec7414f7159f25a48  mars queen eye liner , lip gloss , eyeliner mars queen eye liner , lip gloss , eyeliner ( set of...  \n",
       "908cc351957d02f72f60916006c531ba  rajo raja mahavastu buddha artpiece showpiece 20.5 cm buy rajo raja mahavastu buddha artpiece sh...  \n",
       "d21409978f5e404b53f89e444f7893fe  sf by sonata 7991pp02 ocean digital watch for men sf by sonata 7991pp02 ocean digital watch for ...  "
      ]
     },
     "execution_count": 64,
     "metadata": {},
     "output_type": "execute_result"
    }
   ],
   "source": [
    "df.sample(5)"
   ]
  },
  {
   "cell_type": "code",
   "execution_count": 65,
   "id": "9ba9f1cc-0971-4f41-9885-6abac62ad86b",
   "metadata": {},
   "outputs": [
    {
     "name": "stdout",
     "output_type": "stream",
     "text": [
      "max length bow :  384\n",
      "max length dl :  637\n",
      "max length lem :  384\n"
     ]
    }
   ],
   "source": [
    "df['length_bow'] = df['description_bow'].apply(lambda x : len(word_tokenize(x)))\n",
    "print(\"max length bow : \", df['length_bow'].max())\n",
    "df['length_dl'] = df['description_dl'].apply(lambda x : len(word_tokenize(x)))\n",
    "print(\"max length dl : \", df['length_dl'].max())\n",
    "df['length_lem'] = df['description_bow_lem'].apply(lambda x : len(word_tokenize(x)))\n",
    "print(\"max length lem : \", df['length_lem'].max())"
   ]
  },
  {
   "cell_type": "code",
   "execution_count": 66,
   "id": "71ac66b4-45c1-4c81-a6ce-14bb8c12e21b",
   "metadata": {},
   "outputs": [
    {
     "data": {
      "text/html": [
       "<div>\n",
       "<style scoped>\n",
       "    .dataframe tbody tr th:only-of-type {\n",
       "        vertical-align: middle;\n",
       "    }\n",
       "\n",
       "    .dataframe tbody tr th {\n",
       "        vertical-align: top;\n",
       "    }\n",
       "\n",
       "    .dataframe thead th {\n",
       "        text-align: right;\n",
       "    }\n",
       "</style>\n",
       "<table border=\"1\" class=\"dataframe\">\n",
       "  <thead>\n",
       "    <tr style=\"text-align: right;\">\n",
       "      <th></th>\n",
       "      <th>category</th>\n",
       "      <th>description</th>\n",
       "      <th>description_bow</th>\n",
       "      <th>description_bow_lem</th>\n",
       "      <th>description_dl</th>\n",
       "      <th>length_bow</th>\n",
       "      <th>length_dl</th>\n",
       "      <th>length_lem</th>\n",
       "    </tr>\n",
       "    <tr>\n",
       "      <th>uniq_id</th>\n",
       "      <th></th>\n",
       "      <th></th>\n",
       "      <th></th>\n",
       "      <th></th>\n",
       "      <th></th>\n",
       "      <th></th>\n",
       "      <th></th>\n",
       "      <th></th>\n",
       "    </tr>\n",
       "  </thead>\n",
       "  <tbody>\n",
       "    <tr>\n",
       "      <th>c75d6d827876b0d0127acb59e5a251ee</th>\n",
       "      <td>Computers</td>\n",
       "      <td>TRENDnet TEW-752DRU Buy TRENDnet TEW-752DRU only for Rs. 5199 from Flipkart.com. Only Genuine Pr...</td>\n",
       "      <td>trendnet tew 752dru buy trendnet tew 752dru 5199 flipkart.com only genuine products day replacem...</td>\n",
       "      <td>trendnet tew 752dru buy trendnet tew 752dru 5199 flipkart.com only genuine product day replaceme...</td>\n",
       "      <td>trendnet tew 752dru buy trendnet tew 752dru only for rs . 5199 from flipkart.com . only genuine ...</td>\n",
       "      <td>19</td>\n",
       "      <td>31</td>\n",
       "      <td>19</td>\n",
       "    </tr>\n",
       "    <tr>\n",
       "      <th>9c8fdf6c9c631d0892e9a6f55a4a2fd2</th>\n",
       "      <td>Beauty</td>\n",
       "      <td>NYX Set Of 2 Soft Matte Lip Cream 06,22 NYX Set Of 2 Soft Matte Lip Cream 06,22 (Multi color) Pr...</td>\n",
       "      <td>nyx set soft matte lip cream 06,22 nyx set soft matte lip cream 06,22 multi color price 1,600 ny...</td>\n",
       "      <td>nyx set soft matte lip cream 06,22 nyx set soft matte lip cream 06,22 multi color price 1,600 ny...</td>\n",
       "      <td>nyx set of 2 soft matte lip cream 06,22 nyx set of 2 soft matte lip cream 06,22 ( multi color ) ...</td>\n",
       "      <td>86</td>\n",
       "      <td>123</td>\n",
       "      <td>86</td>\n",
       "    </tr>\n",
       "    <tr>\n",
       "      <th>c5590e238d44b370337624f5987fb9b8</th>\n",
       "      <td>Kitchen</td>\n",
       "      <td>Rockmantra Abstrcts 8 Ceramic Mug Rockmantra Abstrcts 8 Ceramic Mug (5.5 l)\\r\\n                 ...</td>\n",
       "      <td>rockmantra abstrcts ceramic mug rockmantra abstrcts ceramic mug 5.5 price 199 give thrilling yet...</td>\n",
       "      <td>rockmantra abstrcts ceramic mug rockmantra abstrcts ceramic mug 5.5 price 199 give thrilling yet...</td>\n",
       "      <td>rockmantra abstrcts 8 ceramic mug rockmantra abstrcts 8 ceramic mug ( 5.5 l ) price : rs . 199 g...</td>\n",
       "      <td>81</td>\n",
       "      <td>145</td>\n",
       "      <td>81</td>\n",
       "    </tr>\n",
       "    <tr>\n",
       "      <th>e0e261a0d4fd2ffdcbcad324e91a0dd4</th>\n",
       "      <td>Furnishing</td>\n",
       "      <td>Ally The Creations Printed Cushions Cover Key Features of Ally The Creations Printed Cushions Co...</td>\n",
       "      <td>ally the creations printed cushions cover key features ally the creations printed cushions cover...</td>\n",
       "      <td>ally the creation printed cushion cover key feature ally the creation printed cushion cover styl...</td>\n",
       "      <td>ally the creations printed cushions cover key features of ally the creations printed cushions co...</td>\n",
       "      <td>126</td>\n",
       "      <td>198</td>\n",
       "      <td>126</td>\n",
       "    </tr>\n",
       "    <tr>\n",
       "      <th>a7bd63ef1d3b345d7f9a162865bb7c0d</th>\n",
       "      <td>Watches</td>\n",
       "      <td>Flippd FD040149 Casual Analog Watch  - For Women, Girls Flippd FD040149 Casual Analog Watch  - F...</td>\n",
       "      <td>flippd fd040149 casual analog watch for women girls flippd fd040149 casual analog watch for wome...</td>\n",
       "      <td>flippd fd040149 casual analog watch for woman girl flippd fd040149 casual analog watch for woman...</td>\n",
       "      <td>flippd fd040149 casual analog watch for women , girls flippd fd040149 casual analog watch for wo...</td>\n",
       "      <td>43</td>\n",
       "      <td>57</td>\n",
       "      <td>43</td>\n",
       "    </tr>\n",
       "  </tbody>\n",
       "</table>\n",
       "</div>"
      ],
      "text/plain": [
       "                                    category  \\\n",
       "uniq_id                                        \n",
       "c75d6d827876b0d0127acb59e5a251ee   Computers   \n",
       "9c8fdf6c9c631d0892e9a6f55a4a2fd2      Beauty   \n",
       "c5590e238d44b370337624f5987fb9b8     Kitchen   \n",
       "e0e261a0d4fd2ffdcbcad324e91a0dd4  Furnishing   \n",
       "a7bd63ef1d3b345d7f9a162865bb7c0d     Watches   \n",
       "\n",
       "                                                                                                                          description  \\\n",
       "uniq_id                                                                                                                                 \n",
       "c75d6d827876b0d0127acb59e5a251ee  TRENDnet TEW-752DRU Buy TRENDnet TEW-752DRU only for Rs. 5199 from Flipkart.com. Only Genuine Pr...   \n",
       "9c8fdf6c9c631d0892e9a6f55a4a2fd2  NYX Set Of 2 Soft Matte Lip Cream 06,22 NYX Set Of 2 Soft Matte Lip Cream 06,22 (Multi color) Pr...   \n",
       "c5590e238d44b370337624f5987fb9b8  Rockmantra Abstrcts 8 Ceramic Mug Rockmantra Abstrcts 8 Ceramic Mug (5.5 l)\\r\\n                 ...   \n",
       "e0e261a0d4fd2ffdcbcad324e91a0dd4  Ally The Creations Printed Cushions Cover Key Features of Ally The Creations Printed Cushions Co...   \n",
       "a7bd63ef1d3b345d7f9a162865bb7c0d  Flippd FD040149 Casual Analog Watch  - For Women, Girls Flippd FD040149 Casual Analog Watch  - F...   \n",
       "\n",
       "                                                                                                                      description_bow  \\\n",
       "uniq_id                                                                                                                                 \n",
       "c75d6d827876b0d0127acb59e5a251ee  trendnet tew 752dru buy trendnet tew 752dru 5199 flipkart.com only genuine products day replacem...   \n",
       "9c8fdf6c9c631d0892e9a6f55a4a2fd2  nyx set soft matte lip cream 06,22 nyx set soft matte lip cream 06,22 multi color price 1,600 ny...   \n",
       "c5590e238d44b370337624f5987fb9b8  rockmantra abstrcts ceramic mug rockmantra abstrcts ceramic mug 5.5 price 199 give thrilling yet...   \n",
       "e0e261a0d4fd2ffdcbcad324e91a0dd4  ally the creations printed cushions cover key features ally the creations printed cushions cover...   \n",
       "a7bd63ef1d3b345d7f9a162865bb7c0d  flippd fd040149 casual analog watch for women girls flippd fd040149 casual analog watch for wome...   \n",
       "\n",
       "                                                                                                                  description_bow_lem  \\\n",
       "uniq_id                                                                                                                                 \n",
       "c75d6d827876b0d0127acb59e5a251ee  trendnet tew 752dru buy trendnet tew 752dru 5199 flipkart.com only genuine product day replaceme...   \n",
       "9c8fdf6c9c631d0892e9a6f55a4a2fd2  nyx set soft matte lip cream 06,22 nyx set soft matte lip cream 06,22 multi color price 1,600 ny...   \n",
       "c5590e238d44b370337624f5987fb9b8  rockmantra abstrcts ceramic mug rockmantra abstrcts ceramic mug 5.5 price 199 give thrilling yet...   \n",
       "e0e261a0d4fd2ffdcbcad324e91a0dd4  ally the creation printed cushion cover key feature ally the creation printed cushion cover styl...   \n",
       "a7bd63ef1d3b345d7f9a162865bb7c0d  flippd fd040149 casual analog watch for woman girl flippd fd040149 casual analog watch for woman...   \n",
       "\n",
       "                                                                                                                       description_dl  \\\n",
       "uniq_id                                                                                                                                 \n",
       "c75d6d827876b0d0127acb59e5a251ee  trendnet tew 752dru buy trendnet tew 752dru only for rs . 5199 from flipkart.com . only genuine ...   \n",
       "9c8fdf6c9c631d0892e9a6f55a4a2fd2  nyx set of 2 soft matte lip cream 06,22 nyx set of 2 soft matte lip cream 06,22 ( multi color ) ...   \n",
       "c5590e238d44b370337624f5987fb9b8  rockmantra abstrcts 8 ceramic mug rockmantra abstrcts 8 ceramic mug ( 5.5 l ) price : rs . 199 g...   \n",
       "e0e261a0d4fd2ffdcbcad324e91a0dd4  ally the creations printed cushions cover key features of ally the creations printed cushions co...   \n",
       "a7bd63ef1d3b345d7f9a162865bb7c0d  flippd fd040149 casual analog watch for women , girls flippd fd040149 casual analog watch for wo...   \n",
       "\n",
       "                                  length_bow  length_dl  length_lem  \n",
       "uniq_id                                                              \n",
       "c75d6d827876b0d0127acb59e5a251ee          19         31          19  \n",
       "9c8fdf6c9c631d0892e9a6f55a4a2fd2          86        123          86  \n",
       "c5590e238d44b370337624f5987fb9b8          81        145          81  \n",
       "e0e261a0d4fd2ffdcbcad324e91a0dd4         126        198         126  \n",
       "a7bd63ef1d3b345d7f9a162865bb7c0d          43         57          43  "
      ]
     },
     "execution_count": 66,
     "metadata": {},
     "output_type": "execute_result"
    }
   ],
   "source": [
    "df.sample(5)"
   ]
  },
  {
   "cell_type": "code",
   "execution_count": 67,
   "id": "bcbfb0d8-a98d-48df-a84c-14277c1432b3",
   "metadata": {},
   "outputs": [
    {
     "data": {
      "text/plain": [
       "'mars queen eye liner lip gloss eyeliner mars queen eye liner lip gloss eyeliner set price 299 queen eye liner lip gloss eyeliner specifications mars queen eye liner lip gloss eyeliner set combo set details number contents combo set combo set contents queen eye liner lip gloss eyeliner ideal for women organic general traits professional care yes gift pack yes'"
      ]
     },
     "execution_count": 67,
     "metadata": {},
     "output_type": "execute_result"
    }
   ],
   "source": [
    "df.loc['4a1b23dacd7d2a9ec7414f7159f25a48'].description_bow"
   ]
  },
  {
   "cell_type": "code",
   "execution_count": 68,
   "id": "829158d7-2a02-43ee-b133-3330cacde50d",
   "metadata": {},
   "outputs": [
    {
     "data": {
      "text/plain": [
       "'mars queen eye liner , lip gloss , eyeliner mars queen eye liner , lip gloss , eyeliner ( set of 3 ) price : rs . 299 1 queen eye liner , 1 lip gloss , 1 eyeliner , specifications of mars queen eye liner , lip gloss , eyeliner ( set of 3 ) combo set details number of contents in combo set 3 combo set contents 1 queen eye liner , 1 lip gloss , 1 eyeliner ideal for women organic no general traits professional care yes gift pack yes'"
      ]
     },
     "execution_count": 68,
     "metadata": {},
     "output_type": "execute_result"
    }
   ],
   "source": [
    "df.loc['4a1b23dacd7d2a9ec7414f7159f25a48'].description_dl"
   ]
  },
  {
   "cell_type": "code",
   "execution_count": 69,
   "id": "e51e5e84-b6fb-4aa9-acc6-1c1df1443687",
   "metadata": {},
   "outputs": [
    {
     "data": {
      "text/plain": [
       "'sonata 7991pp02 ocean digital watch for men sonata 7991pp02 ocean digital watch for men buy sonata 7991pp02 ocean digital watch for men 7991pp02 online rs.999 india only flipkart.com water resistant round dial black strap great discounts only genuine products day replacement guarantee free shipping cash delivery'"
      ]
     },
     "execution_count": 69,
     "metadata": {},
     "output_type": "execute_result"
    }
   ],
   "source": [
    "df.loc['d21409978f5e404b53f89e444f7893fe'].description_bow"
   ]
  },
  {
   "cell_type": "code",
   "execution_count": 70,
   "id": "0f89ddf6-b8be-477e-aaa9-063437f5eba8",
   "metadata": {},
   "outputs": [
    {
     "data": {
      "text/plain": [
       "'sf by sonata 7991pp02 ocean digital watch for men sf by sonata 7991pp02 ocean digital watch for men buy sf by sonata 7991pp02 ocean digital watch for men 7991pp02 online at rs.999 in india only at flipkart.com . water resistant , round dial , black strap great discounts , only genuine products , 30 day replacement guarantee , free shipping . cash on delivery !'"
      ]
     },
     "execution_count": 70,
     "metadata": {},
     "output_type": "execute_result"
    }
   ],
   "source": [
    "df.loc['d21409978f5e404b53f89e444f7893fe'].description_dl"
   ]
  },
  {
   "cell_type": "code",
   "execution_count": 71,
   "id": "3afa9213-dc63-4c82-a2fc-4a0675e5a5d7",
   "metadata": {},
   "outputs": [],
   "source": [
    "#Supprimer les colonnes inutiles à ce stade\n",
    "#Ne pas supprimer le txte brut de la colonne desription. Gardons le pour les autres modèles BERT, spacy etc..\n",
    "cols = ['length_bow', 'length_dl', 'length_lem']#, 'description']\n",
    "df.drop(columns=cols, inplace=True)"
   ]
  },
  {
   "cell_type": "code",
   "execution_count": 72,
   "id": "21950f62-d0b0-43fc-b69c-e31463d12ac4",
   "metadata": {},
   "outputs": [
    {
     "data": {
      "text/html": [
       "<div>\n",
       "<style scoped>\n",
       "    .dataframe tbody tr th:only-of-type {\n",
       "        vertical-align: middle;\n",
       "    }\n",
       "\n",
       "    .dataframe tbody tr th {\n",
       "        vertical-align: top;\n",
       "    }\n",
       "\n",
       "    .dataframe thead th {\n",
       "        text-align: right;\n",
       "    }\n",
       "</style>\n",
       "<table border=\"1\" class=\"dataframe\">\n",
       "  <thead>\n",
       "    <tr style=\"text-align: right;\">\n",
       "      <th></th>\n",
       "      <th>category</th>\n",
       "      <th>description</th>\n",
       "      <th>description_bow</th>\n",
       "      <th>description_bow_lem</th>\n",
       "      <th>description_dl</th>\n",
       "    </tr>\n",
       "    <tr>\n",
       "      <th>uniq_id</th>\n",
       "      <th></th>\n",
       "      <th></th>\n",
       "      <th></th>\n",
       "      <th></th>\n",
       "      <th></th>\n",
       "    </tr>\n",
       "  </thead>\n",
       "  <tbody>\n",
       "    <tr>\n",
       "      <th>5db6bd89da44841c1a5b686e67137704</th>\n",
       "      <td>Watches</td>\n",
       "      <td>Sonata 1141YM22 Analog Watch  - For Men Sonata 1141YM22 Analog Watch  - For Men - Buy Sonata 114...</td>\n",
       "      <td>sonata 1141ym22 analog watch for men sonata 1141ym22 analog watch for men buy sonata 1141ym22 an...</td>\n",
       "      <td>sonata 1141ym22 analog watch for men sonata 1141ym22 analog watch for men buy sonata 1141ym22 an...</td>\n",
       "      <td>sonata 1141ym22 analog watch for men sonata 1141ym22 analog watch for men buy sonata 1141ym22 an...</td>\n",
       "    </tr>\n",
       "    <tr>\n",
       "      <th>8507eb0ef32c1c0db700f20aad6d9bcd</th>\n",
       "      <td>Kitchen</td>\n",
       "      <td>Rockmantra Sonakshi Sinha Beautiful Look Ceramic Mug Rockmantra Sonakshi Sinha Beautiful Look Ce...</td>\n",
       "      <td>rockmantra sonakshi sinha beautiful look ceramic mug rockmantra sonakshi sinha beautiful look ce...</td>\n",
       "      <td>rockmantra sonakshi sinha beautiful look ceramic mug rockmantra sonakshi sinha beautiful look ce...</td>\n",
       "      <td>rockmantra sonakshi sinha beautiful look ceramic mug rockmantra sonakshi sinha beautiful look ce...</td>\n",
       "    </tr>\n",
       "  </tbody>\n",
       "</table>\n",
       "</div>"
      ],
      "text/plain": [
       "                                 category  \\\n",
       "uniq_id                                     \n",
       "5db6bd89da44841c1a5b686e67137704  Watches   \n",
       "8507eb0ef32c1c0db700f20aad6d9bcd  Kitchen   \n",
       "\n",
       "                                                                                                                          description  \\\n",
       "uniq_id                                                                                                                                 \n",
       "5db6bd89da44841c1a5b686e67137704  Sonata 1141YM22 Analog Watch  - For Men Sonata 1141YM22 Analog Watch  - For Men - Buy Sonata 114...   \n",
       "8507eb0ef32c1c0db700f20aad6d9bcd  Rockmantra Sonakshi Sinha Beautiful Look Ceramic Mug Rockmantra Sonakshi Sinha Beautiful Look Ce...   \n",
       "\n",
       "                                                                                                                      description_bow  \\\n",
       "uniq_id                                                                                                                                 \n",
       "5db6bd89da44841c1a5b686e67137704  sonata 1141ym22 analog watch for men sonata 1141ym22 analog watch for men buy sonata 1141ym22 an...   \n",
       "8507eb0ef32c1c0db700f20aad6d9bcd  rockmantra sonakshi sinha beautiful look ceramic mug rockmantra sonakshi sinha beautiful look ce...   \n",
       "\n",
       "                                                                                                                  description_bow_lem  \\\n",
       "uniq_id                                                                                                                                 \n",
       "5db6bd89da44841c1a5b686e67137704  sonata 1141ym22 analog watch for men sonata 1141ym22 analog watch for men buy sonata 1141ym22 an...   \n",
       "8507eb0ef32c1c0db700f20aad6d9bcd  rockmantra sonakshi sinha beautiful look ceramic mug rockmantra sonakshi sinha beautiful look ce...   \n",
       "\n",
       "                                                                                                                       description_dl  \n",
       "uniq_id                                                                                                                                \n",
       "5db6bd89da44841c1a5b686e67137704  sonata 1141ym22 analog watch for men sonata 1141ym22 analog watch for men buy sonata 1141ym22 an...  \n",
       "8507eb0ef32c1c0db700f20aad6d9bcd  rockmantra sonakshi sinha beautiful look ceramic mug rockmantra sonakshi sinha beautiful look ce...  "
      ]
     },
     "execution_count": 72,
     "metadata": {},
     "output_type": "execute_result"
    }
   ],
   "source": [
    "df.sample(2)"
   ]
  },
  {
   "cell_type": "code",
   "execution_count": 73,
   "id": "e708face-d79f-49de-ad39-8c9809b6035b",
   "metadata": {},
   "outputs": [
    {
     "data": {
      "text/plain": [
       "Furnishing   0.14\n",
       "Baby         0.14\n",
       "Watches      0.14\n",
       "Home         0.14\n",
       "Kitchen      0.14\n",
       "Beauty       0.14\n",
       "Computers    0.14\n",
       "Name: category, dtype: float64"
      ]
     },
     "execution_count": 73,
     "metadata": {},
     "output_type": "execute_result"
    }
   ],
   "source": [
    "#Pourcentage des produits par catégorie\n",
    "df.category.value_counts(normalize=True)"
   ]
  },
  {
   "cell_type": "markdown",
   "id": "b8339c1e-fff1-4d01-a936-a17519fb4fc0",
   "metadata": {},
   "source": [
    "taille des colonnes text"
   ]
  },
  {
   "cell_type": "markdown",
   "id": "7c358641-b346-463d-a4f9-b4dca418e305",
   "metadata": {},
   "source": [
    "## Work in a specfic document"
   ]
  },
  {
   "cell_type": "markdown",
   "id": "f76c57d3-3335-431a-9ca4-0cecea9c9058",
   "metadata": {},
   "source": [
    "Fonction qui indique le nb de tokens et celui de tokens uniques"
   ]
  },
  {
   "cell_type": "code",
   "execution_count": 74,
   "id": "3d1c41ce-fdbb-49e7-9396-6d549d5f6848",
   "metadata": {},
   "outputs": [
    {
     "data": {
      "text/plain": [
       "'rama floral single quilts comforters pink red buy rama floral single quilts comforters pink red 749 flipkart.com only genuine products free shipping cash delivery'"
      ]
     },
     "execution_count": 74,
     "metadata": {},
     "output_type": "execute_result"
    }
   ],
   "source": [
    "#select a random document\n",
    "doc = df.description_bow.sample(1)\n",
    "doc = doc.values[0]\n",
    "doc"
   ]
  },
  {
   "cell_type": "code",
   "execution_count": 75,
   "id": "ac210ad5-298c-49d8-8c88-f345865edda9",
   "metadata": {},
   "outputs": [
    {
     "data": {
      "text/plain": [
       "['rama',\n",
       " 'floral',\n",
       " 'single',\n",
       " 'quilts',\n",
       " 'comforters',\n",
       " 'pink',\n",
       " 'red',\n",
       " 'buy',\n",
       " 'rama',\n",
       " 'floral',\n",
       " 'single',\n",
       " 'quilts',\n",
       " 'comforters',\n",
       " 'pink',\n",
       " 'red',\n",
       " '749',\n",
       " 'flipkart.com',\n",
       " 'only',\n",
       " 'genuine',\n",
       " 'products',\n",
       " 'free',\n",
       " 'shipping',\n",
       " 'cash',\n",
       " 'delivery']"
      ]
     },
     "execution_count": 75,
     "metadata": {},
     "output_type": "execute_result"
    }
   ],
   "source": [
    "#tokenize\n",
    "tokens = word_tokenize(doc)\n",
    "tokens"
   ]
  },
  {
   "cell_type": "code",
   "execution_count": 76,
   "id": "93739d3e-28f1-4cd7-aa20-785978702494",
   "metadata": {},
   "outputs": [
    {
     "data": {
      "text/plain": [
       "24"
      ]
     },
     "execution_count": 76,
     "metadata": {},
     "output_type": "execute_result"
    }
   ],
   "source": [
    "#Longeur du documents en nombre de tokens\n",
    "len(tokens)"
   ]
  },
  {
   "cell_type": "code",
   "execution_count": 77,
   "id": "9d000c91-f701-493f-943b-18f7039895ba",
   "metadata": {},
   "outputs": [
    {
     "data": {
      "text/plain": [
       "17"
      ]
     },
     "execution_count": 77,
     "metadata": {},
     "output_type": "execute_result"
    }
   ],
   "source": [
    "#tokens uniques\n",
    "len(set(tokens))"
   ]
  },
  {
   "cell_type": "code",
   "execution_count": 78,
   "id": "a1bac238",
   "metadata": {},
   "outputs": [],
   "source": [
    "#Fonction qui indique le nb de tokens et celui de tokens uniques\n",
    "def display_tokens_info(tokens) :\n",
    "    \"\"\"display info about corpus \"\"\"\n",
    "    print(f\"nb tokens {len(tokens)}, nb tokens uniques {len(set(tokens))}\")\n",
    "    print(tokens[:30]) #print les 30 premiers tokens de notre liste"
   ]
  },
  {
   "cell_type": "code",
   "execution_count": 79,
   "id": "18804e4f-e8a7-478e-9b04-3ff64cef5313",
   "metadata": {},
   "outputs": [
    {
     "name": "stdout",
     "output_type": "stream",
     "text": [
      "nb tokens 24, nb tokens uniques 17\n",
      "['rama', 'floral', 'single', 'quilts', 'comforters', 'pink', 'red', 'buy', 'rama', 'floral', 'single', 'quilts', 'comforters', 'pink', 'red', '749', 'flipkart.com', 'only', 'genuine', 'products', 'free', 'shipping', 'cash', 'delivery']\n"
     ]
    }
   ],
   "source": [
    "display_tokens_info(tokens)"
   ]
  },
  {
   "cell_type": "markdown",
   "id": "07a56c1d-fb2f-4ded-ab7c-3747480a61cf",
   "metadata": {},
   "source": [
    "## Fonctions communes"
   ]
  },
  {
   "cell_type": "code",
   "execution_count": 80,
   "id": "e9a5d941-b1e2-4fbf-9478-5a48a43dcd8b",
   "metadata": {},
   "outputs": [
    {
     "name": "stdout",
     "output_type": "stream",
     "text": [
      "catégories :  ['Furnishing', 'Watches', 'Baby', 'Computers', 'Kitchen', 'Beauty', 'Home']\n"
     ]
    }
   ],
   "source": [
    "# Les catégories des produits\n",
    "l_cat = list(set(df['category']))\n",
    "print(\"catégories : \", l_cat)\n",
    "#transforme les catégories en format numérique\n",
    "y_cat_num = [(1-l_cat.index(df.iloc[i]['category'])) for i in range(len(df))]"
   ]
  },
  {
   "cell_type": "code",
   "execution_count": 81,
   "id": "5609191d-9b5b-4510-a1dc-de098720f965",
   "metadata": {},
   "outputs": [
    {
     "data": {
      "text/plain": [
       "1050"
      ]
     },
     "execution_count": 81,
     "metadata": {},
     "output_type": "execute_result"
    }
   ],
   "source": [
    "len(y_cat_num)"
   ]
  },
  {
   "cell_type": "code",
   "execution_count": 82,
   "id": "0093af36-4190-4673-85d5-37ed76763c77",
   "metadata": {},
   "outputs": [
    {
     "data": {
      "text/plain": [
       "7"
      ]
     },
     "execution_count": 82,
     "metadata": {},
     "output_type": "execute_result"
    }
   ],
   "source": [
    "len(l_cat)"
   ]
  },
  {
   "cell_type": "code",
   "execution_count": 83,
   "id": "81a79fb4-eec7-4471-a734-0f6945cb32dc",
   "metadata": {},
   "outputs": [],
   "source": [
    "import time\n",
    "\n",
    "# Calcul Tsne, détermination des clusters et calcul ARI entre vrais catégorie et n° de clusters\n",
    "def ARI_fct(features) :\n",
    "    time1 = time.time()\n",
    "    num_labels=len(l_cat)\n",
    "    tsne = manifold.TSNE(n_components=2, perplexity=30, n_iter=2000, \n",
    "                                 init='random', learning_rate=200, random_state=42)\n",
    "    X_tsne = tsne.fit_transform(features)\n",
    "    \n",
    "    # Détermination des clusters à partir des données après Tsne en utlisant le Kmeans\n",
    "    cls = cluster.KMeans(n_clusters=num_labels, n_init=100, random_state=42)\n",
    "    cls.fit(X_tsne)\n",
    "    ARI = np.round(metrics.adjusted_rand_score(y_cat_num, cls.labels_),4)\n",
    "    time2 = np.round(time.time() - time1,0)\n",
    "    print(\"ARI : \", ARI, \"time : \", time2)\n",
    "    \n",
    "    return ARI, X_tsne, cls.labels_\n",
    "\n",
    "\n",
    "# visualisation du Tsne selon les vraies catégories et selon les clusters\n",
    "def TSNE_visu_fct(X_tsne, y_cat_num, labels, ARI) :\n",
    "    fig = plt.figure(figsize=(15,6))\n",
    "    \n",
    "    ax = fig.add_subplot(121)\n",
    "    scatter = ax.scatter(X_tsne[:,0],X_tsne[:,1], c=y_cat_num, cmap='Set1')\n",
    "    ax.legend(handles=scatter.legend_elements()[0], labels=l_cat, loc=\"best\", title=\"Categorie\")\n",
    "    plt.title('Représentation des produits par catégories réelles')\n",
    "    \n",
    "    ax = fig.add_subplot(122)\n",
    "    scatter = ax.scatter(X_tsne[:,0],X_tsne[:,1], c=labels, cmap='Set1')\n",
    "    ax.legend(handles=scatter.legend_elements()[0], labels=set(labels), loc=\"best\", title=\"Clusters\")\n",
    "    plt.title('Représentation des produits par clusters')\n",
    "    \n",
    "    plt.show()\n",
    "    print(\"ARI : \", ARI)\n"
   ]
  },
  {
   "cell_type": "markdown",
   "id": "5e2483b6-7c0e-44d5-ac90-336b8a0295fb",
   "metadata": {},
   "source": [
    "# Working on the entire corpus"
   ]
  },
  {
   "cell_type": "markdown",
   "id": "cf32ed72-c079-476f-8b10-831367f3223e",
   "metadata": {},
   "source": [
    "## Build raw corpus\n",
    "texte brut"
   ]
  },
  {
   "cell_type": "code",
   "execution_count": 84,
   "id": "763c8c11-adc4-4643-8f64-7f1ba6d0cc7e",
   "metadata": {},
   "outputs": [
    {
     "data": {
      "text/html": [
       "<div>\n",
       "<style scoped>\n",
       "    .dataframe tbody tr th:only-of-type {\n",
       "        vertical-align: middle;\n",
       "    }\n",
       "\n",
       "    .dataframe tbody tr th {\n",
       "        vertical-align: top;\n",
       "    }\n",
       "\n",
       "    .dataframe thead th {\n",
       "        text-align: right;\n",
       "    }\n",
       "</style>\n",
       "<table border=\"1\" class=\"dataframe\">\n",
       "  <thead>\n",
       "    <tr style=\"text-align: right;\">\n",
       "      <th></th>\n",
       "      <th>category</th>\n",
       "      <th>description</th>\n",
       "      <th>description_bow</th>\n",
       "      <th>description_bow_lem</th>\n",
       "      <th>description_dl</th>\n",
       "    </tr>\n",
       "    <tr>\n",
       "      <th>uniq_id</th>\n",
       "      <th></th>\n",
       "      <th></th>\n",
       "      <th></th>\n",
       "      <th></th>\n",
       "      <th></th>\n",
       "    </tr>\n",
       "  </thead>\n",
       "  <tbody>\n",
       "    <tr>\n",
       "      <th>c36ea960a14f164ee0f39ad6beb3796a</th>\n",
       "      <td>Watches</td>\n",
       "      <td>Sonata 77036SM02J Watch Sonata 77036SM02J Watch - Buy Sonata 77036SM02J Watch  77036SM02J Online...</td>\n",
       "      <td>sonata 77036sm02j watch sonata 77036sm02j watch buy sonata 77036sm02j watch 77036sm02j online rs...</td>\n",
       "      <td>sonata 77036sm02j watch sonata 77036sm02j watch buy sonata 77036sm02j watch 77036sm02j online rs...</td>\n",
       "      <td>sonata 77036sm02j watch sonata 77036sm02j watch buy sonata 77036sm02j watch 77036sm02j online at...</td>\n",
       "    </tr>\n",
       "    <tr>\n",
       "      <th>d43d9bb261aaaf818c81a645e727b2d3</th>\n",
       "      <td>Computers</td>\n",
       "      <td>TRENDnet THA-101 N300 Router Buy TRENDnet THA-101 N300 Router only for Rs. 4989 from Flipkart.co...</td>\n",
       "      <td>trendnet tha 101 n300 router buy trendnet tha 101 n300 router 4989 flipkart.com only genuine pro...</td>\n",
       "      <td>trendnet tha 101 n300 router buy trendnet tha 101 n300 router 4989 flipkart.com only genuine pro...</td>\n",
       "      <td>trendnet tha 101 n300 router buy trendnet tha 101 n300 router only for rs . 4989 from flipkart.c...</td>\n",
       "    </tr>\n",
       "    <tr>\n",
       "      <th>64a9d0488652194fd8e879d5e6dc8015</th>\n",
       "      <td>Watches</td>\n",
       "      <td>palito PLO 149 Analog Watch  - For Girls, Women Specifications of palito PLO 149 Analog Watch  -...</td>\n",
       "      <td>palito plo 149 analog watch for girls women specifications palito plo 149 analog watch for girls...</td>\n",
       "      <td>palito plo 149 analog watch for girl woman specification palito plo 149 analog watch for girl wo...</td>\n",
       "      <td>palito plo 149 analog watch for girls , women specifications of palito plo 149 analog watch for ...</td>\n",
       "    </tr>\n",
       "  </tbody>\n",
       "</table>\n",
       "</div>"
      ],
      "text/plain": [
       "                                   category  \\\n",
       "uniq_id                                       \n",
       "c36ea960a14f164ee0f39ad6beb3796a    Watches   \n",
       "d43d9bb261aaaf818c81a645e727b2d3  Computers   \n",
       "64a9d0488652194fd8e879d5e6dc8015    Watches   \n",
       "\n",
       "                                                                                                                          description  \\\n",
       "uniq_id                                                                                                                                 \n",
       "c36ea960a14f164ee0f39ad6beb3796a  Sonata 77036SM02J Watch Sonata 77036SM02J Watch - Buy Sonata 77036SM02J Watch  77036SM02J Online...   \n",
       "d43d9bb261aaaf818c81a645e727b2d3  TRENDnet THA-101 N300 Router Buy TRENDnet THA-101 N300 Router only for Rs. 4989 from Flipkart.co...   \n",
       "64a9d0488652194fd8e879d5e6dc8015  palito PLO 149 Analog Watch  - For Girls, Women Specifications of palito PLO 149 Analog Watch  -...   \n",
       "\n",
       "                                                                                                                      description_bow  \\\n",
       "uniq_id                                                                                                                                 \n",
       "c36ea960a14f164ee0f39ad6beb3796a  sonata 77036sm02j watch sonata 77036sm02j watch buy sonata 77036sm02j watch 77036sm02j online rs...   \n",
       "d43d9bb261aaaf818c81a645e727b2d3  trendnet tha 101 n300 router buy trendnet tha 101 n300 router 4989 flipkart.com only genuine pro...   \n",
       "64a9d0488652194fd8e879d5e6dc8015  palito plo 149 analog watch for girls women specifications palito plo 149 analog watch for girls...   \n",
       "\n",
       "                                                                                                                  description_bow_lem  \\\n",
       "uniq_id                                                                                                                                 \n",
       "c36ea960a14f164ee0f39ad6beb3796a  sonata 77036sm02j watch sonata 77036sm02j watch buy sonata 77036sm02j watch 77036sm02j online rs...   \n",
       "d43d9bb261aaaf818c81a645e727b2d3  trendnet tha 101 n300 router buy trendnet tha 101 n300 router 4989 flipkart.com only genuine pro...   \n",
       "64a9d0488652194fd8e879d5e6dc8015  palito plo 149 analog watch for girl woman specification palito plo 149 analog watch for girl wo...   \n",
       "\n",
       "                                                                                                                       description_dl  \n",
       "uniq_id                                                                                                                                \n",
       "c36ea960a14f164ee0f39ad6beb3796a  sonata 77036sm02j watch sonata 77036sm02j watch buy sonata 77036sm02j watch 77036sm02j online at...  \n",
       "d43d9bb261aaaf818c81a645e727b2d3  trendnet tha 101 n300 router buy trendnet tha 101 n300 router only for rs . 4989 from flipkart.c...  \n",
       "64a9d0488652194fd8e879d5e6dc8015  palito plo 149 analog watch for girls , women specifications of palito plo 149 analog watch for ...  "
      ]
     },
     "execution_count": 84,
     "metadata": {},
     "output_type": "execute_result"
    }
   ],
   "source": [
    "df.sample(3)"
   ]
  },
  {
   "cell_type": "code",
   "execution_count": 85,
   "id": "52f65c43-8d29-4b11-86e2-fc9135306349",
   "metadata": {},
   "outputs": [],
   "source": [
    "corpus = df.description_bow.values"
   ]
  },
  {
   "cell_type": "code",
   "execution_count": 86,
   "id": "30c1de7b-4846-4f28-a23b-8534238fc2a5",
   "metadata": {},
   "outputs": [],
   "source": [
    "#corpus_desc = ' '.join(df['description_bow'].values)"
   ]
  },
  {
   "cell_type": "code",
   "execution_count": 87,
   "id": "9f3dbd2a-7705-424b-af3a-4092ea9d34e2",
   "metadata": {},
   "outputs": [],
   "source": [
    "#corpus_desc"
   ]
  },
  {
   "cell_type": "code",
   "execution_count": 88,
   "id": "4cca3b32-5367-4816-bb46-25ad6f23d8ab",
   "metadata": {},
   "outputs": [
    {
     "data": {
      "text/plain": [
       "1048"
      ]
     },
     "execution_count": 88,
     "metadata": {},
     "output_type": "execute_result"
    }
   ],
   "source": [
    "#Taille du corpus en nb de lignes\n",
    "len(set(corpus))"
   ]
  },
  {
   "cell_type": "code",
   "execution_count": 89,
   "id": "2cec5441-284f-4c64-8d0e-8a725b34d0ca",
   "metadata": {},
   "outputs": [
    {
     "name": "stdout",
     "output_type": "stream",
     "text": [
      "nb tokens 1050, nb tokens uniques 1048\n",
      "['elegance polyester multicolor abstract eyelet door curtain key features elegance polyester multicolor abstract eyelet door curtain floral curtain elegance polyester multicolor abstract eyelet door curtain 213 height pack price 899 this curtain enhances look interiors.this curtain made 100 high quality polyester fabric.it features eyelet style stitch metal ring.it makes room environment romantic loving.this curtain ant wrinkle anti shrinkage elegant apparance.give home bright modernistic appeal designs the surreal attention sure steal hearts these contemporary eyelet valance curtains slide smoothly draw apart first thing morning welcome bright sun rays want wish good morning whole world draw close evening create special moments joyous beauty given soothing prints bring home elegant curtain softly filters light room get right amount sunlight. specifications elegance polyester multicolor abstract eyelet door curtain 213 height pack general brand elegance designed for door type eyelet model name abstract polyester door curtain set model duster25 color multicolor dimensions length 213 box number contents sales package pack sales package curtains body design material polyester'\n",
      " 'sathiyas cotton bath towel specifications sathiyas cotton bath towel bath towel red yellow blue bath towel features machine washable yes material cotton design self design general brand sathiyas type bath towel gsm 500 model name sathiyas cotton bath towel ideal for men women boys girls model asvtwl322 color red yellow blue size mediam dimensions length inch width inch box number contents sales package sales package bath towel'\n",
      " 'eurospa cotton terry face towel set key features eurospa cotton terry face towel set size small height inch gsm 360 eurospa cotton terry face towel set piece face towel set assorted price 299 eurospa brings exclusively designed 100 soft cotton towels export quality all products soft texture takes care skin gives enriched feeling deserve eurospa exporting bath towels lot renowned brands last years famous fine prints absorbency softness durability note our product 100 cotton susceptible shrinkage product color may vary picture size may vary wash care wash cold water iron bleach flat dry wash first use size face towel cms cms. specifications eurospa cotton terry face towel set piece face towel set assorted bath towel features material cotton terry design shuvam general brand eurospa gsm 360 type face towel set model name shuvam20pcftsetassorted ideal for boys girls men women model shuvam20pcftsetassorted size small color assorted dimensions weight 350 length inch width inch box number contents sales package sales package piece face towel set'\n",
      " 'santosh royal fashion cotton printed king sized double bedsheet key features santosh royal fashion cotton printed king sized double bedsheet royal bedsheet perfact wedding gifting specifications santosh royal fashion cotton printed king sized double bedsheet bedsheet,2 pillow cover multicolor general brand santosh royal fashion machine washable yes type flat material cotton model name gold design royal cotton printed wedding gifted double bedsheet with pillow cover model goldbedi color multicolor size king fabric care machine wash not bleach dimensions flat sheet width inch 230 fitted sheet width 228 pillow cover width inch pillow cover length inch fitted sheet depth 280 fitted sheet length 278 flat sheet depth 282 flat sheet length 110 inch 280 box number contents sales package sales package bedsheet,2 pillow cover'\n",
      " 'jaipur print cotton floral king sized double bedsheet key features jaipur print cotton floral king sized double bedsheet 100 cotton jaipur print cotton floral king sized double bedsheet bed sheet pillow cover white price 998 this nice bed sheet made 100 cotton give comfort this bed sheet hand printed this bedsheet gives nice look room and fast colour good quality gives bedsheet long life. specifications jaipur print cotton floral king sized double bedsheet bed sheet pillow cover white general machine washable yes brand jaipur print type flat model name jaipur117 material cotton thread count 140 model jaipur117 fabric care machinewash bleach size king color white warranty waranty product manufacturing defect product exchange onle used returne origional packing dimensions flat sheet width inch 220 fitted sheet width pillow cover width inch pillow cover length inch weight 900 fitted sheet depth fitted sheet length flat sheet depth 0.2 flat sheet length 104 inch 265 box number contents sales package sales package bed sheet pillow cover'\n",
      " 'maserati time r8851116001 analog watch for boys maserati time r8851116001 analog watch for boys buy maserati time r8851116001 analog watch for boys r8851116001 online rs.24400 india only flipkart.com great discounts only genuine products day replacement guarantee free shipping cash delivery'\n",
      " 'camerii wm64 elegance analog watch for men boys camerii wm64 elegance analog watch for men boys buy camerii wm64 elegance analog watch for men boys wm64 online rs.449 india only flipkart.com great discounts only genuine products day replacement guarantee free shipping cash delivery'\n",
      " 'star uft tsw 005 analog watch for boys star uft tsw 005 analog watch for boys price 399 whether way work travelling abroad family lifestyle accessories like watches wallets belts help add touch sophistication class otherwise mundane regular daily wear when comes suave leather belts intricately designed finished timepieces separate rest whether way work travelling abroad family lifestyle accessories like watches wallets belts help add touch sophistication class otherwise mundane regular daily wear when comes suave leather belts intricately designed finished timepieces separate rest'\n",
      " \"alfajr wy16b youth digital watch for men boys alfajr wy16b youth digital watch for men boys buy alfajr wy16b youth digital watch for men boys wy16b online rs.4995 india only flipkart.com azan times for all cities around the world prayer reminders qibla direction hijri and gregorian calnedars qur'an bookmark daily alrams great discounts only genuine products day replacement guarantee free shipping cash delivery\"\n",
      " 'tag heuer cau1116.ba0858 formula analog watch for boys men tag heuer cau1116.ba0858 formula analog watch for boys men buy tag heuer cau1116.ba0858 formula analog watch for boys men cau1116.ba0858 online rs.107750 india only flipkart.com swiss made quartz movement scratch resistant sapphire crystal glass water resistant 200 metres feature chronograph great discounts only genuine products day replacement guarantee free shipping cash delivery'\n",
      " 'calibro 125 analog digital watch for men boys calibro 125 analog digital watch for men boys price 699 calibro presents mtg black dial round watch this fashionable watch mtg adds style statement this brand known usage quality material making appealing watches understands needs youth well able present wide range watches customers the variety design style youthful approach well executed brand get one see brilliantly leads brands style finish everything else matters calibro presents mtg black dial round watch this fashionable watch mtg adds style statement this brand known usage quality material making appealing watches understands needs youth well able present wide range watches customers the variety design style youthful approach well executed brand get one see brilliantly leads brands style finish everything else matters'\n",
      " 'cartier w6701005 analog watch for boys men cartier w6701005 analog watch for boys men buy cartier w6701005 analog watch for boys men w6701005 online rs.201000 india only flipkart.com great discounts only genuine products day replacement guarantee free shipping cash delivery'\n",
      " 'lois caron lcs 4032 analog watch for boys men lois caron lcs 4032 analog watch for boys men buy lois caron lcs 4032 analog watch for boys men lcs 4032 online rs.399 india only flipkart.com great discounts only genuine products day replacement guarantee free shipping cash delivery'\n",
      " 'titan 1639sl03 analog watch for boys men titan 1639sl03 analog watch for boys men buy titan 1639sl03 analog watch for boys men 1639sl03 online rs.1695 india only flipkart.com great discounts only genuine products day replacement guarantee free shipping cash delivery'\n",
      " 'srushti art jewelry megnet_led_sport_blackred1 digital watch for men women boys girls srushti art jewelry megnet_led_sport_blackred1 digital watch for men women boys girls buy srushti art jewelry megnet_led_sport_blackred1 digital watch for men women boys girls megnet_led_sport_blackred1 online rs.200 india only flipkart.com led watch sports led megnet watch fresh arrival latest fancy srushti girlswatch men women boys wrist watches great discounts only genuine products day replacement guarantee free shipping cash delivery'\n",
      " 'escort 1700 906_blk analog watch for men boys escort 1700 906_blk analog watch for men boys price 1,829 flaunt mantra hit streets style wearing black coloured analog watch men house escort the casing adds appeal timepiece worn rainy day thanks water resistance upto atm flaunt mantra hit streets style wearing black coloured analog watch men house escort the casing adds appeal timepiece worn rainy day thanks water resistance upto atm'\n",
      " 'jack klein blackled digital watch for boys jack klein blackled digital watch for boys buy jack klein blackled digital watch for boys blackled online rs.150 india only flipkart.com great discounts only genuine products day replacement guarantee free shipping cash delivery'\n",
      " 'north moon 005 silicone ion digital watch for boys girls women north moon 005 silicone ion digital watch for boys girls women buy north moon 005 silicone ion digital watch for boys girls women 005 online rs.150 india only flipkart.com great discounts only genuine products day replacement guarantee free shipping cash delivery'\n",
      " 'franck bella fb74c analog watch for boys men franck bella fb74c analog watch for boys men buy franck bella fb74c analog watch for boys men fb74c online rs.780 india only flipkart.com great discounts only genuine products day replacement guarantee free shipping cash delivery'\n",
      " 'ridas apl_led_black apple shape digital watch for boys ridas apl_led_black apple shape digital watch for boys buy ridas apl_led_black apple shape digital watch for boys apl_led_black online rs.249 india only flipkart.com great discounts only genuine products day replacement guarantee free shipping cash delivery'\n",
      " 'skmei ad1057 dark orange sports analog digital watch for men boys skmei ad1057 dark orange sports analog digital watch for men boys buy skmei ad1057 dark orange sports analog digital watch for men boys ad1057 dark orange online rs.1199 india only flipkart.com digital chronograph alarm watch light function date month display great discounts only genuine products day replacement guarantee free shipping cash delivery'\n",
      " 'now ethnic analog watch for boys now ethnic analog watch for boys buy now ethnic analog watch for boys ethnic online rs.600 india only flipkart.com great discounts only genuine products day replacement guarantee free shipping cash delivery'\n",
      " 'franck bella fb127a analog watch for boys men franck bella fb127a analog watch for boys men buy franck bella fb127a analog watch for boys men fb127a online rs.999 india only flipkart.com great discounts only genuine products day replacement guarantee free shipping cash delivery'\n",
      " 'skmei dg0939 red sports digital watch for men boys skmei dg0939 red sports digital watch for men boys buy skmei dg0939 red sports digital watch for men boys dg0939 red online rs.999 india only flipkart.com digital chronograph alarm watch light function date month display great discounts only genuine products day replacement guarantee free shipping cash delivery'\n",
      " 'fastrack 38015pl01 analog watch for men boys fastrack 38015pl01 analog watch for men boys buy fastrack 38015pl01 analog watch for men boys 38015pl01 online rs.2495 india only flipkart.com stainless steel back cover hybrid case construction sportier rugged look increased shock resistance high precision quartz analogue movement great discounts only genuine products day replacement guarantee free shipping cash delivery'\n",
      " 'alfajr wq18 qibla compass digital watch for men boys girls alfajr wq18 qibla compass digital watch for men boys girls buy alfajr wq18 qibla compass digital watch for men boys girls wq18 online rs.7495 india only flipkart.com qibla compass light azan time calculation great discounts only genuine products day replacement guarantee free shipping cash delivery'\n",
      " 'disney 98189 analog watch for boys girls disney 98189 analog watch for boys girls buy disney 98189 analog watch for boys girls 98189 online rs.900 india only flipkart.com great discounts only genuine products day replacement guarantee free shipping cash delivery'\n",
      " 'disney dw100405 digital watch for boys disney dw100405 digital watch for boys buy disney dw100405 digital watch for boys dw100405 online rs.1345 india only flipkart.com great discounts only genuine products day replacement guarantee free shipping cash delivery'\n",
      " 'vizion 8502 7purple sports series digital watch for boys girls vizion 8502 7purple sports series digital watch for boys girls price 595 brand vizion sports series watch kids,1 year manufacturer warranty digital display automatic movement metal case solid body dial shape round dial dimension:22mm strap material silicone strap width:20mm water resistant night display cold backlight daily alarm hour minute second date week display hour format attractive brand packaging tuff plastic box note case non receipt warranty card please intimate within hours disclaimer product color may slightly vary due photographic lighting sources monitor settings the image enlarged better viewing brand vizion sports series watch kids,1 year manufacturer warranty digital display automatic movement metal case solid body dial shape round dial dimension:22mm strap material silicone strap width:20mm water resistant night display cold backlight daily alarm hour minute second date week display hour format attractive brand packaging tuff plastic box note case non receipt warranty card please intimate within hours disclaimer product color may slightly vary due photographic lighting sources monitor settings the image enlarged better viewing'\n",
      " 'elantra analog watch for boys men elantra analog watch for boys men buy elantra analog watch for boys men online rs.950 india only flipkart.com great discounts only genuine products day replacement guarantee free shipping cash delivery']\n"
     ]
    }
   ],
   "source": [
    "display_tokens_info(corpus)"
   ]
  },
  {
   "cell_type": "code",
   "execution_count": 90,
   "id": "394ebe65-a0b0-4501-8f53-9935358e6449",
   "metadata": {},
   "outputs": [
    {
     "data": {
      "text/plain": [
       "'612 league baby boy checkered casual shirt specifications 612 league baby boy checkered casual shirt general details pattern checkered occasion casual ideal for baby boy shirt details sleeve half sleeve number contents sales package pack brand fit regular fabric 100 cotton fit regular additional details style code bls00s380001b fabric care enzyme wash'"
      ]
     },
     "execution_count": 90,
     "metadata": {},
     "output_type": "execute_result"
    }
   ],
   "source": [
    "df.loc['762b6b22cccf91935e92446efe298fe3', 'description_bow']"
   ]
  },
  {
   "cell_type": "code",
   "execution_count": 91,
   "id": "9a0eac11-642c-4b30-9e29-94b68e7a0107",
   "metadata": {},
   "outputs": [
    {
     "data": {
      "text/plain": [
       "1048"
      ]
     },
     "execution_count": 91,
     "metadata": {},
     "output_type": "execute_result"
    }
   ],
   "source": [
    "len(set(corpus))"
   ]
  },
  {
   "cell_type": "code",
   "execution_count": 92,
   "id": "5ed5f810-d88a-46c1-989b-6dff2cd414d5",
   "metadata": {},
   "outputs": [
    {
     "data": {
      "text/plain": [
       "array(['elegance polyester multicolor abstract eyelet door curtain key features elegance polyester multicolor abstract eyelet door curtain floral curtain elegance polyester multicolor abstract eyelet door curtain 213 height pack price 899 this curtain enhances look interiors.this curtain made 100 high quality polyester fabric.it features eyelet style stitch metal ring.it makes room environment romantic loving.this curtain ant wrinkle anti shrinkage elegant apparance.give home bright modernistic appeal designs the surreal attention sure steal hearts these contemporary eyelet valance curtains slide smoothly draw apart first thing morning welcome bright sun rays want wish good morning whole world draw close evening create special moments joyous beauty given soothing prints bring home elegant curtain softly filters light room get right amount sunlight. specifications elegance polyester multicolor abstract eyelet door curtain 213 height pack general brand elegance designed for door type eyelet model name abstract polyester door curtain set model duster25 color multicolor dimensions length 213 box number contents sales package pack sales package curtains body design material polyester',\n",
       "       'sathiyas cotton bath towel specifications sathiyas cotton bath towel bath towel red yellow blue bath towel features machine washable yes material cotton design self design general brand sathiyas type bath towel gsm 500 model name sathiyas cotton bath towel ideal for men women boys girls model asvtwl322 color red yellow blue size mediam dimensions length inch width inch box number contents sales package sales package bath towel',\n",
       "       'eurospa cotton terry face towel set key features eurospa cotton terry face towel set size small height inch gsm 360 eurospa cotton terry face towel set piece face towel set assorted price 299 eurospa brings exclusively designed 100 soft cotton towels export quality all products soft texture takes care skin gives enriched feeling deserve eurospa exporting bath towels lot renowned brands last years famous fine prints absorbency softness durability note our product 100 cotton susceptible shrinkage product color may vary picture size may vary wash care wash cold water iron bleach flat dry wash first use size face towel cms cms. specifications eurospa cotton terry face towel set piece face towel set assorted bath towel features material cotton terry design shuvam general brand eurospa gsm 360 type face towel set model name shuvam20pcftsetassorted ideal for boys girls men women model shuvam20pcftsetassorted size small color assorted dimensions weight 350 length inch width inch box number contents sales package sales package piece face towel set',\n",
       "       ...,\n",
       "       'uberlyfe extra large pigmented polyvinyl films imported sticker buy uberlyfe extra large pigmented polyvinyl films imported sticker rs.1449 online uberlyfe extra large pigmented polyvinyl films imported sticker best prices free shipping cash delivery only genuine products day replacement guarantee',\n",
       "       'wallmantra medium vinyl sticker sticker buy wallmantra medium vinyl sticker sticker rs.1333 online wallmantra medium vinyl sticker sticker best prices free shipping cash delivery only genuine products day replacement guarantee',\n",
       "       'uberlyfe large vinyl sticker buy uberlyfe large vinyl sticker rs.595 online uberlyfe large vinyl sticker best prices free shipping cash delivery only genuine products day replacement guarantee'],\n",
       "      dtype=object)"
      ]
     },
     "execution_count": 92,
     "metadata": {},
     "output_type": "execute_result"
    }
   ],
   "source": [
    "corpus"
   ]
  },
  {
   "cell_type": "code",
   "execution_count": 93,
   "id": "2ebf9bdd-87e8-4654-821f-470132e40601",
   "metadata": {},
   "outputs": [
    {
     "data": {
      "text/plain": [
       "1050"
      ]
     },
     "execution_count": 93,
     "metadata": {},
     "output_type": "execute_result"
    }
   ],
   "source": [
    "len(corpus)"
   ]
  },
  {
   "cell_type": "markdown",
   "id": "62af2117-cadf-41df-b519-ef6bc4b5325c",
   "metadata": {},
   "source": [
    "# Wordcloud\n",
    "Visualize\n",
    "sont des outils utiles pour synthétiser les notions les plus importantes d’un texte, d’une page web ou encore d’un livre. Plus un mot est présent dans le texte pris en considération, plus il apparaît en gros dans le wordcloud.  "
   ]
  },
  {
   "cell_type": "code",
   "execution_count": 94,
   "id": "d1cc4104-6e3f-4411-821a-f9fea8686dbe",
   "metadata": {},
   "outputs": [
    {
     "data": {
      "image/png": "[encoded data removed]",
      "text/plain": [
       "<Figure size 432x288 with 1 Axes>"
      ]
     },
     "metadata": {},
     "output_type": "display_data"
    }
   ],
   "source": [
    "# Afficher le Wordclouds de description pour toutes les catégories\n",
    "wordcloud = WordCloud(background_color=\"white\",\n",
    "                      stopwords=[],##Pas besoin d'enlever les stopwords/déjà fait\n",
    "                      max_words=50).generate(\" \".join(corpus))\n",
    "\n",
    "# Display the generated image:\n",
    "plt.imshow(wordcloud)\n",
    "plt.axis(\"off\")\n",
    "plt.show()"
   ]
  },
  {
   "cell_type": "code",
   "execution_count": 95,
   "id": "a8d4bd30-8f18-43d3-8e1b-52c70fb12977",
   "metadata": {},
   "outputs": [
    {
     "data": {
      "image/png": "[encoded data removed]",
      "text/plain": [
       "<Figure size 1080x360 with 7 Axes>"
      ]
     },
     "metadata": {},
     "output_type": "display_data"
    }
   ],
   "source": [
    "# Afficher le Wordclouds de description par catégorie \n",
    "\n",
    "gb = df.groupby('category')['description_bow']\n",
    "\n",
    "plot_wordclouds_from_gb(gb, n_top_words=10, n_rows=2, figsize=(15,5),\n",
    "                        backgnd_color='beige', cmap='tab10', random_state=14)"
   ]
  },
  {
   "cell_type": "markdown",
   "id": "2472b2e0-e97b-456b-b294-274d47905ff4",
   "metadata": {},
   "source": [
    "On constate des tokens qui se répétent : genuine, guarantee, warranty, flipkart, delivery, free, shipping, cash\n",
    "On peut en supprimer une partie :  flipkart, delivery, free, shipping, cash, only, genuine\n",
    "A ne pas supprimer : guarantee, warranty car liés à wtaches et computer"
   ]
  },
  {
   "cell_type": "code",
   "execution_count": 96,
   "id": "efcf9d97-7872-4ae7-bf40-41665e28bf2e",
   "metadata": {},
   "outputs": [
    {
     "data": {
      "text/html": [
       "<div>\n",
       "<style scoped>\n",
       "    .dataframe tbody tr th:only-of-type {\n",
       "        vertical-align: middle;\n",
       "    }\n",
       "\n",
       "    .dataframe tbody tr th {\n",
       "        vertical-align: top;\n",
       "    }\n",
       "\n",
       "    .dataframe thead th {\n",
       "        text-align: right;\n",
       "    }\n",
       "</style>\n",
       "<table border=\"1\" class=\"dataframe\">\n",
       "  <thead>\n",
       "    <tr style=\"text-align: right;\">\n",
       "      <th></th>\n",
       "      <th>category</th>\n",
       "      <th>description</th>\n",
       "      <th>description_bow</th>\n",
       "      <th>description_bow_lem</th>\n",
       "      <th>description_dl</th>\n",
       "    </tr>\n",
       "    <tr>\n",
       "      <th>uniq_id</th>\n",
       "      <th></th>\n",
       "      <th></th>\n",
       "      <th></th>\n",
       "      <th></th>\n",
       "      <th></th>\n",
       "    </tr>\n",
       "  </thead>\n",
       "  <tbody>\n",
       "    <tr>\n",
       "      <th>91a5328e7235424885d271dfa0959eeb</th>\n",
       "      <td>Kitchen</td>\n",
       "      <td>King International Ergonomic Design with Long Gripped Handle Rolling Pizza Cutter King Internati...</td>\n",
       "      <td>king international ergonomic design long gripped handle rolling pizza cutter king international ...</td>\n",
       "      <td>king international ergonomic design long gripped handle rolling pizza cutter king international ...</td>\n",
       "      <td>king international ergonomic design with long gripped handle rolling pizza cutter king internati...</td>\n",
       "    </tr>\n",
       "    <tr>\n",
       "      <th>9dc48a756ba86bbf6934ec6ddf9da03d</th>\n",
       "      <td>Computers</td>\n",
       "      <td>Lapguard HP Pavilion dv5-1014tx 6 Cell Laptop Battery Buy Lapguard HP Pavilion dv5-1014tx 6 Cell...</td>\n",
       "      <td>lapguard pavilion dv5 1014tx cell laptop battery buy lapguard pavilion dv5 1014tx cell laptop ba...</td>\n",
       "      <td>lapguard pavilion dv5 1014tx cell laptop battery buy lapguard pavilion dv5 1014tx cell laptop ba...</td>\n",
       "      <td>lapguard hp pavilion dv5 1014tx 6 cell laptop battery buy lapguard hp pavilion dv5 1014tx 6 cell...</td>\n",
       "    </tr>\n",
       "    <tr>\n",
       "      <th>63f6ef8f3fda2c306b27cfbf5a005f1e</th>\n",
       "      <td>Kitchen</td>\n",
       "      <td>Rockmantra Cute Beautiful Girl Playing With Her Hair Ceramic Mug Rockmantra Cute Beautiful Girl ...</td>\n",
       "      <td>rockmantra cute beautiful girl playing with her hair ceramic mug rockmantra cute beautiful girl ...</td>\n",
       "      <td>rockmantra cute beautiful girl playing with her hair ceramic mug rockmantra cute beautiful girl ...</td>\n",
       "      <td>rockmantra cute beautiful girl playing with her hair ceramic mug rockmantra cute beautiful girl ...</td>\n",
       "    </tr>\n",
       "    <tr>\n",
       "      <th>3830dda3491cd5b28ed42ae544bc44f0</th>\n",
       "      <td>Kitchen</td>\n",
       "      <td>Rockmantra Blue Water Abstracts Ceramic Mug Rockmantra Blue Water Abstracts Ceramic Mug (5.5 l)\\...</td>\n",
       "      <td>rockmantra blue water abstracts ceramic mug rockmantra blue water abstracts ceramic mug 5.5 pric...</td>\n",
       "      <td>rockmantra blue water abstract ceramic mug rockmantra blue water abstract ceramic mug 5.5 price ...</td>\n",
       "      <td>rockmantra blue water abstracts ceramic mug rockmantra blue water abstracts ceramic mug ( 5.5 l ...</td>\n",
       "    </tr>\n",
       "    <tr>\n",
       "      <th>3aaa50eb5d2cf4c18b57346423871624</th>\n",
       "      <td>Baby</td>\n",
       "      <td>Portia Hat Specifications of Portia Hat (Pink, Pack of 1) In The Box Number of Contents in Sales...</td>\n",
       "      <td>portia hat specifications portia hat pink pack the box number contents sales package pack genera...</td>\n",
       "      <td>portia hat specification portia hat pink pack the box number content sale package pack general i...</td>\n",
       "      <td>portia hat specifications of portia hat ( pink , pack of 1 ) in the box number of contents in sa...</td>\n",
       "    </tr>\n",
       "  </tbody>\n",
       "</table>\n",
       "</div>"
      ],
      "text/plain": [
       "                                   category  \\\n",
       "uniq_id                                       \n",
       "91a5328e7235424885d271dfa0959eeb    Kitchen   \n",
       "9dc48a756ba86bbf6934ec6ddf9da03d  Computers   \n",
       "63f6ef8f3fda2c306b27cfbf5a005f1e    Kitchen   \n",
       "3830dda3491cd5b28ed42ae544bc44f0    Kitchen   \n",
       "3aaa50eb5d2cf4c18b57346423871624       Baby   \n",
       "\n",
       "                                                                                                                          description  \\\n",
       "uniq_id                                                                                                                                 \n",
       "91a5328e7235424885d271dfa0959eeb  King International Ergonomic Design with Long Gripped Handle Rolling Pizza Cutter King Internati...   \n",
       "9dc48a756ba86bbf6934ec6ddf9da03d  Lapguard HP Pavilion dv5-1014tx 6 Cell Laptop Battery Buy Lapguard HP Pavilion dv5-1014tx 6 Cell...   \n",
       "63f6ef8f3fda2c306b27cfbf5a005f1e  Rockmantra Cute Beautiful Girl Playing With Her Hair Ceramic Mug Rockmantra Cute Beautiful Girl ...   \n",
       "3830dda3491cd5b28ed42ae544bc44f0  Rockmantra Blue Water Abstracts Ceramic Mug Rockmantra Blue Water Abstracts Ceramic Mug (5.5 l)\\...   \n",
       "3aaa50eb5d2cf4c18b57346423871624  Portia Hat Specifications of Portia Hat (Pink, Pack of 1) In The Box Number of Contents in Sales...   \n",
       "\n",
       "                                                                                                                      description_bow  \\\n",
       "uniq_id                                                                                                                                 \n",
       "91a5328e7235424885d271dfa0959eeb  king international ergonomic design long gripped handle rolling pizza cutter king international ...   \n",
       "9dc48a756ba86bbf6934ec6ddf9da03d  lapguard pavilion dv5 1014tx cell laptop battery buy lapguard pavilion dv5 1014tx cell laptop ba...   \n",
       "63f6ef8f3fda2c306b27cfbf5a005f1e  rockmantra cute beautiful girl playing with her hair ceramic mug rockmantra cute beautiful girl ...   \n",
       "3830dda3491cd5b28ed42ae544bc44f0  rockmantra blue water abstracts ceramic mug rockmantra blue water abstracts ceramic mug 5.5 pric...   \n",
       "3aaa50eb5d2cf4c18b57346423871624  portia hat specifications portia hat pink pack the box number contents sales package pack genera...   \n",
       "\n",
       "                                                                                                                  description_bow_lem  \\\n",
       "uniq_id                                                                                                                                 \n",
       "91a5328e7235424885d271dfa0959eeb  king international ergonomic design long gripped handle rolling pizza cutter king international ...   \n",
       "9dc48a756ba86bbf6934ec6ddf9da03d  lapguard pavilion dv5 1014tx cell laptop battery buy lapguard pavilion dv5 1014tx cell laptop ba...   \n",
       "63f6ef8f3fda2c306b27cfbf5a005f1e  rockmantra cute beautiful girl playing with her hair ceramic mug rockmantra cute beautiful girl ...   \n",
       "3830dda3491cd5b28ed42ae544bc44f0  rockmantra blue water abstract ceramic mug rockmantra blue water abstract ceramic mug 5.5 price ...   \n",
       "3aaa50eb5d2cf4c18b57346423871624  portia hat specification portia hat pink pack the box number content sale package pack general i...   \n",
       "\n",
       "                                                                                                                       description_dl  \n",
       "uniq_id                                                                                                                                \n",
       "91a5328e7235424885d271dfa0959eeb  king international ergonomic design with long gripped handle rolling pizza cutter king internati...  \n",
       "9dc48a756ba86bbf6934ec6ddf9da03d  lapguard hp pavilion dv5 1014tx 6 cell laptop battery buy lapguard hp pavilion dv5 1014tx 6 cell...  \n",
       "63f6ef8f3fda2c306b27cfbf5a005f1e  rockmantra cute beautiful girl playing with her hair ceramic mug rockmantra cute beautiful girl ...  \n",
       "3830dda3491cd5b28ed42ae544bc44f0  rockmantra blue water abstracts ceramic mug rockmantra blue water abstracts ceramic mug ( 5.5 l ...  \n",
       "3aaa50eb5d2cf4c18b57346423871624  portia hat specifications of portia hat ( pink , pack of 1 ) in the box number of contents in sa...  "
      ]
     },
     "execution_count": 96,
     "metadata": {},
     "output_type": "execute_result"
    }
   ],
   "source": [
    "df.sample(5)"
   ]
  },
  {
   "cell_type": "markdown",
   "id": "e108d610-dd8d-4824-9f0e-976a43d87163",
   "metadata": {},
   "source": [
    "#Sauvegardre le dataframe \n",
    "data.to_csv(path + '/cleaned/flipkart_com_cleaned.csv', index=False)# pour éviter d'avoir une colonne unamed=0, spécifier index=False"
   ]
  },
  {
   "cell_type": "markdown",
   "id": "993d247b-1137-47e4-995d-f3ee0739bfa5",
   "metadata": {},
   "source": [
    "stop_cw =  ['flipkart', 'delivery', 'free', 'shipping', 'cash', 'delivery','only', 'genuine']\n",
    "\n",
    "#Fonction qui filtre les mots à très haute fréquence\n",
    "def stop_com_word_filter_fct(list_words):\n",
    "    filtered_w = [w for w in list_words if not w in stop_cw]\n",
    "    return filtered_w"
   ]
  },
  {
   "cell_type": "code",
   "execution_count": 97,
   "id": "2f712966-c238-4339-a91f-71360ccd15ed",
   "metadata": {},
   "outputs": [
    {
     "data": {
      "text/html": [
       "<div>\n",
       "<style scoped>\n",
       "    .dataframe tbody tr th:only-of-type {\n",
       "        vertical-align: middle;\n",
       "    }\n",
       "\n",
       "    .dataframe tbody tr th {\n",
       "        vertical-align: top;\n",
       "    }\n",
       "\n",
       "    .dataframe thead th {\n",
       "        text-align: right;\n",
       "    }\n",
       "</style>\n",
       "<table border=\"1\" class=\"dataframe\">\n",
       "  <thead>\n",
       "    <tr style=\"text-align: right;\">\n",
       "      <th></th>\n",
       "      <th>category</th>\n",
       "      <th>description</th>\n",
       "      <th>description_bow</th>\n",
       "      <th>description_bow_lem</th>\n",
       "      <th>description_dl</th>\n",
       "    </tr>\n",
       "    <tr>\n",
       "      <th>uniq_id</th>\n",
       "      <th></th>\n",
       "      <th></th>\n",
       "      <th></th>\n",
       "      <th></th>\n",
       "      <th></th>\n",
       "    </tr>\n",
       "  </thead>\n",
       "  <tbody>\n",
       "    <tr>\n",
       "      <th>e1d8c5b60f9157f8e21c77cf795952f2</th>\n",
       "      <td>Baby</td>\n",
       "      <td>The Intellect Bazaar Cotton Bath Towel, Baby Towel Buy The Intellect Bazaar Cotton Bath Towel, B...</td>\n",
       "      <td>the intellect bazaar cotton bath towel baby towel buy the intellect bazaar cotton bath towel bab...</td>\n",
       "      <td>the intellect bazaar cotton bath towel baby towel buy the intellect bazaar cotton bath towel bab...</td>\n",
       "      <td>the intellect bazaar cotton bath towel , baby towel buy the intellect bazaar cotton bath towel ,...</td>\n",
       "    </tr>\n",
       "    <tr>\n",
       "      <th>a3dea07b2f7bf48276d32513091be717</th>\n",
       "      <td>Kitchen</td>\n",
       "      <td>BFT 6 W LED Bulb Key Features of BFT 6 W LED Bulb Pack of 1 Bulb,BFT 6 W LED Bulb (White) Price:...</td>\n",
       "      <td>bft led bulb key features bft led bulb pack bulb bft led bulb white price 350 introducing new te...</td>\n",
       "      <td>bft led bulb key feature bft led bulb pack bulb bft led bulb white price 350 introducing new tec...</td>\n",
       "      <td>bft 6 w led bulb key features of bft 6 w led bulb pack of 1 bulb , bft 6 w led bulb ( white ) pr...</td>\n",
       "    </tr>\n",
       "  </tbody>\n",
       "</table>\n",
       "</div>"
      ],
      "text/plain": [
       "                                 category  \\\n",
       "uniq_id                                     \n",
       "e1d8c5b60f9157f8e21c77cf795952f2     Baby   \n",
       "a3dea07b2f7bf48276d32513091be717  Kitchen   \n",
       "\n",
       "                                                                                                                          description  \\\n",
       "uniq_id                                                                                                                                 \n",
       "e1d8c5b60f9157f8e21c77cf795952f2  The Intellect Bazaar Cotton Bath Towel, Baby Towel Buy The Intellect Bazaar Cotton Bath Towel, B...   \n",
       "a3dea07b2f7bf48276d32513091be717  BFT 6 W LED Bulb Key Features of BFT 6 W LED Bulb Pack of 1 Bulb,BFT 6 W LED Bulb (White) Price:...   \n",
       "\n",
       "                                                                                                                      description_bow  \\\n",
       "uniq_id                                                                                                                                 \n",
       "e1d8c5b60f9157f8e21c77cf795952f2  the intellect bazaar cotton bath towel baby towel buy the intellect bazaar cotton bath towel bab...   \n",
       "a3dea07b2f7bf48276d32513091be717  bft led bulb key features bft led bulb pack bulb bft led bulb white price 350 introducing new te...   \n",
       "\n",
       "                                                                                                                  description_bow_lem  \\\n",
       "uniq_id                                                                                                                                 \n",
       "e1d8c5b60f9157f8e21c77cf795952f2  the intellect bazaar cotton bath towel baby towel buy the intellect bazaar cotton bath towel bab...   \n",
       "a3dea07b2f7bf48276d32513091be717  bft led bulb key feature bft led bulb pack bulb bft led bulb white price 350 introducing new tec...   \n",
       "\n",
       "                                                                                                                       description_dl  \n",
       "uniq_id                                                                                                                                \n",
       "e1d8c5b60f9157f8e21c77cf795952f2  the intellect bazaar cotton bath towel , baby towel buy the intellect bazaar cotton bath towel ,...  \n",
       "a3dea07b2f7bf48276d32513091be717  bft 6 w led bulb key features of bft 6 w led bulb pack of 1 bulb , bft 6 w led bulb ( white ) pr...  "
      ]
     },
     "execution_count": 97,
     "metadata": {},
     "output_type": "execute_result"
    }
   ],
   "source": [
    "df.sample(2)"
   ]
  },
  {
   "cell_type": "markdown",
   "id": "555e57a9-d6f7-42b3-9a1d-c67d68c5e680",
   "metadata": {},
   "source": [
    "Opération de nettoyyage des mots qui se répèetent et qui n'apportnet rein aux catégories et pas d\"apport séantique. Vréifier si répétitifs ds ttes les decr..\n",
    "ex : shp, product, free\n",
    "Le faire ultrieurement et comparer"
   ]
  },
  {
   "cell_type": "markdown",
   "id": "5dd35390-b7fc-404d-be46-a1aa1ea423e4",
   "metadata": {},
   "source": [
    "# Bag of word - CountVectorizer et Tf-idf\n",
    "## Vectorization CountVectorizer\n",
    "transfomer les tokens en vecteurs\n",
    "Each token is now represented by a unique vector and a text by a matrix\n",
    "Each document is a row, and each token is a column. Such a matrix is called the document-term matrix.\n",
    "It describes the frequency of terms that occur in a collection of documents and is used as input to a machine learning classifier.\n",
    "Note that the size of the document-term matrix is: number of documents ∗ size of vocabulary\n",
    "\n",
    "Convert a collection of text documents to a matrix of token counts.\n",
    "chause token est reprsenté par un vecteur et chaque texte par une matrice\n",
    "convertit un document texte en matrice avec le nombre de token\n",
    "Il compte le nombre de fréquence des mots de chq document et le met dans la matrice\n",
    "BOW : simple mais une puissante approche pour vectoriser le texte\n",
    "----------------\n",
    "Pour réduire les dimensions, dminuer le vocabulaire ou utliser une PCA\n",
    "\n",
    "sparse matrix : matrice clairsemée : quand il a y trop de 0"
   ]
  },
  {
   "cell_type": "markdown",
   "id": "6479e45f-24ed-491b-b0bd-4b7fb5b99b1e",
   "metadata": {},
   "source": [
    "### Vectorisation CountVectorizer exemple simple"
   ]
  },
  {
   "cell_type": "code",
   "execution_count": 98,
   "id": "4a984ad0-ca68-427a-a7d6-c857a27ade88",
   "metadata": {},
   "outputs": [
    {
     "name": "stdout",
     "output_type": "stream",
     "text": [
      "[[0 1 1 1 0 0 1 0 1]\n",
      " [0 2 0 1 0 1 1 0 1]\n",
      " [1 0 0 1 1 0 1 1 1]\n",
      " [0 1 1 1 0 0 1 0 1]]\n"
     ]
    }
   ],
   "source": [
    "from sklearn.feature_extraction.text import CountVectorizer\n",
    "corpus_test = [\n",
    "    'This is the first document.',\n",
    "    'This document is the second document.',\n",
    "    'And this is the third one.',\n",
    "    'Is this the first document?',\n",
    "]\n",
    "vectorizer = CountVectorizer()\n",
    "X_test = vectorizer.fit_transform(corpus_test)\n",
    "vectorizer.get_feature_names_out()\n",
    "\n",
    "print(X_test.toarray())\n",
    "\n",
    "#vectorizer2 = CountVectorizer(analyzer='word', ngram_range=(2, 2))\n",
    "#X2 = vectorizer2.fit_transform(corpus_test)\n",
    "#vectorizer2.get_feature_names_out()"
   ]
  },
  {
   "cell_type": "code",
   "execution_count": 99,
   "id": "e6357cee-a20a-4540-a03e-8582593e9336",
   "metadata": {},
   "outputs": [
    {
     "data": {
      "text/plain": [
       "array(['and this', 'document is', 'first document', 'is the', 'is this',\n",
       "       'second document', 'the first', 'the second', 'the third',\n",
       "       'third one', 'this document', 'this is', 'this the'], dtype=object)"
      ]
     },
     "execution_count": 99,
     "metadata": {},
     "output_type": "execute_result"
    }
   ],
   "source": [
    "#Liste des mots 2à 2 ds le corpus\n",
    "vectorizer2 = CountVectorizer(analyzer='word', ngram_range=(2, 2))\n",
    "X2 = vectorizer2.fit_transform(corpus_test)\n",
    "vectorizer2.get_feature_names_out()"
   ]
  },
  {
   "cell_type": "code",
   "execution_count": 100,
   "id": "56b1e243-4168-4531-9ef3-664fc3feed01",
   "metadata": {},
   "outputs": [
    {
     "name": "stderr",
     "output_type": "stream",
     "text": [
      "C:\\Users\\ADSL\\anaconda3\\lib\\site-packages\\sklearn\\utils\\deprecation.py:87: FutureWarning: Function get_feature_names is deprecated; get_feature_names is deprecated in 1.0 and will be removed in 1.2. Please use get_feature_names_out instead.\n",
      "  warnings.warn(msg, category=FutureWarning)\n"
     ]
    },
    {
     "data": {
      "text/plain": [
       "['and', 'document', 'first', 'is', 'one', 'second', 'the', 'third', 'this']"
      ]
     },
     "execution_count": 100,
     "metadata": {},
     "output_type": "execute_result"
    }
   ],
   "source": [
    "# les mots composants ce dictionnaire avec la fonction get_feature_names()\n",
    "vectorizer.get_feature_names()"
   ]
  },
  {
   "cell_type": "markdown",
   "id": "f6037f77-5c2f-484b-817c-19d0cf1c7a65",
   "metadata": {
    "tags": []
   },
   "source": [
    "### Vectorisation du corpus"
   ]
  },
  {
   "cell_type": "code",
   "execution_count": 101,
   "id": "05e8fd22-de3a-4171-8440-a5bc99465468",
   "metadata": {},
   "outputs": [
    {
     "name": "stdout",
     "output_type": "stream",
     "text": [
      "[[0 0 0 ... 0 0 0]\n",
      " [0 0 0 ... 0 0 0]\n",
      " [0 0 0 ... 0 0 0]\n",
      " ...\n",
      " [0 0 0 ... 0 0 0]\n",
      " [0 0 0 ... 0 0 0]\n",
      " [0 0 0 ... 0 0 0]]\n"
     ]
    }
   ],
   "source": [
    "vectorizer = CountVectorizer()\n",
    "X = vectorizer.fit_transform(corpus)\n",
    "vectorizer.get_feature_names_out()\n",
    "\n",
    "print(X.toarray()) #Transforme le corpus en array\n",
    "\n",
    "# display the document-term matrix as a dataframe to show the tokens\n",
    "\n",
    "#X2 = vectorizer2.fit_transform(corpus)\n",
    "#vectorizer2.get_feature_names_out()"
   ]
  },
  {
   "cell_type": "code",
   "execution_count": 102,
   "id": "456d1b00-a234-493e-a5c7-1d85035235b3",
   "metadata": {},
   "outputs": [],
   "source": [
    "# création du bag of words (CountVectorizer et Tf-idf)\n",
    "\n",
    "from sklearn.feature_extraction.text import CountVectorizer, TfidfVectorizer\n",
    "\n",
    "cvect = CountVectorizer(stop_words='english', max_df=0.95, min_df=1)\n",
    "ctf = TfidfVectorizer(stop_words='english', max_df=0.95, min_df=1)\n",
    "\n",
    "feat = 'description_bow_lem'\n",
    "cv_fit = cvect.fit(df[feat])\n",
    "ctf_fit = ctf.fit(df[feat])\n",
    "\n",
    "cv_transform = cvect.transform(df[feat])  \n",
    "ctf_transform = ctf.transform(df[feat])  "
   ]
  },
  {
   "cell_type": "markdown",
   "id": "f97e544a-e7f0-46ab-990b-9e96b4a71d8e",
   "metadata": {},
   "source": [
    "## Exécution des modèles"
   ]
  },
  {
   "cell_type": "code",
   "execution_count": 103,
   "id": "6f7a2669-b8db-4c16-a4fa-4c609a76c047",
   "metadata": {},
   "outputs": [
    {
     "name": "stdout",
     "output_type": "stream",
     "text": [
      "CountVectorizer : \n",
      "-----------------\n",
      "ARI :  0.4345 time :  9.0\n",
      "\n",
      "Tf-idf : \n",
      "--------\n",
      "ARI :  0.5453 time :  7.0\n"
     ]
    }
   ],
   "source": [
    "print(\"CountVectorizer : \")\n",
    "print(\"-----------------\")\n",
    "ARI, X_tsne, labels = ARI_fct(cv_transform)\n",
    "print()\n",
    "print(\"Tf-idf : \")\n",
    "print(\"--------\")\n",
    "ARI, X_tsne, labels = ARI_fct(ctf_transform)"
   ]
  },
  {
   "cell_type": "markdown",
   "id": "e9b0338e-85e5-495a-8b32-73cfd5624c30",
   "metadata": {},
   "source": [
    "## Graphiques"
   ]
  },
  {
   "cell_type": "code",
   "execution_count": 104,
   "id": "8f246366-057f-4ee8-b2cc-f128731d8b8b",
   "metadata": {},
   "outputs": [
    {
     "data": {
      "image/png": "[encoded data removed]",
      "text/plain": [
       "<Figure size 1080x432 with 2 Axes>"
      ]
     },
     "metadata": {},
     "output_type": "display_data"
    },
    {
     "name": "stdout",
     "output_type": "stream",
     "text": [
      "ARI :  0.5453\n"
     ]
    }
   ],
   "source": [
    "TSNE_visu_fct(X_tsne, y_cat_num, labels, ARI)"
   ]
  }
 ],
 "metadata": {
  "kernelspec": {
   "display_name": "Python 3 (ipykernel)",
   "language": "python",
   "name": "python3"
  },
  "language_info": {
   "codemirror_mode": {
    "name": "ipython",
    "version": 3
   },
   "file_extension": ".py",
   "mimetype": "text/x-python",
   "name": "python",
   "nbconvert_exporter": "python",
   "pygments_lexer": "ipython3",
   "version": "3.9.12"
  },
  "toc-autonumbering": true
 },
 "nbformat": 4,
 "nbformat_minor": 5
}
